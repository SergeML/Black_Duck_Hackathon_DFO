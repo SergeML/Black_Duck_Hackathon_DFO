{
 "cells": [
  {
   "cell_type": "code",
   "execution_count": 1,
   "id": "a175e857-6e55-4079-89b8-be9b799a22fa",
   "metadata": {
    "execution": {
     "iopub.execute_input": "2024-06-01T20:52:37.159571Z",
     "iopub.status.busy": "2024-06-01T20:52:37.158431Z",
     "iopub.status.idle": "2024-06-01T20:52:55.028161Z",
     "shell.execute_reply": "2024-06-01T20:52:55.026961Z",
     "shell.execute_reply.started": "2024-06-01T20:52:37.159534Z"
    },
    "tags": []
   },
   "outputs": [
    {
     "name": "stderr",
     "output_type": "stream",
     "text": [
      "2024-06-01 20:52:40.083779: I tensorflow/core/platform/cpu_feature_guard.cc:182] This TensorFlow binary is optimized to use available CPU instructions in performance-critical operations.\n",
      "To enable the following instructions: AVX2 FMA, in other operations, rebuild TensorFlow with the appropriate compiler flags.\n",
      "2024-06-01 20:52:44.332918: W tensorflow/compiler/tf2tensorrt/utils/py_utils.cc:38] TF-TRT Warning: Could not find TensorRT\n"
     ]
    }
   ],
   "source": [
    "from tensorflow.keras.callbacks import EarlyStopping\n",
    "from tensorflow.keras.callbacks import ModelCheckpoint\n",
    "from tensorflow.keras.preprocessing.image import ImageDataGenerator\n",
    "from tensorflow.keras.losses import BinaryCrossentropy\n",
    "from tensorflow.keras import Sequential\n",
    "from tensorflow.keras.layers import Conv2D, Flatten, Dense, AvgPool2D, GlobalAveragePooling2D\n",
    "from tensorflow.keras.preprocessing.image import ImageDataGenerator\n",
    "from tensorflow.keras.applications.resnet import ResNet50\n",
    "from tensorflow.keras.optimizers import Adam\n",
    "from tensorflow.keras.metrics import Accuracy\n",
    "import cv2\n",
    "import numpy\n",
    "\n",
    "import pickle"
   ]
  },
  {
   "cell_type": "code",
   "execution_count": 2,
   "id": "2bf25f14-c34e-4fe3-b11d-ea2272c282ef",
   "metadata": {
    "execution": {
     "iopub.execute_input": "2024-06-01T20:52:55.032153Z",
     "iopub.status.busy": "2024-06-01T20:52:55.030365Z",
     "iopub.status.idle": "2024-06-01T20:52:55.140436Z",
     "shell.execute_reply": "2024-06-01T20:52:55.139302Z",
     "shell.execute_reply.started": "2024-06-01T20:52:55.032065Z"
    },
    "tags": []
   },
   "outputs": [],
   "source": [
    "import pandas as pd\n",
    "from tqdm import tqdm\n",
    "import numpy as np\n",
    "import imageio.v3 as iio\n",
    "import os\n",
    "from datetime import timedelta\n",
    "import sys\n",
    "from pathlib import Path "
   ]
  },
  {
   "cell_type": "markdown",
   "id": "50649afe-c8b2-4ba7-a4b4-f58d0f05ab84",
   "metadata": {},
   "source": [
    "## Подготовка данных из видео"
   ]
  },
  {
   "cell_type": "markdown",
   "id": "216c2e6a-217b-4f25-a147-140e313df8ab",
   "metadata": {},
   "source": [
    "Предполагается, что видео для инференса подгружаются в папку data/test/videos"
   ]
  },
  {
   "cell_type": "markdown",
   "id": "e11ff892-eea9-4659-accc-23a8aa658647",
   "metadata": {},
   "source": [
    "### Служебные функции"
   ]
  },
  {
   "cell_type": "code",
   "execution_count": 3,
   "id": "200644db-30a3-4128-b6dd-3942f18fce62",
   "metadata": {
    "execution": {
     "iopub.execute_input": "2024-06-01T20:52:59.077705Z",
     "iopub.status.busy": "2024-06-01T20:52:59.076303Z",
     "iopub.status.idle": "2024-06-01T20:52:59.101432Z",
     "shell.execute_reply": "2024-06-01T20:52:59.100156Z",
     "shell.execute_reply.started": "2024-06-01T20:52:59.077663Z"
    },
    "tags": []
   },
   "outputs": [],
   "source": [
    "def format_timedelta(td):\n",
    "    \"\"\"Служебная функция для классного форматирования объектов timedelta (например, 00:00:20.05)\n",
    "    исключая микросекунды и сохраняя миллисекунды\"\"\"\n",
    "    result = str(td)\n",
    "    try:\n",
    "        result, ms = result.split(\".\")\n",
    "    except ValueError:\n",
    "        return (result + \".00\").replace(\":\", \"-\")\n",
    "    ms = int(ms)\n",
    "    ms = round(ms / 1e4)\n",
    "    return f\"{result}.{ms:02}\".replace(\":\", \"-\")"
   ]
  },
  {
   "cell_type": "code",
   "execution_count": 4,
   "id": "083d77e3-2425-4581-881a-8056cab164c9",
   "metadata": {
    "execution": {
     "iopub.execute_input": "2024-06-01T20:53:00.037790Z",
     "iopub.status.busy": "2024-06-01T20:53:00.036222Z",
     "iopub.status.idle": "2024-06-01T20:53:00.072106Z",
     "shell.execute_reply": "2024-06-01T20:53:00.070882Z",
     "shell.execute_reply.started": "2024-06-01T20:53:00.037733Z"
    },
    "tags": []
   },
   "outputs": [],
   "source": [
    "def main(video_name, model_file):\n",
    "    \"\"\"\n",
    "    Функция выделяет в видео отрезки с нарушенями и за __ секунд до нарушения,\n",
    "    создает кадры и сохраняет их в заданную папку.\n",
    "    \n",
    "    Args:\n",
    "        video_name - название видео\n",
    "        model_file - имя файла с моделью\n",
    "    \"\"\"\n",
    "    # получить FPS видео\n",
    "    metadata = iio.immeta(os.path.join(os.getcwd(), 'data', 'test', 'videos', video_name),exclude_applied=False)\n",
    "    fps = metadata['fps']\n",
    "    clip_duration = metadata['duration']\n",
    "    # если SAVING_FRAMES_PER_SECOND выше видео FPS, то установите его на FPS (как максимум)\n",
    "    saving_frames_per_second = min(fps, SAVING_FRAMES_PER_SECOND)\n",
    "    # получить список длительностей   \n",
    "    # список тпйм-кодов для стоп-кадров    \n",
    "    list_time_codes = []    \n",
    "    for i in np.arange(0, clip_duration, 1 / saving_frames_per_second):\n",
    "        list_time_codes.append(i)\n",
    "    # получить список длительностей для сохранения\n",
    "    # запускаем цикл\n",
    "    count = 0    \n",
    "    res = {'frametime': [],\n",
    "            'score': []}\n",
    "    model = pickle.load(open(os.path.join(os.getcwd(), model_file), 'rb'))\n",
    "    \n",
    "    for frame in iio.imiter(os.path.join(os.getcwd(), 'data', 'test', 'videos', video_name), plugin=\"pyav\"):\n",
    "        frame_duration = count / fps\n",
    "        try:\n",
    "            # получить самую раннюю продолжительность для сохранения\n",
    "            closest_duration = list_time_codes[0]\n",
    "        except IndexError:\n",
    "            # список пуст, все кадры длительности сохранены\n",
    "            break\n",
    "        count += 1\n",
    "        if frame_duration >= closest_duration:\n",
    "            res['frametime'].append(count / fps)\n",
    "            if model_file == 'baseline.pkl':\n",
    "                #print(cv2.resize(frame,(224, 224)).shape)\n",
    "                res['score'].append(model.predict(cv2.resize(frame,(224, 224)).reshape([1, 224, 224, 3])))\n",
    "            elif model_file == 'ur_model_filename':\n",
    "                pass # добавить свою логику\n",
    "            else:\n",
    "                print('ПРОПИШИ ЛОГИКУ ПОД СВОЙ ПИКЛ С МОДЕЛЬЮ В СКРИПТЕ')\n",
    "                break\n",
    "            try:\n",
    "                list_time_codes.pop(0)\n",
    "            except IndexError:\n",
    "                pass\n",
    "        \n",
    "    res = pd.DataFrame(res)\n",
    "    res['model'] = model_file\n",
    "    res['filename'] = video_name\n",
    "    return res"
   ]
  },
  {
   "cell_type": "markdown",
   "id": "f6280c8e-e39d-41ee-82a7-414bee7dcc0f",
   "metadata": {},
   "source": [
    "## Инференс"
   ]
  },
  {
   "cell_type": "code",
   "execution_count": 5,
   "id": "2cabd400-8196-4cee-a947-8c836e21bf53",
   "metadata": {
    "execution": {
     "iopub.execute_input": "2024-06-01T20:53:01.270007Z",
     "iopub.status.busy": "2024-06-01T20:53:01.268459Z",
     "iopub.status.idle": "2024-06-01T20:53:01.317996Z",
     "shell.execute_reply": "2024-06-01T20:53:01.316753Z",
     "shell.execute_reply.started": "2024-06-01T20:53:01.269958Z"
    },
    "tags": []
   },
   "outputs": [],
   "source": [
    "SAVING_FRAMES_PER_SECOND = 1 # кол-во кадров  в секунду\n",
    "MODEL_FILE = 'baseline.pkl'"
   ]
  },
  {
   "cell_type": "code",
   "execution_count": 6,
   "id": "118b5a4a-48c2-4ec5-9108-fb47a2b4c623",
   "metadata": {
    "execution": {
     "iopub.execute_input": "2024-06-01T20:53:02.071807Z",
     "iopub.status.busy": "2024-06-01T20:53:02.070860Z",
     "iopub.status.idle": "2024-06-01T20:53:48.426280Z",
     "shell.execute_reply": "2024-06-01T20:53:48.425114Z",
     "shell.execute_reply.started": "2024-06-01T20:53:02.071774Z"
    },
    "tags": []
   },
   "outputs": [
    {
     "name": "stderr",
     "output_type": "stream",
     "text": [
      "  0%|          | 0/1 [00:00<?, ?it/s]2024-06-01 20:53:04.687201: I tensorflow/core/common_runtime/gpu/gpu_device.cc:1635] Created device /job:localhost/replica:0/task:0/device:GPU:0 with 31136 MB memory:  -> device: 0, name: Tesla V100-PCIE-32GB, pci bus id: 0000:8c:00.0, compute capability: 7.0\n",
      "2024-06-01 20:53:32.006368: I tensorflow/compiler/xla/stream_executor/cuda/cuda_dnn.cc:424] Loaded cuDNN version 8900\n"
     ]
    },
    {
     "name": "stdout",
     "output_type": "stream",
     "text": [
      "1/1 [==============================] - 4s 4s/step\n",
      "1/1 [==============================] - 0s 31ms/step\n",
      "1/1 [==============================] - 0s 33ms/step\n",
      "1/1 [==============================] - 0s 33ms/step\n",
      "1/1 [==============================] - 0s 31ms/step\n",
      "1/1 [==============================] - 0s 32ms/step\n",
      "1/1 [==============================] - 0s 33ms/step\n",
      "1/1 [==============================] - 0s 32ms/step\n",
      "1/1 [==============================] - 0s 32ms/step\n",
      "1/1 [==============================] - 0s 32ms/step\n",
      "1/1 [==============================] - 0s 32ms/step\n",
      "1/1 [==============================] - 0s 31ms/step\n",
      "1/1 [==============================] - 0s 32ms/step\n",
      "1/1 [==============================] - 0s 31ms/step\n",
      "1/1 [==============================] - 0s 31ms/step\n",
      "1/1 [==============================] - 0s 31ms/step\n",
      "1/1 [==============================] - 0s 33ms/step\n",
      "1/1 [==============================] - 0s 30ms/step\n",
      "1/1 [==============================] - 0s 31ms/step\n",
      "1/1 [==============================] - 0s 30ms/step\n",
      "1/1 [==============================] - 0s 32ms/step\n",
      "1/1 [==============================] - 0s 32ms/step\n",
      "1/1 [==============================] - 0s 31ms/step\n",
      "1/1 [==============================] - 0s 30ms/step\n",
      "1/1 [==============================] - 0s 33ms/step\n",
      "1/1 [==============================] - 0s 32ms/step\n",
      "1/1 [==============================] - 0s 31ms/step\n",
      "1/1 [==============================] - 0s 31ms/step\n"
     ]
    },
    {
     "name": "stderr",
     "output_type": "stream",
     "text": [
      "100%|██████████| 1/1 [00:46<00:00, 46.26s/it]\n"
     ]
    }
   ],
   "source": [
    "save_result_path = os.path.join(os.getcwd(), MODEL_FILE.split('.')[0], 'scores.csv')\n",
    "\n",
    "\n",
    "inf_result = pd.DataFrame()\n",
    "\n",
    "for f in tqdm([\n",
    "x for x in os.listdir(os.path.join(os.getcwd(), 'data', 'test', 'videos')) if x.lower().endswith('.mp4')\n",
    "]):\n",
    "    video_file = os.path.join(os.getcwd(), 'data', 'test', 'videos', f'{f}')  \n",
    "    video_df = main(f, MODEL_FILE)   \n",
    "    inf_result = pd.concat([inf_result, video_df], ignore_index=True)\n",
    "inf_result.to_csv(save_result_path)"
   ]
  },
  {
   "cell_type": "code",
   "execution_count": null,
   "id": "bf6bdc5e-f44d-46bc-927b-5a5c38f5c71a",
   "metadata": {},
   "outputs": [],
   "source": []
  }
 ],
 "metadata": {
  "kernelspec": {
   "display_name": "DataSphere Kernel",
   "language": "python",
   "name": "python3"
  },
  "language_info": {
   "name": ""
  }
 },
 "nbformat": 4,
 "nbformat_minor": 5
}
