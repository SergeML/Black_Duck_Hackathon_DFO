{
 "cells": [
  {
   "cell_type": "code",
   "execution_count": 36,
   "id": "a175e857-6e55-4079-89b8-be9b799a22fa",
   "metadata": {
    "execution": {
     "iopub.execute_input": "2024-06-01T15:24:11.458222Z",
     "iopub.status.busy": "2024-06-01T15:24:11.457274Z",
     "iopub.status.idle": "2024-06-01T15:24:13.297259Z",
     "shell.execute_reply": "2024-06-01T15:24:13.295978Z",
     "shell.execute_reply.started": "2024-06-01T15:24:11.458178Z"
    },
    "tags": []
   },
   "outputs": [],
   "source": [
    "from tensorflow.keras.callbacks import EarlyStopping\n",
    "from tensorflow.keras.callbacks import ModelCheckpoint\n",
    "from tensorflow.keras.preprocessing.image import ImageDataGenerator\n",
    "from tensorflow.keras.losses import BinaryCrossentropy\n",
    "from tensorflow.keras import Sequential\n",
    "from tensorflow.keras.layers import Conv2D, Flatten, Dense, AvgPool2D, GlobalAveragePooling2D\n",
    "from tensorflow.keras.preprocessing.image import ImageDataGenerator\n",
    "from tensorflow.keras.applications.resnet import ResNet50\n",
    "from tensorflow.keras.optimizers import Adam\n",
    "from tensorflow.keras.metrics import Accuracy\n",
    "import cv2\n",
    "\n",
    "import pickle"
   ]
  },
  {
   "cell_type": "code",
   "execution_count": 15,
   "id": "2bf25f14-c34e-4fe3-b11d-ea2272c282ef",
   "metadata": {
    "execution": {
     "iopub.execute_input": "2024-06-01T15:08:34.084418Z",
     "iopub.status.busy": "2024-06-01T15:08:34.083481Z",
     "iopub.status.idle": "2024-06-01T15:08:34.107632Z",
     "shell.execute_reply": "2024-06-01T15:08:34.106436Z",
     "shell.execute_reply.started": "2024-06-01T15:08:34.084367Z"
    },
    "tags": []
   },
   "outputs": [],
   "source": [
    "import pandas as pd\n",
    "from tqdm import tqdm\n",
    "import numpy as np\n",
    "import imageio.v3 as iio\n",
    "import os\n",
    "from datetime import timedelta\n",
    "import sys\n",
    "from pathlib import Path "
   ]
  },
  {
   "cell_type": "markdown",
   "id": "50649afe-c8b2-4ba7-a4b4-f58d0f05ab84",
   "metadata": {},
   "source": [
    "## Подготовка данных из видео"
   ]
  },
  {
   "cell_type": "markdown",
   "id": "216c2e6a-217b-4f25-a147-140e313df8ab",
   "metadata": {},
   "source": [
    "Предполагается, что видео для инференса подгружаются в папку data/test/videos"
   ]
  },
  {
   "cell_type": "markdown",
   "id": "e11ff892-eea9-4659-accc-23a8aa658647",
   "metadata": {},
   "source": [
    "### Служебные функции"
   ]
  },
  {
   "cell_type": "code",
   "execution_count": 16,
   "id": "200644db-30a3-4128-b6dd-3942f18fce62",
   "metadata": {
    "execution": {
     "iopub.execute_input": "2024-06-01T15:08:36.371446Z",
     "iopub.status.busy": "2024-06-01T15:08:36.369544Z",
     "iopub.status.idle": "2024-06-01T15:08:36.389884Z",
     "shell.execute_reply": "2024-06-01T15:08:36.388689Z",
     "shell.execute_reply.started": "2024-06-01T15:08:36.371377Z"
    },
    "tags": []
   },
   "outputs": [],
   "source": [
    "def format_timedelta(td):\n",
    "    \"\"\"Служебная функция для классного форматирования объектов timedelta (например, 00:00:20.05)\n",
    "    исключая микросекунды и сохраняя миллисекунды\"\"\"\n",
    "    result = str(td)\n",
    "    try:\n",
    "        result, ms = result.split(\".\")\n",
    "    except ValueError:\n",
    "        return (result + \".00\").replace(\":\", \"-\")\n",
    "    ms = int(ms)\n",
    "    ms = round(ms / 1e4)\n",
    "    return f\"{result}.{ms:02}\".replace(\":\", \"-\")"
   ]
  },
  {
   "cell_type": "code",
   "execution_count": 37,
   "id": "083d77e3-2425-4581-881a-8056cab164c9",
   "metadata": {
    "execution": {
     "iopub.execute_input": "2024-06-01T15:24:16.587816Z",
     "iopub.status.busy": "2024-06-01T15:24:16.586431Z",
     "iopub.status.idle": "2024-06-01T15:24:16.607445Z",
     "shell.execute_reply": "2024-06-01T15:24:16.606337Z",
     "shell.execute_reply.started": "2024-06-01T15:24:16.587770Z"
    },
    "tags": []
   },
   "outputs": [],
   "source": [
    "def main(video_name, model_file, delta):\n",
    "    \"\"\"\n",
    "    Функция выделяет в видео отрезки с нарушенями и за __ секунд до нарушения,\n",
    "    создает кадры и сохраняет их в заданную папку.\n",
    "    \n",
    "    Args:\n",
    "        video_name - название видео\n",
    "        delta - сколько секунд отступаем до нарушения\n",
    "        model_file - имя файла с моделью\n",
    "    \"\"\"\n",
    "    # получить FPS видео\n",
    "    metadata = iio.immeta(os.path.join(os.getcwd(), 'data', 'test', 'videos', video_name),exclude_applied=False)\n",
    "    fps = metadata['fps']\n",
    "    # если SAVING_FRAMES_PER_SECOND выше видео FPS, то установите его на FPS (как максимум)\n",
    "    # получить список длительностей для сохранения\n",
    "    # запускаем цикл\n",
    "    count = 0\n",
    "    save_frame_count = 0\n",
    "    res = {'frametime': [],\n",
    "            'score': []}\n",
    "    model = pickle.load(open(os.path.join(os.getcwd(), model_file), 'rb'))\n",
    "    for frame in iio.imiter(os.path.join(os.getcwd(), 'data', 'test', 'videos', video_name), plugin=\"pyav\"):\n",
    "        res['frametime'].append(count / fps)\n",
    "        if model_file == 'baseline.pkl':\n",
    "            res['score'].append(model.predict(cv2.resize(frame,(224, 224))))\n",
    "        elif model_file == 'ur_model_filename':\n",
    "            pass # добавить свою логику\n",
    "        else:\n",
    "            print('ПРОПИШИ ЛОГИКУ ПОД СВОЙ ПИКЛ С МОДЕЛЬЮ В СКРИПТЕ')\n",
    "            break\n",
    "        count += 1\n",
    "    res = pd.DataFrame(res)\n",
    "    res['model'] = model_file\n",
    "    res['filename'] = video_name\n",
    "    return res"
   ]
  },
  {
   "cell_type": "markdown",
   "id": "f6280c8e-e39d-41ee-82a7-414bee7dcc0f",
   "metadata": {},
   "source": [
    "## Инференс"
   ]
  },
  {
   "cell_type": "code",
   "execution_count": 38,
   "id": "2cabd400-8196-4cee-a947-8c836e21bf53",
   "metadata": {
    "execution": {
     "iopub.execute_input": "2024-06-01T15:24:17.318836Z",
     "iopub.status.busy": "2024-06-01T15:24:17.317294Z",
     "iopub.status.idle": "2024-06-01T15:24:17.337469Z",
     "shell.execute_reply": "2024-06-01T15:24:17.336212Z",
     "shell.execute_reply.started": "2024-06-01T15:24:17.318779Z"
    },
    "tags": []
   },
   "outputs": [],
   "source": [
    "SAVING_FRAMES_PER_SECOND = 1 # кол-во кадров  в секунду\n",
    "DELTA = 20 # отступаем до начала нарушения 5 сек\n",
    "MODEL_FILE = 'baseline.pkl'"
   ]
  },
  {
   "cell_type": "code",
   "execution_count": 39,
   "id": "118b5a4a-48c2-4ec5-9108-fb47a2b4c623",
   "metadata": {
    "execution": {
     "iopub.execute_input": "2024-06-01T15:24:18.269386Z",
     "iopub.status.busy": "2024-06-01T15:24:18.267992Z",
     "iopub.status.idle": "2024-06-01T15:24:44.950778Z",
     "shell.execute_reply": "2024-06-01T15:24:44.948879Z",
     "shell.execute_reply.started": "2024-06-01T15:24:18.269329Z"
    },
    "tags": []
   },
   "outputs": [
    {
     "name": "stderr",
     "output_type": "stream",
     "text": [
      "  0%|          | 0/1 [00:26<?, ?it/s]\n"
     ]
    },
    {
     "ename": "ValueError",
     "evalue": "in user code:\n\n    File \"/usr/local/lib/python3.10/dist-packages/keras/engine/training.py\", line 2169, in predict_function  *\n        return step_function(self, iterator)\n    File \"/usr/local/lib/python3.10/dist-packages/keras/engine/training.py\", line 2155, in step_function  **\n        outputs = model.distribute_strategy.run(run_step, args=(data,))\n    File \"/usr/local/lib/python3.10/dist-packages/keras/engine/training.py\", line 2143, in run_step  **\n        outputs = model.predict_step(data)\n    File \"/usr/local/lib/python3.10/dist-packages/keras/engine/training.py\", line 2111, in predict_step\n        return self(x, training=False)\n    File \"/usr/local/lib/python3.10/dist-packages/keras/utils/traceback_utils.py\", line 70, in error_handler\n        raise e.with_traceback(filtered_tb) from None\n    File \"/usr/local/lib/python3.10/dist-packages/keras/engine/input_spec.py\", line 298, in assert_input_compatibility\n        raise ValueError(\n\n    ValueError: Input 0 of layer \"sequential_1\" is incompatible with the layer: expected shape=(None, 224, 224, 3), found shape=(32, 224, 3)\n",
     "output_type": "error",
     "traceback": [
      "\u001b[0;31m---------------------------------------------------------------------------\u001b[0m",
      "\u001b[0;31mValueError\u001b[0m                                Traceback (most recent call last)",
      "\u001b[0;32m/tmp/ipykernel_5176/403681062.py\u001b[0m in \u001b[0;36m<cell line: 6>\u001b[0;34m()\u001b[0m\n\u001b[1;32m      8\u001b[0m ]):\n\u001b[1;32m      9\u001b[0m     \u001b[0mvideo_file\u001b[0m \u001b[0;34m=\u001b[0m \u001b[0mos\u001b[0m\u001b[0;34m.\u001b[0m\u001b[0mpath\u001b[0m\u001b[0;34m.\u001b[0m\u001b[0mjoin\u001b[0m\u001b[0;34m(\u001b[0m\u001b[0mos\u001b[0m\u001b[0;34m.\u001b[0m\u001b[0mgetcwd\u001b[0m\u001b[0;34m(\u001b[0m\u001b[0;34m)\u001b[0m\u001b[0;34m,\u001b[0m \u001b[0;34m'data'\u001b[0m\u001b[0;34m,\u001b[0m \u001b[0;34m'test'\u001b[0m\u001b[0;34m,\u001b[0m \u001b[0;34m'videos'\u001b[0m\u001b[0;34m,\u001b[0m \u001b[0;34mf'{f}'\u001b[0m\u001b[0;34m)\u001b[0m\u001b[0;34m\u001b[0m\u001b[0;34m\u001b[0m\u001b[0m\n\u001b[0;32m---> 10\u001b[0;31m     \u001b[0mvideo_df\u001b[0m \u001b[0;34m=\u001b[0m \u001b[0mmain\u001b[0m\u001b[0;34m(\u001b[0m\u001b[0mf\u001b[0m\u001b[0;34m,\u001b[0m \u001b[0mMODEL_FILE\u001b[0m\u001b[0;34m,\u001b[0m \u001b[0mDELTA\u001b[0m\u001b[0;34m)\u001b[0m\u001b[0;34m\u001b[0m\u001b[0;34m\u001b[0m\u001b[0m\n\u001b[0m\u001b[1;32m     11\u001b[0m     \u001b[0minf_result\u001b[0m \u001b[0;34m=\u001b[0m \u001b[0mpd\u001b[0m\u001b[0;34m.\u001b[0m\u001b[0mconcat\u001b[0m\u001b[0;34m(\u001b[0m\u001b[0;34m[\u001b[0m\u001b[0mimage_result_info\u001b[0m\u001b[0;34m,\u001b[0m \u001b[0mvideo_df\u001b[0m\u001b[0;34m]\u001b[0m\u001b[0;34m,\u001b[0m \u001b[0mignore_index\u001b[0m\u001b[0;34m=\u001b[0m\u001b[0;32mTrue\u001b[0m\u001b[0;34m)\u001b[0m\u001b[0;34m\u001b[0m\u001b[0;34m\u001b[0m\u001b[0m\n\u001b[1;32m     12\u001b[0m \u001b[0minf_result\u001b[0m\u001b[0;34m.\u001b[0m\u001b[0mto_csv\u001b[0m\u001b[0;34m(\u001b[0m\u001b[0msave_result_path\u001b[0m\u001b[0;34m)\u001b[0m\u001b[0;34m\u001b[0m\u001b[0;34m\u001b[0m\u001b[0m\n",
      "\u001b[0;32m/tmp/ipykernel_5176/1574868785.py\u001b[0m in \u001b[0;36mmain\u001b[0;34m(video_name, model_file, delta)\u001b[0m\n\u001b[1;32m     23\u001b[0m         \u001b[0mres\u001b[0m\u001b[0;34m[\u001b[0m\u001b[0;34m'frametime'\u001b[0m\u001b[0;34m]\u001b[0m\u001b[0;34m.\u001b[0m\u001b[0mappend\u001b[0m\u001b[0;34m(\u001b[0m\u001b[0mcount\u001b[0m \u001b[0;34m/\u001b[0m \u001b[0mfps\u001b[0m\u001b[0;34m)\u001b[0m\u001b[0;34m\u001b[0m\u001b[0;34m\u001b[0m\u001b[0m\n\u001b[1;32m     24\u001b[0m         \u001b[0;32mif\u001b[0m \u001b[0mmodel_file\u001b[0m \u001b[0;34m==\u001b[0m \u001b[0;34m'baseline.pkl'\u001b[0m\u001b[0;34m:\u001b[0m\u001b[0;34m\u001b[0m\u001b[0;34m\u001b[0m\u001b[0m\n\u001b[0;32m---> 25\u001b[0;31m             \u001b[0mres\u001b[0m\u001b[0;34m[\u001b[0m\u001b[0;34m'score'\u001b[0m\u001b[0;34m]\u001b[0m\u001b[0;34m.\u001b[0m\u001b[0mappend\u001b[0m\u001b[0;34m(\u001b[0m\u001b[0mmodel\u001b[0m\u001b[0;34m.\u001b[0m\u001b[0mpredict\u001b[0m\u001b[0;34m(\u001b[0m\u001b[0mcv2\u001b[0m\u001b[0;34m.\u001b[0m\u001b[0mresize\u001b[0m\u001b[0;34m(\u001b[0m\u001b[0mframe\u001b[0m\u001b[0;34m,\u001b[0m\u001b[0;34m(\u001b[0m\u001b[0;36m224\u001b[0m\u001b[0;34m,\u001b[0m \u001b[0;36m224\u001b[0m\u001b[0;34m)\u001b[0m\u001b[0;34m)\u001b[0m\u001b[0;34m)\u001b[0m\u001b[0;34m)\u001b[0m\u001b[0;34m\u001b[0m\u001b[0;34m\u001b[0m\u001b[0m\n\u001b[0m\u001b[1;32m     26\u001b[0m         \u001b[0;32melif\u001b[0m \u001b[0mmodel_file\u001b[0m \u001b[0;34m==\u001b[0m \u001b[0;34m'ur_model_filename'\u001b[0m\u001b[0;34m:\u001b[0m\u001b[0;34m\u001b[0m\u001b[0;34m\u001b[0m\u001b[0m\n\u001b[1;32m     27\u001b[0m             \u001b[0;32mpass\u001b[0m \u001b[0;31m# добавить свою логику\u001b[0m\u001b[0;34m\u001b[0m\u001b[0;34m\u001b[0m\u001b[0m\n",
      "\u001b[0;32m/usr/local/lib/python3.10/dist-packages/keras/utils/traceback_utils.py\u001b[0m in \u001b[0;36merror_handler\u001b[0;34m(*args, **kwargs)\u001b[0m\n\u001b[1;32m     68\u001b[0m             \u001b[0;31m# To get the full stack trace, call:\u001b[0m\u001b[0;34m\u001b[0m\u001b[0;34m\u001b[0m\u001b[0m\n\u001b[1;32m     69\u001b[0m             \u001b[0;31m# `tf.debugging.disable_traceback_filtering()`\u001b[0m\u001b[0;34m\u001b[0m\u001b[0;34m\u001b[0m\u001b[0m\n\u001b[0;32m---> 70\u001b[0;31m             \u001b[0;32mraise\u001b[0m \u001b[0me\u001b[0m\u001b[0;34m.\u001b[0m\u001b[0mwith_traceback\u001b[0m\u001b[0;34m(\u001b[0m\u001b[0mfiltered_tb\u001b[0m\u001b[0;34m)\u001b[0m \u001b[0;32mfrom\u001b[0m \u001b[0;32mNone\u001b[0m\u001b[0;34m\u001b[0m\u001b[0;34m\u001b[0m\u001b[0m\n\u001b[0m\u001b[1;32m     71\u001b[0m         \u001b[0;32mfinally\u001b[0m\u001b[0;34m:\u001b[0m\u001b[0;34m\u001b[0m\u001b[0;34m\u001b[0m\u001b[0m\n\u001b[1;32m     72\u001b[0m             \u001b[0;32mdel\u001b[0m \u001b[0mfiltered_tb\u001b[0m\u001b[0;34m\u001b[0m\u001b[0;34m\u001b[0m\u001b[0m\n",
      "\u001b[0;32m/usr/local/lib/python3.10/dist-packages/keras/engine/training.py\u001b[0m in \u001b[0;36mtf__predict_function\u001b[0;34m(iterator)\u001b[0m\n\u001b[1;32m     13\u001b[0m                 \u001b[0;32mtry\u001b[0m\u001b[0;34m:\u001b[0m\u001b[0;34m\u001b[0m\u001b[0;34m\u001b[0m\u001b[0m\n\u001b[1;32m     14\u001b[0m                     \u001b[0mdo_return\u001b[0m \u001b[0;34m=\u001b[0m \u001b[0;32mTrue\u001b[0m\u001b[0;34m\u001b[0m\u001b[0;34m\u001b[0m\u001b[0m\n\u001b[0;32m---> 15\u001b[0;31m                     \u001b[0mretval_\u001b[0m \u001b[0;34m=\u001b[0m \u001b[0mag__\u001b[0m\u001b[0;34m.\u001b[0m\u001b[0mconverted_call\u001b[0m\u001b[0;34m(\u001b[0m\u001b[0mag__\u001b[0m\u001b[0;34m.\u001b[0m\u001b[0mld\u001b[0m\u001b[0;34m(\u001b[0m\u001b[0mstep_function\u001b[0m\u001b[0;34m)\u001b[0m\u001b[0;34m,\u001b[0m \u001b[0;34m(\u001b[0m\u001b[0mag__\u001b[0m\u001b[0;34m.\u001b[0m\u001b[0mld\u001b[0m\u001b[0;34m(\u001b[0m\u001b[0mself\u001b[0m\u001b[0;34m)\u001b[0m\u001b[0;34m,\u001b[0m \u001b[0mag__\u001b[0m\u001b[0;34m.\u001b[0m\u001b[0mld\u001b[0m\u001b[0;34m(\u001b[0m\u001b[0miterator\u001b[0m\u001b[0;34m)\u001b[0m\u001b[0;34m)\u001b[0m\u001b[0;34m,\u001b[0m \u001b[0;32mNone\u001b[0m\u001b[0;34m,\u001b[0m \u001b[0mfscope\u001b[0m\u001b[0;34m)\u001b[0m\u001b[0;34m\u001b[0m\u001b[0;34m\u001b[0m\u001b[0m\n\u001b[0m\u001b[1;32m     16\u001b[0m                 \u001b[0;32mexcept\u001b[0m\u001b[0;34m:\u001b[0m\u001b[0;34m\u001b[0m\u001b[0;34m\u001b[0m\u001b[0m\n\u001b[1;32m     17\u001b[0m                     \u001b[0mdo_return\u001b[0m \u001b[0;34m=\u001b[0m \u001b[0;32mFalse\u001b[0m\u001b[0;34m\u001b[0m\u001b[0;34m\u001b[0m\u001b[0m\n",
      "\u001b[0;31mValueError\u001b[0m: in user code:\n\n    File \"/usr/local/lib/python3.10/dist-packages/keras/engine/training.py\", line 2169, in predict_function  *\n        return step_function(self, iterator)\n    File \"/usr/local/lib/python3.10/dist-packages/keras/engine/training.py\", line 2155, in step_function  **\n        outputs = model.distribute_strategy.run(run_step, args=(data,))\n    File \"/usr/local/lib/python3.10/dist-packages/keras/engine/training.py\", line 2143, in run_step  **\n        outputs = model.predict_step(data)\n    File \"/usr/local/lib/python3.10/dist-packages/keras/engine/training.py\", line 2111, in predict_step\n        return self(x, training=False)\n    File \"/usr/local/lib/python3.10/dist-packages/keras/utils/traceback_utils.py\", line 70, in error_handler\n        raise e.with_traceback(filtered_tb) from None\n    File \"/usr/local/lib/python3.10/dist-packages/keras/engine/input_spec.py\", line 298, in assert_input_compatibility\n        raise ValueError(\n\n    ValueError: Input 0 of layer \"sequential_1\" is incompatible with the layer: expected shape=(None, 224, 224, 3), found shape=(32, 224, 3)\n"
     ]
    }
   ],
   "source": [
    "save_result_path = os.path.join(os.getcwd(), MODEL_FILE, 'scores.csv')\n",
    "\n",
    "\n",
    "inf_result = pd.DataFrame()\n",
    "\n",
    "for f in tqdm([\n",
    "x for x in os.listdir(os.path.join(os.getcwd(), 'data', 'test', 'videos')) if x.lower().endswith('.mp4')\n",
    "]):\n",
    "    video_file = os.path.join(os.getcwd(), 'data', 'test', 'videos', f'{f}')  \n",
    "    video_df = main(f, MODEL_FILE, DELTA)   \n",
    "    inf_result = pd.concat([image_result_info, video_df], ignore_index=True)\n",
    "inf_result.to_csv(save_result_path)"
   ]
  },
  {
   "cell_type": "code",
   "execution_count": null,
   "id": "bf6bdc5e-f44d-46bc-927b-5a5c38f5c71a",
   "metadata": {},
   "outputs": [],
   "source": []
  }
 ],
 "metadata": {
  "kernelspec": {
   "display_name": "DataSphere Kernel",
   "language": "python",
   "name": "python3"
  },
  "language_info": {
   "name": ""
  }
 },
 "nbformat": 4,
 "nbformat_minor": 5
}
