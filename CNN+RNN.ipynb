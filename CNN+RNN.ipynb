{
 "cells": [
  {
   "cell_type": "code",
   "execution_count": 164,
   "id": "96fb9a2a-9f81-4dc9-8bfc-aa62e99833ca",
   "metadata": {},
   "outputs": [
    {
     "data": {
      "text/plain": [
       "device(type='cuda')"
      ]
     },
     "execution_count": 164,
     "metadata": {},
     "output_type": "execute_result"
    }
   ],
   "source": [
    "import os\n",
    "import json\n",
    "import random\n",
    "from tqdm.auto import tqdm\n",
    "from datetime import datetime\n",
    "\n",
    "import numpy as np\n",
    "import pandas as pd\n",
    "import matplotlib.pyplot as plt\n",
    "\n",
    "import torch\n",
    "import torch.nn as nn\n",
    "import torch.nn.functional as F\n",
    "import torchvision.transforms as transforms\n",
    "import torchvision.models as models\n",
    "\n",
    "from torch.utils.data import Dataset, WeightedRandomSampler\n",
    "from sklearn.model_selection import train_test_split\n",
    "\n",
    "import PIL\n",
    "from PIL import Image, ImageDraw\n",
    "\n",
    "os.environ['KMP_DUPLICATE_LIB_OK']='TRUE'\n",
    "\n",
    "device = torch.device('cuda' if torch.cuda.is_available() else 'cpu')\n",
    "device"
   ]
  },
  {
   "cell_type": "code",
   "execution_count": 117,
   "id": "791af70c-2f27-41ed-99f1-358d5c357e5d",
   "metadata": {},
   "outputs": [],
   "source": [
    "SEED = 42\n",
    "IMAGE_FOLDER = './data/train/images'\n",
    "DATA_MARKUP_FILE = './image_result_info.csv'\n",
    "SIZE_PACK_IMAGES = 8\n",
    "\n",
    "CNN_EMBEDDING_SIZE = 1280\n",
    "\n",
    "RNN_CLASSES = 1\n",
    "RNN_NUM_LAYERS = 2\n",
    "RNN_HIDDEN_SIZE = 256\n",
    "\n",
    "BATCH_SIZE = 8\n",
    "LEARNING_RATE = 1e-3\n",
    "\n",
    "\n",
    "def fix_seed(seed):\n",
    "    random.seed(seed)\n",
    "    np.random.seed(seed)\n",
    "    torch.manual_seed(seed)\n",
    "    torch.cuda.manual_seed_all(seed)\n",
    "    torch.backends.cudnn.deterministic = True"
   ]
  },
  {
   "cell_type": "markdown",
   "id": "59ab35e4-df14-4e44-8aeb-63d597c00c25",
   "metadata": {},
   "source": [
    "#### MODEL"
   ]
  },
  {
   "cell_type": "code",
   "execution_count": 177,
   "id": "8f2c2c0c-103c-4906-977a-660c980d8795",
   "metadata": {},
   "outputs": [],
   "source": [
    "class VideoCNN(nn.Module):\n",
    "    def __init__(self, input_size, hidden_size, num_layers, num_classes):\n",
    "        super(VideoCNN, self).__init__()\n",
    "        \n",
    "        self.CNN = models.efficientnet_b0(weights=models.EfficientNet_B0_Weights.IMAGENET1K_V1)\n",
    "        self.CNN.classifier[-1] = nn.Identity()\n",
    "\n",
    "        self.RNN = nn.LSTM(input_size, hidden_size, num_layers, batch_first=True)\n",
    "        self.FC = nn.Linear(hidden_size, num_classes)\n",
    "\n",
    "    def forward(self, batch_size, pack_size, input):\n",
    "        input = input.view(-1, 3, 256, 256)\n",
    "        \n",
    "        output = self.CNN(input).view(batch_size, pack_size, -1)\n",
    " \n",
    "        output, _ = self.RNN(output)\n",
    "        output = output[:, -1, :]\n",
    "        output = self.FC(output)\n",
    "\n",
    "        return output"
   ]
  },
  {
   "cell_type": "markdown",
   "id": "cb542077-948f-435f-a002-e21134da3599",
   "metadata": {},
   "source": [
    "#### DATALOADER"
   ]
  },
  {
   "cell_type": "code",
   "execution_count": 189,
   "id": "067d3361-a500-474f-8877-0e9f5c54fc6b",
   "metadata": {},
   "outputs": [],
   "source": [
    "class VideoDataset(Dataset):\n",
    "    def __init__(self, data_markup_file, image_folder, size_pack_images, transform, device='cpu'):\n",
    "        \n",
    "        self.size_pack_images = size_pack_images\n",
    "        self.image_folder = image_folder\n",
    "        self.transform = transform\n",
    "        self.device = device\n",
    "        \n",
    "        data = pd.read_csv(data_markup_file)\n",
    "        data['group'] = (data['target'] != data['target'].shift()).cumsum()\n",
    "\n",
    "        result = data.groupby('group').agg({'image_name': list, 'target': 'first'}).reset_index(drop=True)\n",
    "        result['pack_images'] = result['image_name'].apply(self.select_evenly)\n",
    "\n",
    "        self.dataset = result[['pack_images', 'target']]\n",
    "\n",
    "    def __getitem__(self, idx):        \n",
    "\n",
    "        image_paths = self.dataset['pack_images'][idx]\n",
    "        targets = torch.tensor(self.dataset['target'][idx]).unsqueeze(0).float()\n",
    "        \n",
    "        tensors = [self.load_image(path) for path in image_paths]\n",
    "        tensors = torch.stack(tensors).squeeze(0)\n",
    "        return tensors.to(device), targets.to(device)\n",
    "\n",
    "    def select_evenly(self, lst):\n",
    "        assert len(lst) >= self.size_pack_images, \"The minimum number of frames is less than SIZE_PACK_IMAGES\"\n",
    "        indices = np.linspace(0, len(lst) - 1, self.size_pack_images, dtype=int)\n",
    "        return [lst[i] for i in indices]\n",
    "\n",
    "\n",
    "    def load_image(self, filename):\n",
    "        with Image.open(self.image_folder + '/' + filename) as img:\n",
    "            image = np.array(img)\n",
    "            image = transform(image)\n",
    "            return image\n",
    "\n",
    "    def __len__(self):\n",
    "        return len(self.dataset)"
   ]
  },
  {
   "cell_type": "code",
   "execution_count": 190,
   "id": "711919d9-3a6b-426f-bf16-0aff6e5c7265",
   "metadata": {},
   "outputs": [],
   "source": [
    "transform = transforms.Compose([\n",
    "    transforms.ToTensor(),\n",
    "    transforms.Normalize((0.485, 0.456, 0.406), (0.229, 0.224, 0.225)),\n",
    "    transforms.Resize((256, 256))])"
   ]
  },
  {
   "cell_type": "code",
   "execution_count": 253,
   "id": "d81f3942-ff93-4c7f-a502-82bab5ce1447",
   "metadata": {},
   "outputs": [
    {
     "name": "stdout",
     "output_type": "stream",
     "text": [
      "Length train dataset: 15, length evaluate dataset: 6\n"
     ]
    }
   ],
   "source": [
    "train_data = VideoDataset(\n",
    "    DATA_MARKUP_FILE, \n",
    "    IMAGE_FOLDER, \n",
    "    SIZE_PACK_IMAGES, \n",
    "    transform, \n",
    "    device=device)\n",
    "\n",
    "eval_data = VideoDataset(\n",
    "    DATA_MARKUP_FILE, \n",
    "    IMAGE_FOLDER, \n",
    "    SIZE_PACK_IMAGES, \n",
    "    transform, \n",
    "    device=device)\n",
    "\n",
    "train, test = train_test_split(train_data.dataset[['pack_images', 'target']], random_state=SEED)\n",
    "train_data.dataset, eval_data.dataset = train.reset_index(drop=True), test.reset_index(drop=True)\n",
    "\n",
    "train_dataloader = torch.utils.data.DataLoader(train_data, batch_size=BATCH_SIZE, shuffle=True)\n",
    "eval_dataloader = torch.utils.data.DataLoader(eval_data, batch_size=BATCH_SIZE, shuffle=False)\n",
    "\n",
    "print(f'Length train dataset: {len(train_data)}, length evaluate dataset: {len(eval_data)}')"
   ]
  },
  {
   "cell_type": "markdown",
   "id": "2e114758-abe1-4e8e-bab7-c00cffea5947",
   "metadata": {},
   "source": [
    "#### TRAIN LOOP"
   ]
  },
  {
   "cell_type": "code",
   "execution_count": 250,
   "id": "9774241e-ff8f-4b30-a12a-f65dde84194d",
   "metadata": {},
   "outputs": [],
   "source": [
    "def evaluate(model, criterion, dataloader, verbose = False) -> float:\n",
    "    model.eval()\n",
    "    num_correct, num_all = 0, 0\n",
    "    with torch.no_grad():\n",
    "        for batch in dataloader:\n",
    "            images, labels = batch\n",
    "            batch_size = images.shape[0]\n",
    "            logits = model(batch_size, SIZE_PACK_IMAGES, images)\n",
    "            predictions = F.sigmoid(logits)\n",
    "            predictions = (predictions >= 0.5) * 1.\n",
    "\n",
    "            num_correct += torch.sum(predictions == labels)\n",
    "            num_all += len(labels)\n",
    "    \n",
    "    accuracy = num_correct / num_all\n",
    "\n",
    "    return accuracy\n",
    "\n",
    "def train_model(model, criterion, optimizer, num_epoch, verbose=False):\n",
    "    losses_train, losses_val = [], []\n",
    "    accuracy_train, accuracy_val, min_accuracy = [], [], 0\n",
    "\n",
    "    for epoch in range(num_epoch):\n",
    "        train_loss, val_loss = 0., 0.\n",
    "\n",
    "        model.train()\n",
    "        for batch in train_dataloader:\n",
    "            optimizer.zero_grad()\n",
    "            \n",
    "            images, labels = batch          \n",
    "            batch_size = images.shape[0]\n",
    "\n",
    "            logits = model(batch_size, SIZE_PACK_IMAGES, images)\n",
    "            loss = criterion(logits, labels)\n",
    "\n",
    "            loss.backward()\n",
    "            optimizer.step()        \n",
    "\n",
    "            train_loss += loss.item() / len(train_dataloader)\n",
    "\n",
    "        model.eval()\n",
    "        with torch.no_grad():\n",
    "            for batch in eval_dataloader:\n",
    "                images, labels = batch          \n",
    "                batch_size = images.shape[0]\n",
    "    \n",
    "                logits = model(batch_size, SIZE_PACK_IMAGES, images)\n",
    "                loss = criterion(logits, labels)\n",
    "\n",
    "                val_loss += loss.item() / len(eval_dataloader)\n",
    "        \n",
    "        current_accuracy_train = evaluate(model, criterion, train_dataloader, verbose).item()\n",
    "        current_accuracy_val = evaluate(model, criterion, eval_dataloader, verbose).item()\n",
    "       \n",
    "        losses_train.append(train_loss)\n",
    "        losses_val.append(val_loss)\n",
    "       \n",
    "        accuracy_train.append(current_accuracy_train)\n",
    "        accuracy_val.append(current_accuracy_val)\n",
    "\n",
    "        if current_accuracy_val > min_accuracy:\n",
    "            torch.save(model, 'CNN-RNN.pth')\n",
    "            min_accuracy = current_accuracy_val\n",
    "            \n",
    "        print (f'Epoch {epoch + 1} : train_loss: {train_loss:.4f}, eval_loss: {val_loss:.4f}, train_accuracy: {accuracy_train[-1]:.4f}, val_accuracy: {accuracy_val[-1]:.4f}')\n",
    "                \n",
    "    return (losses_train, losses_val), (accuracy_train, accuracy_val), model"
   ]
  },
  {
   "cell_type": "code",
   "execution_count": 251,
   "id": "5dd1b840-6999-44ef-b011-0dba20399d1f",
   "metadata": {},
   "outputs": [],
   "source": [
    "model = VideoCNN(\n",
    "    input_size=CNN_EMBEDDING_SIZE, \n",
    "    hidden_size=RNN_HIDDEN_SIZE, \n",
    "    num_layers=RNN_NUM_LAYERS, \n",
    "    num_classes=RNN_CLASSES\n",
    ").to(device)\n",
    "\n",
    "criterion = nn.BCEWithLogitsLoss()\n",
    "optimizer = torch.optim.AdamW(model.parameters(), lr=LEARNING_RATE, betas=(0.9, 0.999), weight_decay=5e-4)"
   ]
  },
  {
   "cell_type": "code",
   "execution_count": 252,
   "id": "d9b1d8fb-8553-406c-9c2d-9e7b8bdb1db9",
   "metadata": {},
   "outputs": [
    {
     "name": "stdout",
     "output_type": "stream",
     "text": [
      "Epoch 1 : train_loss: 0.6950, eval_loss: 0.6876, train_accuracy: 0.4000, val_accuracy: 0.6667\n",
      "Epoch 2 : train_loss: 0.6963, eval_loss: 0.6878, train_accuracy: 0.3333, val_accuracy: 0.6667\n",
      "Epoch 3 : train_loss: 0.6967, eval_loss: 0.6887, train_accuracy: 0.4667, val_accuracy: 0.5000\n",
      "Epoch 4 : train_loss: 0.6903, eval_loss: 0.6908, train_accuracy: 0.8000, val_accuracy: 0.3333\n",
      "Epoch 5 : train_loss: 0.6885, eval_loss: 0.6935, train_accuracy: 0.8000, val_accuracy: 0.1667\n",
      "Epoch 6 : train_loss: 0.6784, eval_loss: 0.6964, train_accuracy: 0.8000, val_accuracy: 0.3333\n",
      "Epoch 7 : train_loss: 0.6716, eval_loss: 0.6998, train_accuracy: 0.9333, val_accuracy: 0.3333\n",
      "Epoch 8 : train_loss: 0.6632, eval_loss: 0.7036, train_accuracy: 1.0000, val_accuracy: 0.3333\n",
      "Epoch 9 : train_loss: 0.6528, eval_loss: 0.7077, train_accuracy: 1.0000, val_accuracy: 0.3333\n",
      "Epoch 10 : train_loss: 0.6363, eval_loss: 0.7127, train_accuracy: 1.0000, val_accuracy: 0.3333\n"
     ]
    }
   ],
   "source": [
    "losses, accuracy, model = train_model(model, criterion, optimizer, 10)"
   ]
  }
 ],
 "metadata": {
  "kernelspec": {
   "display_name": "Python 3 (ipykernel)",
   "language": "python",
   "name": "python3"
  },
  "language_info": {
   "codemirror_mode": {
    "name": "ipython",
    "version": 3
   },
   "file_extension": ".py",
   "mimetype": "text/x-python",
   "name": "python",
   "nbconvert_exporter": "python",
   "pygments_lexer": "ipython3",
   "version": "3.11.9"
  }
 },
 "nbformat": 4,
 "nbformat_minor": 5
}
