{
 "cells": [
  {
   "cell_type": "markdown",
   "id": "d4c9e918-590e-46fa-8ab9-e1b9e8996ca3",
   "metadata": {},
   "source": [
    "## экспорт из ЯД"
   ]
  },
  {
   "cell_type": "code",
   "execution_count": 66,
   "id": "1e7587ca-a9cf-4ded-ada7-75e70b565339",
   "metadata": {
    "execution": {
     "iopub.execute_input": "2024-05-31T20:08:53.264091Z",
     "iopub.status.busy": "2024-05-31T20:08:53.262891Z",
     "iopub.status.idle": "2024-05-31T20:10:18.489790Z",
     "shell.execute_reply": "2024-05-31T20:10:18.488633Z",
     "shell.execute_reply.started": "2024-05-31T20:08:53.264017Z"
    },
    "tags": []
   },
   "outputs": [],
   "source": [
    "import requests\n",
    "from urllib.parse import urlencode\n",
    "from io import BytesIO\n",
    "from zipfile import ZipFile\n",
    "\n",
    "base_url = 'https://cloud-api.yandex.net/v1/disk/public/resources/download?'\n",
    "public_key = 'https://disk.yandex.ru/d/Xt2qqNtDXXE3xQ'\n",
    "\n",
    "final_url = base_url + urlencode(dict(public_key=public_key))\n",
    "response = requests.get(final_url)\n",
    "download_url = response.json()['href']\n",
    "response = requests.get(download_url)\n",
    "\n",
    "dist_path = os.path.join(os.getcwd(), 'data')\n",
    "zipfile = ZipFile(BytesIO(response.content))\n",
    "zipfile.extractall(path=dist_path)"
   ]
  },
  {
   "cell_type": "markdown",
   "id": "9ac003ec-5d02-44f7-b0e2-3ae88fbc2ebe",
   "metadata": {},
   "source": [
    "## обучение модели"
   ]
  },
  {
   "cell_type": "code",
   "execution_count": 67,
   "id": "51adbb3f-6f08-470d-8674-4ebad27a8786",
   "metadata": {
    "execution": {
     "iopub.execute_input": "2024-05-31T20:10:18.492855Z",
     "iopub.status.busy": "2024-05-31T20:10:18.491647Z",
     "iopub.status.idle": "2024-05-31T20:10:18.507812Z",
     "shell.execute_reply": "2024-05-31T20:10:18.506767Z",
     "shell.execute_reply.started": "2024-05-31T20:10:18.492805Z"
    },
    "tags": []
   },
   "outputs": [],
   "source": [
    "import pickle"
   ]
  },
  {
   "cell_type": "code",
   "execution_count": 68,
   "id": "318465db-1181-47db-90a7-fcaaa3fadb61",
   "metadata": {
    "execution": {
     "iopub.execute_input": "2024-05-31T20:10:18.510102Z",
     "iopub.status.busy": "2024-05-31T20:10:18.509065Z",
     "iopub.status.idle": "2024-05-31T20:10:18.522238Z",
     "shell.execute_reply": "2024-05-31T20:10:18.521171Z",
     "shell.execute_reply.started": "2024-05-31T20:10:18.510063Z"
    },
    "tags": []
   },
   "outputs": [],
   "source": [
    "import pandas as pd\n",
    "import matplotlib.pyplot as plt"
   ]
  },
  {
   "cell_type": "code",
   "execution_count": 69,
   "id": "da76b7ab-f885-4b9a-89ff-1a7402e79037",
   "metadata": {
    "execution": {
     "iopub.execute_input": "2024-05-31T20:10:18.525560Z",
     "iopub.status.busy": "2024-05-31T20:10:18.524468Z",
     "iopub.status.idle": "2024-05-31T20:10:18.544900Z",
     "shell.execute_reply": "2024-05-31T20:10:18.543679Z",
     "shell.execute_reply.started": "2024-05-31T20:10:18.525525Z"
    },
    "tags": []
   },
   "outputs": [],
   "source": [
    "from tensorflow.keras.callbacks import EarlyStopping\n",
    "from tensorflow.keras.callbacks import ModelCheckpoint\n",
    "from tensorflow.keras.preprocessing.image import ImageDataGenerator\n",
    "from tensorflow.keras.losses import BinaryCrossentropy\n",
    "from tensorflow.keras import Sequential\n",
    "from tensorflow.keras.layers import Conv2D, Flatten, Dense, AvgPool2D, GlobalAveragePooling2D\n",
    "from tensorflow.keras.preprocessing.image import ImageDataGenerator\n",
    "from tensorflow.keras.applications.resnet import ResNet50\n",
    "from tensorflow.keras.optimizers import Adam\n",
    "from tensorflow.keras.metrics import Accuracy"
   ]
  },
  {
   "cell_type": "code",
   "execution_count": 70,
   "id": "80fea22c-e5cd-464e-9d66-07160cdb6567",
   "metadata": {
    "execution": {
     "iopub.execute_input": "2024-05-31T20:10:18.547086Z",
     "iopub.status.busy": "2024-05-31T20:10:18.546129Z",
     "iopub.status.idle": "2024-05-31T20:10:18.566365Z",
     "shell.execute_reply": "2024-05-31T20:10:18.565268Z",
     "shell.execute_reply.started": "2024-05-31T20:10:18.547037Z"
    },
    "tags": []
   },
   "outputs": [],
   "source": [
    "import os"
   ]
  },
  {
   "cell_type": "markdown",
   "id": "8ecd19ce",
   "metadata": {},
   "source": [
    "## НАСТРОЙКА"
   ]
  },
  {
   "cell_type": "code",
   "execution_count": 71,
   "id": "3b46727f-8e22-42ff-9bef-8467d8785955",
   "metadata": {
    "execution": {
     "iopub.execute_input": "2024-05-31T20:10:18.568795Z",
     "iopub.status.busy": "2024-05-31T20:10:18.567673Z",
     "iopub.status.idle": "2024-05-31T20:10:18.607565Z",
     "shell.execute_reply": "2024-05-31T20:10:18.606510Z",
     "shell.execute_reply.started": "2024-05-31T20:10:18.568761Z"
    },
    "tags": []
   },
   "outputs": [
    {
     "data": {
      "text/html": [
       "<div>\n",
       "<style scoped>\n",
       "    .dataframe tbody tr th:only-of-type {\n",
       "        vertical-align: middle;\n",
       "    }\n",
       "\n",
       "    .dataframe tbody tr th {\n",
       "        vertical-align: top;\n",
       "    }\n",
       "\n",
       "    .dataframe thead th {\n",
       "        text-align: right;\n",
       "    }\n",
       "</style>\n",
       "<table border=\"1\" class=\"dataframe\">\n",
       "  <thead>\n",
       "    <tr style=\"text-align: right;\">\n",
       "      <th></th>\n",
       "      <th>video_name</th>\n",
       "      <th>video_num</th>\n",
       "      <th>image_name</th>\n",
       "      <th>frame_duration</th>\n",
       "      <th>target</th>\n",
       "      <th>description</th>\n",
       "    </tr>\n",
       "  </thead>\n",
       "  <tbody>\n",
       "    <tr>\n",
       "      <th>0</th>\n",
       "      <td>0000000_00000020240221082923_0001_IMP (1).mp4</td>\n",
       "      <td>0</td>\n",
       "      <td>video_0_frame_0-00-55.02_flag_0_violation_0.jpg</td>\n",
       "      <td>0-00-55.02</td>\n",
       "      <td>0</td>\n",
       "      <td>NaN</td>\n",
       "    </tr>\n",
       "    <tr>\n",
       "      <th>1</th>\n",
       "      <td>0000000_00000020240221082923_0001_IMP (1).mp4</td>\n",
       "      <td>0</td>\n",
       "      <td>video_0_frame_0-00-56.02_flag_0_violation_0.jpg</td>\n",
       "      <td>0-00-56.02</td>\n",
       "      <td>0</td>\n",
       "      <td>NaN</td>\n",
       "    </tr>\n",
       "    <tr>\n",
       "      <th>2</th>\n",
       "      <td>0000000_00000020240221082923_0001_IMP (1).mp4</td>\n",
       "      <td>0</td>\n",
       "      <td>video_0_frame_0-00-57.02_flag_0_violation_0.jpg</td>\n",
       "      <td>0-00-57.02</td>\n",
       "      <td>0</td>\n",
       "      <td>NaN</td>\n",
       "    </tr>\n",
       "    <tr>\n",
       "      <th>3</th>\n",
       "      <td>0000000_00000020240221082923_0001_IMP (1).mp4</td>\n",
       "      <td>0</td>\n",
       "      <td>video_0_frame_0-00-58.02_flag_0_violation_0.jpg</td>\n",
       "      <td>0-00-58.02</td>\n",
       "      <td>0</td>\n",
       "      <td>NaN</td>\n",
       "    </tr>\n",
       "    <tr>\n",
       "      <th>4</th>\n",
       "      <td>0000000_00000020240221082923_0001_IMP (1).mp4</td>\n",
       "      <td>0</td>\n",
       "      <td>video_0_frame_0-00-59.03_flag_0_violation_0.jpg</td>\n",
       "      <td>0-00-59.03</td>\n",
       "      <td>0</td>\n",
       "      <td>NaN</td>\n",
       "    </tr>\n",
       "    <tr>\n",
       "      <th>...</th>\n",
       "      <td>...</td>\n",
       "      <td>...</td>\n",
       "      <td>...</td>\n",
       "      <td>...</td>\n",
       "      <td>...</td>\n",
       "      <td>...</td>\n",
       "    </tr>\n",
       "    <tr>\n",
       "      <th>551</th>\n",
       "      <td>0000000_00000020240221084423_0002_IMP.mp4</td>\n",
       "      <td>1</td>\n",
       "      <td>video_1_frame_0-06-55.01_flag_0_violation_4.jpg</td>\n",
       "      <td>0-06-55.01</td>\n",
       "      <td>0</td>\n",
       "      <td>NaN</td>\n",
       "    </tr>\n",
       "    <tr>\n",
       "      <th>552</th>\n",
       "      <td>0000000_00000020240221084423_0002_IMP.mp4</td>\n",
       "      <td>1</td>\n",
       "      <td>video_1_frame_0-06-56.02_flag_0_violation_4.jpg</td>\n",
       "      <td>0-06-56.02</td>\n",
       "      <td>0</td>\n",
       "      <td>NaN</td>\n",
       "    </tr>\n",
       "    <tr>\n",
       "      <th>553</th>\n",
       "      <td>0000000_00000020240221084423_0002_IMP.mp4</td>\n",
       "      <td>1</td>\n",
       "      <td>video_1_frame_0-06-57.02_flag_0_violation_4.jpg</td>\n",
       "      <td>0-06-57.02</td>\n",
       "      <td>0</td>\n",
       "      <td>NaN</td>\n",
       "    </tr>\n",
       "    <tr>\n",
       "      <th>554</th>\n",
       "      <td>0000000_00000020240221084423_0002_IMP.mp4</td>\n",
       "      <td>1</td>\n",
       "      <td>video_1_frame_0-06-58.02_flag_0_violation_4.jpg</td>\n",
       "      <td>0-06-58.02</td>\n",
       "      <td>0</td>\n",
       "      <td>NaN</td>\n",
       "    </tr>\n",
       "    <tr>\n",
       "      <th>555</th>\n",
       "      <td>0000000_00000020240221084423_0002_IMP.mp4</td>\n",
       "      <td>1</td>\n",
       "      <td>video_1_frame_0-06-59.02_flag_0_violation_4.jpg</td>\n",
       "      <td>0-06-59.02</td>\n",
       "      <td>0</td>\n",
       "      <td>NaN</td>\n",
       "    </tr>\n",
       "  </tbody>\n",
       "</table>\n",
       "<p>556 rows × 6 columns</p>\n",
       "</div>"
      ],
      "text/plain": [
       "                                        video_name  ...  description\n",
       "0    0000000_00000020240221082923_0001_IMP (1).mp4  ...          NaN\n",
       "1    0000000_00000020240221082923_0001_IMP (1).mp4  ...          NaN\n",
       "2    0000000_00000020240221082923_0001_IMP (1).mp4  ...          NaN\n",
       "3    0000000_00000020240221082923_0001_IMP (1).mp4  ...          NaN\n",
       "4    0000000_00000020240221082923_0001_IMP (1).mp4  ...          NaN\n",
       "..                                             ...  ...          ...\n",
       "551      0000000_00000020240221084423_0002_IMP.mp4  ...          NaN\n",
       "552      0000000_00000020240221084423_0002_IMP.mp4  ...          NaN\n",
       "553      0000000_00000020240221084423_0002_IMP.mp4  ...          NaN\n",
       "554      0000000_00000020240221084423_0002_IMP.mp4  ...          NaN\n",
       "555      0000000_00000020240221084423_0002_IMP.mp4  ...          NaN\n",
       "\n",
       "[556 rows x 6 columns]"
      ]
     },
     "execution_count": 71,
     "metadata": {},
     "output_type": "execute_result"
    }
   ],
   "source": [
    "pd.read_csv(os.path.join(os.getcwd(), 'data', 'train', 'image_result_info.csv'), index_col=[0])"
   ]
  },
  {
   "cell_type": "code",
   "execution_count": 72,
   "id": "7b316ad3",
   "metadata": {
    "execution": {
     "iopub.execute_input": "2024-05-31T20:10:18.609994Z",
     "iopub.status.busy": "2024-05-31T20:10:18.608776Z",
     "iopub.status.idle": "2024-05-31T20:10:18.624323Z",
     "shell.execute_reply": "2024-05-31T20:10:18.623134Z",
     "shell.execute_reply.started": "2024-05-31T20:10:18.609946Z"
    },
    "tags": []
   },
   "outputs": [],
   "source": [
    "TARGET_NAME = 'target' #колонка с таргетом в датасете\n",
    "IMAGES_DIR = os.path.join(os.getcwd(), 'data', 'train', 'images') #папка с картинками\n",
    "DATASET_PATH = os.path.join(os.getcwd(), 'data', 'train', 'image_result_info.csv') #путь к датасету полный\n",
    "FILENAME_COL = 'image_name' #колонка с именем файла в датасете\n",
    "TARGET_SIZE = (224, 224) #tuple, размер ресайзинга\n",
    "BATCH_SIZE = 32 #размер батча\n",
    "EPOCHS = 100 #кол-во эпох\n",
    "#STEPS_PER_EPOCH = #шаги за эпоху\n",
    "#VALIDATION_STEPS = #шаги валидации\n",
    "INUT_SHAPE = (TARGET_SIZE[0], TARGET_SIZE[1] ,3)#размер входа для резнет\n",
    "LEARNING_RATE=0.0001"
   ]
  },
  {
   "cell_type": "code",
   "execution_count": 73,
   "id": "b4b9d344",
   "metadata": {
    "execution": {
     "iopub.execute_input": "2024-05-31T20:10:18.626976Z",
     "iopub.status.busy": "2024-05-31T20:10:18.625952Z",
     "iopub.status.idle": "2024-05-31T20:10:18.652812Z",
     "shell.execute_reply": "2024-05-31T20:10:18.651737Z",
     "shell.execute_reply.started": "2024-05-31T20:10:18.626943Z"
    },
    "tags": []
   },
   "outputs": [],
   "source": [
    "optimizer = Adam(learning_rate=LEARNING_RATE)\n",
    "\n",
    "\n",
    "def load_train():\n",
    "    train_datagen = ImageDataGenerator(rescale=1. / 255,\n",
    "                                       validation_split=0.25,\n",
    "                                       horizontal_flip=True,\n",
    "                                       rotation_range=30,)\n",
    "    train_gen_flow = train_datagen.flow_from_dataframe(\n",
    "        dataframe=pd.read_csv(DATASET_PATH),\n",
    "        directory=IMAGES_DIR,\n",
    "        x_col=FILENAME_COL,\n",
    "        y_col=TARGET_NAME,\n",
    "        target_size=TARGET_SIZE,\n",
    "        batch_size=BATCH_SIZE,\n",
    "        class_mode='raw',\n",
    "        subset='training',\n",
    "        seed=12345)\n",
    "\n",
    "    return train_gen_flow\n",
    "\n",
    "def load_test():\n",
    "    test_datagen = ImageDataGenerator(rescale=1. / 255,\n",
    "                                       validation_split=0.25,\n",
    "                                       horizontal_flip=True,\n",
    "                                       rotation_range=30,)\n",
    "    test_gen_flow = test_datagen.flow_from_dataframe(\n",
    "        dataframe=pd.read_csv(DATASET_PATH),\n",
    "        directory=IMAGES_DIR,\n",
    "        x_col=FILENAME_COL,\n",
    "        y_col=TARGET_NAME,\n",
    "        target_size=TARGET_SIZE,\n",
    "        batch_size=BATCH_SIZE,\n",
    "        class_mode='raw',\n",
    "        subset='validation',\n",
    "        seed=12345)\n",
    "\n",
    "    return test_gen_flow\n",
    "\n",
    "def create_model(input_shape):\n",
    "    backbone = ResNet50(input_shape=input_shape,\n",
    "                        weights='imagenet',\n",
    "                        include_top=False)\n",
    "    \n",
    "    backbone.trainable = False\n",
    "\n",
    "    model = Sequential()\n",
    "    model.add(backbone)\n",
    "    #новая голова\n",
    "    model.add(GlobalAveragePooling2D())\n",
    "    model.add(Dense(units=1000, activation='relu'))\n",
    "    model.add(Dense(units=1000, activation='relu'))\n",
    "    model.add(Dense(units=1, activation='softmax'))\n",
    "    model.compile(loss=BinaryCrossentropy(), optimizer=optimizer,\n",
    "                  metrics=['accuracy'])\n",
    "\n",
    "    return model\n",
    "\n",
    "def train_model(model, train_data, test_data, batch_size=None, epochs=10,\n",
    "                steps_per_epoch=None, validation_steps=None):\n",
    "    \n",
    "    early_stopping = EarlyStopping(monitor='val_loss', patience=10)\n",
    "    checkpoint_filepath = os.path.join(os.getcwd(), 'ckpt', 'checkpoint.model.keras')\n",
    "    model_checkpoint_callback = ModelCheckpoint(\n",
    "        filepath=checkpoint_filepath,\n",
    "        monitor='val_loss',\n",
    "        mode='max',\n",
    "        save_best_only=True\n",
    "    )\n",
    "\n",
    "    if steps_per_epoch is None:\n",
    "        steps_per_epoch = len(train_data)\n",
    "    if validation_steps is None:\n",
    "        validation_steps = len(test_data)\n",
    "    history = model.fit(train_data,\n",
    "              validation_data=test_data,\n",
    "              batch_size=batch_size,\n",
    "              steps_per_epoch=steps_per_epoch,\n",
    "              validation_steps=validation_steps,\n",
    "              verbose=2, epochs=epochs, shuffle=True,\n",
    "              callbacks = [early_stopping, model_checkpoint_callback])\n",
    "\n",
    "    return model, history\n"
   ]
  },
  {
   "cell_type": "code",
   "execution_count": 74,
   "id": "41318eaf",
   "metadata": {
    "execution": {
     "iopub.execute_input": "2024-05-31T20:10:18.656600Z",
     "iopub.status.busy": "2024-05-31T20:10:18.655539Z",
     "iopub.status.idle": "2024-05-31T20:14:57.356476Z",
     "shell.execute_reply": "2024-05-31T20:14:57.355168Z",
     "shell.execute_reply.started": "2024-05-31T20:10:18.656566Z"
    },
    "tags": []
   },
   "outputs": [
    {
     "name": "stdout",
     "output_type": "stream",
     "text": [
      "Found 417 validated image filenames.\n",
      "Found 139 validated image filenames.\n"
     ]
    },
    {
     "name": "stderr",
     "output_type": "stream",
     "text": [
      "2024-05-31 20:10:22.336391: I tensorflow/core/common_runtime/executor.cc:1197] [/device:CPU:0] (DEBUG INFO) Executor start aborting (this does not indicate an error and you can ignore this message): INVALID_ARGUMENT: You must feed a value for placeholder tensor 'Placeholder/_0' with dtype int32\n",
      "\t [[{{node Placeholder/_0}}]]\n"
     ]
    },
    {
     "name": "stdout",
     "output_type": "stream",
     "text": [
      "Epoch 1/100\n"
     ]
    },
    {
     "name": "stderr",
     "output_type": "stream",
     "text": [
      "2024-05-31 20:10:39.123059: I tensorflow/core/common_runtime/executor.cc:1197] [/device:CPU:0] (DEBUG INFO) Executor start aborting (this does not indicate an error and you can ignore this message): INVALID_ARGUMENT: You must feed a value for placeholder tensor 'Placeholder/_0' with dtype int32\n",
      "\t [[{{node Placeholder/_0}}]]\n"
     ]
    },
    {
     "name": "stdout",
     "output_type": "stream",
     "text": [
      "14/14 - 23s - loss: 0.1605 - accuracy: 0.9880 - val_loss: 0.4559 - val_accuracy: 0.9281 - 23s/epoch - 2s/step\n",
      "Epoch 2/100\n",
      "14/14 - 15s - loss: 0.0791 - accuracy: 0.9880 - val_loss: 0.4857 - val_accuracy: 0.9281 - 15s/epoch - 1s/step\n",
      "Epoch 3/100\n",
      "14/14 - 14s - loss: 0.0763 - accuracy: 0.9880 - val_loss: 0.4204 - val_accuracy: 0.9281 - 14s/epoch - 993ms/step\n",
      "Epoch 4/100\n",
      "14/14 - 14s - loss: 0.0682 - accuracy: 0.9880 - val_loss: 0.3547 - val_accuracy: 0.9281 - 14s/epoch - 993ms/step\n",
      "Epoch 5/100\n",
      "14/14 - 14s - loss: 0.0641 - accuracy: 0.9880 - val_loss: 0.3376 - val_accuracy: 0.9281 - 14s/epoch - 1s/step\n",
      "Epoch 6/100\n",
      "14/14 - 14s - loss: 0.0644 - accuracy: 0.9880 - val_loss: 0.3454 - val_accuracy: 0.9281 - 14s/epoch - 1s/step\n",
      "Epoch 7/100\n",
      "14/14 - 14s - loss: 0.0640 - accuracy: 0.9880 - val_loss: 0.3413 - val_accuracy: 0.9281 - 14s/epoch - 1s/step\n",
      "Epoch 8/100\n",
      "14/14 - 14s - loss: 0.0654 - accuracy: 0.9880 - val_loss: 0.3428 - val_accuracy: 0.9281 - 14s/epoch - 989ms/step\n",
      "Epoch 9/100\n",
      "14/14 - 14s - loss: 0.0637 - accuracy: 0.9880 - val_loss: 0.3274 - val_accuracy: 0.9281 - 14s/epoch - 981ms/step\n",
      "Epoch 10/100\n",
      "14/14 - 14s - loss: 0.0633 - accuracy: 0.9880 - val_loss: 0.3437 - val_accuracy: 0.9281 - 14s/epoch - 999ms/step\n",
      "Epoch 11/100\n",
      "14/14 - 14s - loss: 0.0637 - accuracy: 0.9880 - val_loss: 0.3369 - val_accuracy: 0.9281 - 14s/epoch - 986ms/step\n",
      "Epoch 12/100\n",
      "14/14 - 14s - loss: 0.0637 - accuracy: 0.9880 - val_loss: 0.3514 - val_accuracy: 0.9281 - 14s/epoch - 982ms/step\n",
      "Epoch 13/100\n",
      "14/14 - 14s - loss: 0.0630 - accuracy: 0.9880 - val_loss: 0.3444 - val_accuracy: 0.9281 - 14s/epoch - 1s/step\n",
      "Epoch 14/100\n",
      "14/14 - 14s - loss: 0.0631 - accuracy: 0.9880 - val_loss: 0.3371 - val_accuracy: 0.9281 - 14s/epoch - 1s/step\n",
      "Epoch 15/100\n",
      "14/14 - 14s - loss: 0.0623 - accuracy: 0.9880 - val_loss: 0.3367 - val_accuracy: 0.9281 - 14s/epoch - 995ms/step\n",
      "Epoch 16/100\n",
      "14/14 - 14s - loss: 0.0629 - accuracy: 0.9880 - val_loss: 0.3492 - val_accuracy: 0.9281 - 14s/epoch - 999ms/step\n",
      "Epoch 17/100\n",
      "14/14 - 14s - loss: 0.0622 - accuracy: 0.9880 - val_loss: 0.3302 - val_accuracy: 0.9281 - 14s/epoch - 992ms/step\n",
      "Epoch 18/100\n",
      "14/14 - 14s - loss: 0.0641 - accuracy: 0.9880 - val_loss: 0.3738 - val_accuracy: 0.9281 - 14s/epoch - 998ms/step\n",
      "Epoch 19/100\n",
      "14/14 - 14s - loss: 0.0617 - accuracy: 0.9880 - val_loss: 0.3455 - val_accuracy: 0.9281 - 14s/epoch - 987ms/step\n"
     ]
    }
   ],
   "source": [
    "model, history = train_model(\n",
    "    create_model(INUT_SHAPE),\n",
    "    load_train(),\n",
    "    load_test(),\n",
    "    batch_size=BATCH_SIZE,\n",
    "    epochs=EPOCHS,\n",
    "    #steps_per_epoch=STEPS_PER_EPOCH,\n",
    "    #validation_steps=VALIDATION_STEPS\n",
    "    )"
   ]
  },
  {
   "cell_type": "code",
   "execution_count": 75,
   "id": "c852a7f5",
   "metadata": {
    "execution": {
     "iopub.execute_input": "2024-05-31T20:14:57.362850Z",
     "iopub.status.busy": "2024-05-31T20:14:57.359816Z",
     "iopub.status.idle": "2024-05-31T20:14:59.411553Z",
     "shell.execute_reply": "2024-05-31T20:14:59.410061Z",
     "shell.execute_reply.started": "2024-05-31T20:14:57.362798Z"
    },
    "tags": []
   },
   "outputs": [],
   "source": [
    "pickle.dump(model, open('baseline.pkl', 'wb'))"
   ]
  },
  {
   "cell_type": "code",
   "execution_count": 76,
   "id": "baf0e143",
   "metadata": {
    "execution": {
     "iopub.execute_input": "2024-05-31T20:14:59.413920Z",
     "iopub.status.busy": "2024-05-31T20:14:59.413004Z",
     "iopub.status.idle": "2024-05-31T20:14:59.673551Z",
     "shell.execute_reply": "2024-05-31T20:14:59.672434Z",
     "shell.execute_reply.started": "2024-05-31T20:14:59.413867Z"
    },
    "tags": []
   },
   "outputs": [
    {
     "data": {
      "image/png": "[encoded data removed]",
      "text/plain": [
       "<Figure size 640x480 with 1 Axes>"
      ]
     },
     "metadata": {},
     "output_type": "display_data"
    }
   ],
   "source": [
    "loss_train_curve = history.history[\"loss\"]\n",
    "loss_val_curve = history.history[\"val_loss\"]\n",
    "plt.plot(loss_train_curve, label = \"Train\")\n",
    "plt.plot(loss_val_curve, label = \"Validation\")\n",
    "plt.legend(loc = 'upper right')\n",
    "plt.title(\"Loss\")\n",
    "plt.show()"
   ]
  },
  {
   "cell_type": "code",
   "execution_count": 77,
   "id": "ef9883ec",
   "metadata": {
    "execution": {
     "iopub.execute_input": "2024-05-31T20:14:59.675641Z",
     "iopub.status.busy": "2024-05-31T20:14:59.674707Z",
     "iopub.status.idle": "2024-05-31T20:14:59.943794Z",
     "shell.execute_reply": "2024-05-31T20:14:59.942785Z",
     "shell.execute_reply.started": "2024-05-31T20:14:59.675597Z"
    },
    "tags": []
   },
   "outputs": [
    {
     "data": {
      "image/png": "[encoded data removed]",
      "text/plain": [
       "<Figure size 640x480 with 1 Axes>"
      ]
     },
     "metadata": {},
     "output_type": "display_data"
    }
   ],
   "source": [
    "acc_train_curve = history.history[\"accuracy\"]\n",
    "acc_val_curve = history.history[\"val_accuracy\"]\n",
    "plt.plot(acc_train_curve, label = \"Train\")\n",
    "plt.plot(acc_val_curve, label = \"Validation\")\n",
    "plt.legend(loc = 'lower right')\n",
    "plt.title(\"Accuracy\")\n",
    "plt.show()"
   ]
  },
  {
   "cell_type": "code",
   "execution_count": null,
   "id": "5f5a6098-98fb-4878-8746-aed94379a079",
   "metadata": {},
   "outputs": [],
   "source": []
  }
 ],
 "metadata": {
  "kernelspec": {
   "display_name": "DataSphere Kernel",
   "language": "python",
   "name": "python3"
  },
  "language_info": {
   "codemirror_mode": {
    "name": "ipython",
    "version": 3
   },
   "file_extension": ".py",
   "mimetype": "text/x-python",
   "name": "python",
   "nbconvert_exporter": "python",
   "pygments_lexer": "ipython3",
   "version": "3.8.8"
  }
 },
 "nbformat": 4,
 "nbformat_minor": 5
}
