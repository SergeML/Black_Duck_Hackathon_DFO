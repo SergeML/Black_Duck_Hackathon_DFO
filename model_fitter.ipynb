{
 "cells": [
  {
   "cell_type": "code",
   "execution_count": null,
   "id": "0b8f781c",
   "metadata": {},
   "outputs": [],
   "source": [
    "import pickle\n",
    "\n",
    "import pandas as pd\n",
    "import matplotlib.pyplot as plt\n",
    "\n",
    "from tensorflow.keras.preprocessing.image import ImageDataGenerator\n",
    "from tensorflow.keras.losses import BinaryCrossentropy\n",
    "from tensorflow.keras import Sequential\n",
    "from tensorflow.keras.layers import Conv2D, Flatten, Dense, AvgPool2D, GlobalAveragePooling2D\n",
    "from tensorflow.keras.preprocessing.image import ImageDataGenerator\n",
    "from tensorflow.keras.applications.resnet import ResNet50\n",
    "from tensorflow.keras.optimizers import Adam\n",
    "from tensorflow.keras.metrics import Accuracy"
   ]
  },
  {
   "cell_type": "markdown",
   "id": "8ecd19ce",
   "metadata": {},
   "source": [
    "## НАСТРОЙКА"
   ]
  },
  {
   "cell_type": "code",
   "execution_count": null,
   "id": "7b316ad3",
   "metadata": {},
   "outputs": [],
   "source": [
    "TARGET_NAME = #колонка с таргетом в датасете\n",
    "IMAGES_DIR = #папка с картинками\n",
    "DATASET_PATH = #путь к датасету полный\n",
    "FILENAME_COL = #колонка с именем файла в датасете\n",
    "TARGET_SIZE = (224, 224) #tuple, размер ресайзинга\n",
    "BATCH_SIZE = 32 #размер батча\n",
    "EPOCHS = 10 #кол-во эпох\n",
    "STEPS_PER_EPOCH = #шаги за эпоху\n",
    "VALIDATION_STEPS = #шаги валидации\n",
    "INUT_SHAPE = (TARGET_SIZE[0], TARGET_SIZE[1] ,3)#размер входа для резнет\n",
    "LEARNING_RATE=0.0001"
   ]
  },
  {
   "cell_type": "code",
   "execution_count": null,
   "id": "b4b9d344",
   "metadata": {},
   "outputs": [],
   "source": [
    "optimizer = Adam(learning_rate=LEARNING_RATE)\n",
    "\n",
    "\n",
    "def load_train(path):\n",
    "    train_datagen = ImageDataGenerator(rescale=1. / 255,\n",
    "                                       validation_split=0.25,\n",
    "                                       horizontal_flip=True,\n",
    "                                       rotation_range=30,)\n",
    "    train_gen_flow = train_datagen.flow_from_dataframe(\n",
    "        dataframe=pd.read_csv(DATASET_PATH),\n",
    "        directory=IMAGES_DIR,\n",
    "        x_col=TARGET_NAME,\n",
    "        y_col=IMAGES_PATH,\n",
    "        target_size=TARGET_SIZE,\n",
    "        batch_size=BATCH_SIZE,\n",
    "        class_mode='binary',\n",
    "        subset='training',\n",
    "        seed=12345)\n",
    "\n",
    "    return train_gen_flow\n",
    "\n",
    "def load_test(path):\n",
    "    train_gen_flow = train_datagen.flow_from_dataframe(\n",
    "        dataframe=pd.read_csv(DATASET_PATH),\n",
    "        directory=IMAGES_DIR,\n",
    "        x_col=TARGET_NAME,\n",
    "        y_col=IMAGES_PATH,\n",
    "        target_size=TARGET_SIZE,\n",
    "        batch_size=BATCH_SIZE,\n",
    "        class_mode='binary',\n",
    "        subset='validation',\n",
    "        seed=12345)\n",
    "\n",
    "    return test_gen_flow\n",
    "\n",
    "def create_model(input_shape):\n",
    "    backbone = ResNet50(input_shape=input_shape,\n",
    "                        weights='imagenet',\n",
    "                        include_top=False)\n",
    "    \n",
    "    backbone.trainable = False\n",
    "\n",
    "    model = Sequential()\n",
    "    model.add(backbone)\n",
    "    #новая голова\n",
    "    model.add(GlobalAveragePooling2D())\n",
    "    model.add(Dense(units=1000, activation='relu'))\n",
    "    model.add(Dense(units=1000, activation='relu'))\n",
    "    model.add(Dense(units=1, activation='softmax'))\n",
    "    model.compile(loss=BinaryCrossentropy(), optimizer=optimizer,\n",
    "                  metrics=['accuracy'])\n",
    "\n",
    "    return model\n",
    "\n",
    "def train_model(model, train_data, test_data, batch_size=None, epochs=10,\n",
    "                steps_per_epoch=None, validation_steps=None):\n",
    "\n",
    "    if steps_per_epoch is None:\n",
    "        steps_per_epoch = len(train_data)\n",
    "    if validation_steps is None:\n",
    "        validation_steps = len(test_data)\n",
    "\n",
    "    model.fit(train_data,\n",
    "              validation_data=test_data,\n",
    "              batch_size=batch_size,\n",
    "              steps_per_epoch=steps_per_epoch,\n",
    "              validation_steps=validation_steps,\n",
    "              verbose=2, epochs=epochs, shuffle=True)\n",
    "\n",
    "    return model\n"
   ]
  },
  {
   "cell_type": "code",
   "execution_count": null,
   "id": "41318eaf",
   "metadata": {},
   "outputs": [],
   "source": [
    "model = train_model(\n",
    "    create_model(INUT_SHAPE),\n",
    "    load_train(),\n",
    "    load_test(),\n",
    "    batch_size=BATCH_SIZE,\n",
    "    epochs=EPOCHS,\n",
    "    steps_per_epoch=STEPS_PER_EPOCH,\n",
    "    validation_steps=VALIDATION_STEPS\n",
    "    )"
   ]
  },
  {
   "cell_type": "code",
   "execution_count": null,
   "id": "c852a7f5",
   "metadata": {},
   "outputs": [],
   "source": [
    "pickle.dump(model, open('baseline.pkl', 'wb'))"
   ]
  },
  {
   "cell_type": "code",
   "execution_count": null,
   "id": "baf0e143",
   "metadata": {},
   "outputs": [],
   "source": [
    "loss_train_curve = model.history[\"loss\"]\n",
    "loss_val_curve = model.history[\"val_loss\"]\n",
    "plt.plot(loss_train_curve, label = \"Train\")\n",
    "plt.plot(loss_val_curve, label = \"Validation\")\n",
    "plt.legend(loc = 'upper right')\n",
    "plt.title(\"Loss\")\n",
    "plt.show()"
   ]
  },
  {
   "cell_type": "code",
   "execution_count": null,
   "id": "ef9883ec",
   "metadata": {},
   "outputs": [],
   "source": [
    "acc_train_curve = model.history[\"accuracy\"]\n",
    "acc_val_curve = model.history[\"val_accuracy\"]\n",
    "plt.plot(acc_train_curve, label = \"Train\")\n",
    "plt.plot(acc_val_curve, label = \"Validation\")\n",
    "plt.legend(loc = 'lower right')\n",
    "plt.title(\"Accuracy\")\n",
    "plt.show()"
   ]
  }
 ],
 "metadata": {
  "kernelspec": {
   "display_name": "Python 3",
   "language": "python",
   "name": "python3"
  },
  "language_info": {
   "codemirror_mode": {
    "name": "ipython",
    "version": 3
   },
   "file_extension": ".py",
   "mimetype": "text/x-python",
   "name": "python",
   "nbconvert_exporter": "python",
   "pygments_lexer": "ipython3",
   "version": "3.8.8"
  }
 },
 "nbformat": 4,
 "nbformat_minor": 5
}
