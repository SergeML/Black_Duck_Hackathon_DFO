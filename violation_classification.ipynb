{
  "nbformat": 4,
  "nbformat_minor": 0,
  "metadata": {
    "colab": {
      "provenance": [],
      "machine_shape": "hm",
      "gpuType": "A100"
    },
    "kernelspec": {
      "name": "python3",
      "display_name": "Python 3"
    },
    "language_info": {
      "name": "python"
    },
    "accelerator": "GPU"
  },
  "cells": [
    {
      "cell_type": "code",
      "source": [
        "!pip install ultralytics --quiet"
      ],
      "metadata": {
        "colab": {
          "base_uri": "https://localhost:8080/"
        },
        "id": "oMZG8X7Y2XHf",
        "outputId": "e73f5ec3-9a47-41e7-86a7-f334bb29ac03"
      },
      "execution_count": null,
      "outputs": [
        {
          "output_type": "stream",
          "name": "stdout",
          "text": [
            "\u001b[2K     \u001b[90m━━━━━━━━━━━━━━━━━━━━━━━━━━━━━━━━━━━━━━━━\u001b[0m \u001b[32m779.6/779.6 kB\u001b[0m \u001b[31m3.8 MB/s\u001b[0m eta \u001b[36m0:00:00\u001b[0m\n",
            "\u001b[2K     \u001b[90m━━━━━━━━━━━━━━━━━━━━━━━━━━━━━━━━━━━━━━━━\u001b[0m \u001b[32m21.3/21.3 MB\u001b[0m \u001b[31m14.1 MB/s\u001b[0m eta \u001b[36m0:00:00\u001b[0m\n",
            "\u001b[?25h"
          ]
        }
      ]
    },
    {
      "cell_type": "code",
      "execution_count": null,
      "metadata": {
        "colab": {
          "base_uri": "https://localhost:8080/"
        },
        "id": "dce7I-D71Wv4",
        "outputId": "8bee015d-c99c-4ec4-93ee-6a219e5e13a5"
      },
      "outputs": [
        {
          "output_type": "stream",
          "name": "stdout",
          "text": [
            "\u001b[2K     \u001b[90m━━━━━━━━━━━━━━━━━━━━━━━━━━━━━━━━━━━━━━━━\u001b[0m \u001b[32m75.5/75.5 kB\u001b[0m \u001b[31m1.0 MB/s\u001b[0m eta \u001b[36m0:00:00\u001b[0m\n",
            "\u001b[2K     \u001b[90m━━━━━━━━━━━━━━━━━━━━━━━━━━━━━━━━━━━━━━━━\u001b[0m \u001b[32m158.3/158.3 kB\u001b[0m \u001b[31m1.1 MB/s\u001b[0m eta \u001b[36m0:00:00\u001b[0m\n",
            "\u001b[2K     \u001b[90m━━━━━━━━━━━━━━━━━━━━━━━━━━━━━━━━━━━━━━━━\u001b[0m \u001b[32m178.7/178.7 kB\u001b[0m \u001b[31m1.2 MB/s\u001b[0m eta \u001b[36m0:00:00\u001b[0m\n",
            "\u001b[2K     \u001b[90m━━━━━━━━━━━━━━━━━━━━━━━━━━━━━━━━━━━━━━━━\u001b[0m \u001b[32m58.8/58.8 kB\u001b[0m \u001b[31m1.2 MB/s\u001b[0m eta \u001b[36m0:00:00\u001b[0m\n",
            "\u001b[2K     \u001b[90m━━━━━━━━━━━━━━━━━━━━━━━━━━━━━━━━━━━━━━━━\u001b[0m \u001b[32m49.1/49.1 MB\u001b[0m \u001b[31m5.9 MB/s\u001b[0m eta \u001b[36m0:00:00\u001b[0m\n",
            "\u001b[2K     \u001b[90m━━━━━━━━━━━━━━━━━━━━━━━━━━━━━━━━━━━━━━━━\u001b[0m \u001b[32m54.5/54.5 kB\u001b[0m \u001b[31m5.5 MB/s\u001b[0m eta \u001b[36m0:00:00\u001b[0m\n",
            "loading Roboflow workspace...\n",
            "loading Roboflow project...\n"
          ]
        },
        {
          "output_type": "stream",
          "name": "stderr",
          "text": [
            "Downloading Dataset Version Zip in violation_classification-1 to folder:: 100%|██████████| 214355/214355 [00:03<00:00, 68945.62it/s]"
          ]
        },
        {
          "output_type": "stream",
          "name": "stdout",
          "text": [
            "\n"
          ]
        },
        {
          "output_type": "stream",
          "name": "stderr",
          "text": [
            "\n",
            "Extracting Dataset Version Zip to violation_classification-1 in folder:: 100%|██████████| 2741/2741 [00:00<00:00, 3660.53it/s]\n"
          ]
        }
      ],
      "source": [
        "!pip install roboflow --quiet\n",
        "\n",
        "from roboflow import Roboflow\n",
        "rf = Roboflow(api_key=\"6bZT97DLGDvTioSNdmV9\")\n",
        "project = rf.workspace(\"buda-vampilov\").project(\"violation_classification\")\n",
        "version = project.version(1)\n",
        "dataset = version.download(\"folder\")\n",
        "!mv /content/violation_classification-1/valid /content/violation_classification-1/val"
      ]
    },
    {
      "cell_type": "code",
      "source": [
        "from google.colab import drive\n",
        "drive.mount('/content/drive')"
      ],
      "metadata": {
        "colab": {
          "base_uri": "https://localhost:8080/"
        },
        "id": "FSUWBGpV5_wJ",
        "outputId": "38d3e0eb-96b2-49f3-848f-dff5c6ca837d"
      },
      "execution_count": null,
      "outputs": [
        {
          "output_type": "stream",
          "name": "stdout",
          "text": [
            "Mounted at /content/drive\n"
          ]
        }
      ]
    },
    {
      "cell_type": "code",
      "source": [
        "!cp /content/drive/MyDrive/yolov8m-cls.pt ."
      ],
      "metadata": {
        "id": "dgCgepmL8Q_j"
      },
      "execution_count": null,
      "outputs": []
    },
    {
      "cell_type": "code",
      "source": [
        "from ultralytics import YOLO\n",
        "\n",
        "# Load a model\n",
        "model = YOLO(\"yolov8n-cls.pt\")  # load a pretrained model (recommended for training)\n",
        "\n",
        "# Train the model\n",
        "results = model.train(data=\"/content/violation_classification-1\", epochs=1000, imgsz=224,\n",
        "                      fliplr=0.5,\n",
        "                      degrees=7.5,\n",
        "                      perspective=0.000025)"
      ],
      "metadata": {
        "colab": {
          "base_uri": "https://localhost:8080/"
        },
        "id": "I2k6N9NQ8YL4",
        "outputId": "d706041a-8e09-4c38-d0d4-dc511be87da7"
      },
      "execution_count": null,
      "outputs": [
        {
          "output_type": "stream",
          "name": "stdout",
          "text": [
            "Ultralytics YOLOv8.2.27 🚀 Python-3.10.12 torch-2.3.0+cu121 CUDA:0 (NVIDIA A100-SXM4-40GB, 40514MiB)\n",
            "\u001b[34m\u001b[1mengine/trainer: \u001b[0mtask=classify, mode=train, model=yolov8n-cls.pt, data=/content/violation_classification-1, epochs=1000, time=None, patience=100, batch=16, imgsz=224, save=True, save_period=-1, cache=False, device=None, workers=8, project=None, name=train, exist_ok=False, pretrained=True, optimizer=auto, verbose=True, seed=0, deterministic=True, single_cls=False, rect=False, cos_lr=False, close_mosaic=10, resume=False, amp=True, fraction=1.0, profile=False, freeze=None, multi_scale=False, overlap_mask=True, mask_ratio=4, dropout=0.0, val=True, split=val, save_json=False, save_hybrid=False, conf=None, iou=0.7, max_det=300, half=False, dnn=False, plots=True, source=None, vid_stride=1, stream_buffer=False, visualize=False, augment=False, agnostic_nms=False, classes=None, retina_masks=False, embed=None, show=False, save_frames=False, save_txt=False, save_conf=False, save_crop=False, show_labels=True, show_conf=True, show_boxes=True, line_width=None, format=torchscript, keras=False, optimize=False, int8=False, dynamic=False, simplify=False, opset=None, workspace=4, nms=False, lr0=0.01, lrf=0.01, momentum=0.937, weight_decay=0.0005, warmup_epochs=3.0, warmup_momentum=0.8, warmup_bias_lr=0.1, box=7.5, cls=0.5, dfl=1.5, pose=12.0, kobj=1.0, label_smoothing=0.0, nbs=64, hsv_h=0.015, hsv_s=0.7, hsv_v=0.4, degrees=7.5, translate=0.1, scale=0.5, shear=0.0, perspective=2.5e-05, flipud=0.0, fliplr=0.5, bgr=0.0, mosaic=1.0, mixup=0.0, copy_paste=0.0, auto_augment=randaugment, erasing=0.4, crop_fraction=1.0, cfg=None, tracker=botsort.yaml, save_dir=runs/classify/train\n",
            "\u001b[34m\u001b[1mtrain:\u001b[0m /content/violation_classification-1/train... found 2388 images in 2 classes ✅ \n",
            "\u001b[34m\u001b[1mval:\u001b[0m /content/violation_classification-1/val... found 228 images in 2 classes ✅ \n",
            "\u001b[34m\u001b[1mtest:\u001b[0m /content/violation_classification-1/test... found 114 images in 2 classes ✅ \n",
            "Overriding model.yaml nc=1000 with nc=2\n",
            "\n",
            "                   from  n    params  module                                       arguments                     \n",
            "  0                  -1  1       464  ultralytics.nn.modules.conv.Conv             [3, 16, 3, 2]                 \n",
            "  1                  -1  1      4672  ultralytics.nn.modules.conv.Conv             [16, 32, 3, 2]                \n",
            "  2                  -1  1      7360  ultralytics.nn.modules.block.C2f             [32, 32, 1, True]             \n",
            "  3                  -1  1     18560  ultralytics.nn.modules.conv.Conv             [32, 64, 3, 2]                \n",
            "  4                  -1  2     49664  ultralytics.nn.modules.block.C2f             [64, 64, 2, True]             \n",
            "  5                  -1  1     73984  ultralytics.nn.modules.conv.Conv             [64, 128, 3, 2]               \n",
            "  6                  -1  2    197632  ultralytics.nn.modules.block.C2f             [128, 128, 2, True]           \n",
            "  7                  -1  1    295424  ultralytics.nn.modules.conv.Conv             [128, 256, 3, 2]              \n",
            "  8                  -1  1    460288  ultralytics.nn.modules.block.C2f             [256, 256, 1, True]           \n",
            "  9                  -1  1    332802  ultralytics.nn.modules.head.Classify         [256, 2]                      \n",
            "YOLOv8n-cls summary: 99 layers, 1440850 parameters, 1440850 gradients, 3.4 GFLOPs\n",
            "Transferred 156/158 items from pretrained weights\n",
            "\u001b[34m\u001b[1mTensorBoard: \u001b[0mStart with 'tensorboard --logdir runs/classify/train', view at http://localhost:6006/\n",
            "\u001b[34m\u001b[1mAMP: \u001b[0mrunning Automatic Mixed Precision (AMP) checks with YOLOv8n...\n",
            "Downloading https://github.com/ultralytics/assets/releases/download/v8.2.0/yolov8n.pt to 'yolov8n.pt'...\n"
          ]
        },
        {
          "output_type": "stream",
          "name": "stderr",
          "text": [
            "100%|██████████| 6.23M/6.23M [00:00<00:00, 74.0MB/s]\n"
          ]
        },
        {
          "output_type": "stream",
          "name": "stdout",
          "text": [
            "\u001b[34m\u001b[1mAMP: \u001b[0mchecks passed ✅\n"
          ]
        },
        {
          "output_type": "stream",
          "name": "stderr",
          "text": [
            "\u001b[34m\u001b[1mtrain: \u001b[0mScanning /content/violation_classification-1/train... 2388 images, 0 corrupt: 100%|██████████| 2388/2388 [00:00<00:00, 3019.43it/s]\n"
          ]
        },
        {
          "output_type": "stream",
          "name": "stdout",
          "text": [
            "\u001b[34m\u001b[1mtrain: \u001b[0mNew cache created: /content/violation_classification-1/train.cache\n"
          ]
        },
        {
          "output_type": "stream",
          "name": "stderr",
          "text": [
            "os.fork() was called. os.fork() is incompatible with multithreaded code, and JAX is multithreaded, so this will likely lead to a deadlock.\n",
            "\u001b[34m\u001b[1mval: \u001b[0mScanning /content/violation_classification-1/val... 228 images, 0 corrupt: 100%|██████████| 228/228 [00:00<00:00, 2496.71it/s]"
          ]
        },
        {
          "output_type": "stream",
          "name": "stdout",
          "text": [
            "\u001b[34m\u001b[1mval: \u001b[0mNew cache created: /content/violation_classification-1/val.cache\n"
          ]
        },
        {
          "output_type": "stream",
          "name": "stderr",
          "text": [
            "\n"
          ]
        },
        {
          "output_type": "stream",
          "name": "stdout",
          "text": [
            "\u001b[34m\u001b[1moptimizer:\u001b[0m 'optimizer=auto' found, ignoring 'lr0=0.01' and 'momentum=0.937' and determining best 'optimizer', 'lr0' and 'momentum' automatically... \n",
            "\u001b[34m\u001b[1moptimizer:\u001b[0m SGD(lr=0.01, momentum=0.9) with parameter groups 26 weight(decay=0.0), 27 weight(decay=0.0005), 27 bias(decay=0.0)\n",
            "\u001b[34m\u001b[1mTensorBoard: \u001b[0mmodel graph visualization added ✅\n",
            "Image sizes 224 train, 224 val\n",
            "Using 8 dataloader workers\n",
            "Logging results to \u001b[1mruns/classify/train\u001b[0m\n",
            "Starting training for 1000 epochs...\n",
            "\n",
            "      Epoch    GPU_mem       loss  Instances       Size\n"
          ]
        },
        {
          "output_type": "stream",
          "name": "stderr",
          "text": [
            "     1/1000     0.514G     0.6974         16        224:  14%|█▍        | 21/150 [00:01<00:05, 22.49it/s]"
          ]
        },
        {
          "output_type": "stream",
          "name": "stdout",
          "text": [
            "Downloading https://ultralytics.com/assets/Arial.ttf to '/root/.config/Ultralytics/Arial.ttf'...\n"
          ]
        },
        {
          "output_type": "stream",
          "name": "stderr",
          "text": [
            "     1/1000     0.514G     0.6784         16        224:  28%|██▊       | 42/150 [00:02<00:04, 24.11it/s]\n",
            "100%|██████████| 755k/755k [00:00<00:00, 15.2MB/s]\n",
            "     1/1000     0.516G     0.5565          4        224: 100%|██████████| 150/150 [00:06<00:00, 21.72it/s]\n",
            "               classes   top1_acc   top5_acc: 100%|██████████| 8/8 [00:00<00:00, 39.74it/s]"
          ]
        },
        {
          "output_type": "stream",
          "name": "stdout",
          "text": [
            "                   all      0.873          1\n"
          ]
        },
        {
          "output_type": "stream",
          "name": "stderr",
          "text": [
            "\n"
          ]
        },
        {
          "output_type": "stream",
          "name": "stdout",
          "text": [
            "\n",
            "      Epoch    GPU_mem       loss  Instances       Size\n"
          ]
        },
        {
          "output_type": "stream",
          "name": "stderr",
          "text": [
            "     2/1000     0.505G     0.3694          4        224: 100%|██████████| 150/150 [00:05<00:00, 26.52it/s]\n",
            "               classes   top1_acc   top5_acc: 100%|██████████| 8/8 [00:00<00:00, 61.97it/s]\n"
          ]
        },
        {
          "output_type": "stream",
          "name": "stdout",
          "text": [
            "                   all      0.763          1\n",
            "\n",
            "      Epoch    GPU_mem       loss  Instances       Size\n"
          ]
        },
        {
          "output_type": "stream",
          "name": "stderr",
          "text": [
            "     3/1000     0.505G     0.3129          4        224: 100%|██████████| 150/150 [00:05<00:00, 28.07it/s]\n",
            "               classes   top1_acc   top5_acc: 100%|██████████| 8/8 [00:00<00:00, 59.64it/s]\n"
          ]
        },
        {
          "output_type": "stream",
          "name": "stdout",
          "text": [
            "                   all      0.829          1\n",
            "\n",
            "      Epoch    GPU_mem       loss  Instances       Size\n"
          ]
        },
        {
          "output_type": "stream",
          "name": "stderr",
          "text": [
            "     4/1000     0.505G     0.2874          4        224: 100%|██████████| 150/150 [00:05<00:00, 27.90it/s]\n",
            "               classes   top1_acc   top5_acc: 100%|██████████| 8/8 [00:00<00:00, 37.07it/s]"
          ]
        },
        {
          "output_type": "stream",
          "name": "stdout",
          "text": [
            "                   all      0.855          1\n"
          ]
        },
        {
          "output_type": "stream",
          "name": "stderr",
          "text": [
            "\n"
          ]
        },
        {
          "output_type": "stream",
          "name": "stdout",
          "text": [
            "\n",
            "      Epoch    GPU_mem       loss  Instances       Size\n"
          ]
        },
        {
          "output_type": "stream",
          "name": "stderr",
          "text": [
            "     5/1000     0.505G     0.2918          4        224: 100%|██████████| 150/150 [00:05<00:00, 27.59it/s]\n",
            "               classes   top1_acc   top5_acc: 100%|██████████| 8/8 [00:00<00:00, 54.84it/s]"
          ]
        },
        {
          "output_type": "stream",
          "name": "stdout",
          "text": [
            "                   all      0.904          1\n"
          ]
        },
        {
          "output_type": "stream",
          "name": "stderr",
          "text": [
            "\n"
          ]
        },
        {
          "output_type": "stream",
          "name": "stdout",
          "text": [
            "\n",
            "      Epoch    GPU_mem       loss  Instances       Size\n"
          ]
        },
        {
          "output_type": "stream",
          "name": "stderr",
          "text": [
            "     6/1000     0.505G     0.2796          4        224: 100%|██████████| 150/150 [00:05<00:00, 28.08it/s]\n",
            "               classes   top1_acc   top5_acc: 100%|██████████| 8/8 [00:00<00:00, 88.20it/s]"
          ]
        },
        {
          "output_type": "stream",
          "name": "stdout",
          "text": [
            "                   all      0.864          1\n"
          ]
        },
        {
          "output_type": "stream",
          "name": "stderr",
          "text": [
            "\n"
          ]
        },
        {
          "output_type": "stream",
          "name": "stdout",
          "text": [
            "\n",
            "      Epoch    GPU_mem       loss  Instances       Size\n"
          ]
        },
        {
          "output_type": "stream",
          "name": "stderr",
          "text": [
            "     7/1000     0.505G        0.3          4        224: 100%|██████████| 150/150 [00:05<00:00, 27.51it/s]\n",
            "               classes   top1_acc   top5_acc: 100%|██████████| 8/8 [00:00<00:00, 73.36it/s]"
          ]
        },
        {
          "output_type": "stream",
          "name": "stdout",
          "text": [
            "                   all      0.917          1\n"
          ]
        },
        {
          "output_type": "stream",
          "name": "stderr",
          "text": [
            "\n"
          ]
        },
        {
          "output_type": "stream",
          "name": "stdout",
          "text": [
            "\n",
            "      Epoch    GPU_mem       loss  Instances       Size\n"
          ]
        },
        {
          "output_type": "stream",
          "name": "stderr",
          "text": [
            "     8/1000     0.505G     0.2169          4        224: 100%|██████████| 150/150 [00:05<00:00, 27.59it/s]\n",
            "               classes   top1_acc   top5_acc: 100%|██████████| 8/8 [00:00<00:00, 66.03it/s]"
          ]
        },
        {
          "output_type": "stream",
          "name": "stdout",
          "text": [
            "                   all      0.925          1\n"
          ]
        },
        {
          "output_type": "stream",
          "name": "stderr",
          "text": [
            "\n"
          ]
        },
        {
          "output_type": "stream",
          "name": "stdout",
          "text": [
            "\n",
            "      Epoch    GPU_mem       loss  Instances       Size\n"
          ]
        },
        {
          "output_type": "stream",
          "name": "stderr",
          "text": [
            "     9/1000     0.505G     0.2055          4        224: 100%|██████████| 150/150 [00:05<00:00, 28.63it/s]\n",
            "               classes   top1_acc   top5_acc: 100%|██████████| 8/8 [00:00<00:00, 48.98it/s]"
          ]
        },
        {
          "output_type": "stream",
          "name": "stdout",
          "text": [
            "                   all      0.925          1\n"
          ]
        },
        {
          "output_type": "stream",
          "name": "stderr",
          "text": [
            "\n"
          ]
        },
        {
          "output_type": "stream",
          "name": "stdout",
          "text": [
            "\n",
            "      Epoch    GPU_mem       loss  Instances       Size\n"
          ]
        },
        {
          "output_type": "stream",
          "name": "stderr",
          "text": [
            "    10/1000     0.505G     0.2247          4        224: 100%|██████████| 150/150 [00:05<00:00, 27.99it/s]\n",
            "               classes   top1_acc   top5_acc: 100%|██████████| 8/8 [00:00<00:00, 42.12it/s]"
          ]
        },
        {
          "output_type": "stream",
          "name": "stdout",
          "text": [
            "                   all      0.908          1\n"
          ]
        },
        {
          "output_type": "stream",
          "name": "stderr",
          "text": [
            "\n"
          ]
        },
        {
          "output_type": "stream",
          "name": "stdout",
          "text": [
            "\n",
            "      Epoch    GPU_mem       loss  Instances       Size\n"
          ]
        },
        {
          "output_type": "stream",
          "name": "stderr",
          "text": [
            "    11/1000     0.505G     0.1593          4        224: 100%|██████████| 150/150 [00:05<00:00, 27.52it/s]\n",
            "               classes   top1_acc   top5_acc: 100%|██████████| 8/8 [00:00<00:00, 62.87it/s]"
          ]
        },
        {
          "output_type": "stream",
          "name": "stdout",
          "text": [
            "                   all      0.904          1\n"
          ]
        },
        {
          "output_type": "stream",
          "name": "stderr",
          "text": [
            "\n"
          ]
        },
        {
          "output_type": "stream",
          "name": "stdout",
          "text": [
            "\n",
            "      Epoch    GPU_mem       loss  Instances       Size\n"
          ]
        },
        {
          "output_type": "stream",
          "name": "stderr",
          "text": [
            "    12/1000     0.505G     0.1537          4        224: 100%|██████████| 150/150 [00:05<00:00, 27.74it/s]\n",
            "               classes   top1_acc   top5_acc: 100%|██████████| 8/8 [00:00<00:00, 42.30it/s]\n"
          ]
        },
        {
          "output_type": "stream",
          "name": "stdout",
          "text": [
            "                   all      0.904          1\n",
            "\n",
            "      Epoch    GPU_mem       loss  Instances       Size\n"
          ]
        },
        {
          "output_type": "stream",
          "name": "stderr",
          "text": [
            "    13/1000     0.505G      0.173          4        224: 100%|██████████| 150/150 [00:05<00:00, 27.91it/s]\n",
            "               classes   top1_acc   top5_acc: 100%|██████████| 8/8 [00:00<00:00, 43.54it/s]"
          ]
        },
        {
          "output_type": "stream",
          "name": "stdout",
          "text": [
            "                   all      0.904          1\n"
          ]
        },
        {
          "output_type": "stream",
          "name": "stderr",
          "text": [
            "\n"
          ]
        },
        {
          "output_type": "stream",
          "name": "stdout",
          "text": [
            "\n",
            "      Epoch    GPU_mem       loss  Instances       Size\n"
          ]
        },
        {
          "output_type": "stream",
          "name": "stderr",
          "text": [
            "    14/1000     0.505G     0.1468          4        224: 100%|██████████| 150/150 [00:05<00:00, 27.86it/s]\n",
            "               classes   top1_acc   top5_acc: 100%|██████████| 8/8 [00:00<00:00, 56.09it/s]\n"
          ]
        },
        {
          "output_type": "stream",
          "name": "stdout",
          "text": [
            "                   all      0.912          1\n",
            "\n",
            "      Epoch    GPU_mem       loss  Instances       Size\n"
          ]
        },
        {
          "output_type": "stream",
          "name": "stderr",
          "text": [
            "    15/1000     0.505G     0.1375          4        224: 100%|██████████| 150/150 [00:05<00:00, 28.38it/s]\n",
            "               classes   top1_acc   top5_acc: 100%|██████████| 8/8 [00:00<00:00, 38.41it/s]"
          ]
        },
        {
          "output_type": "stream",
          "name": "stdout",
          "text": [
            "                   all      0.921          1\n"
          ]
        },
        {
          "output_type": "stream",
          "name": "stderr",
          "text": [
            "\n"
          ]
        },
        {
          "output_type": "stream",
          "name": "stdout",
          "text": [
            "\n",
            "      Epoch    GPU_mem       loss  Instances       Size\n"
          ]
        },
        {
          "output_type": "stream",
          "name": "stderr",
          "text": [
            "    16/1000     0.505G     0.1151          4        224: 100%|██████████| 150/150 [00:05<00:00, 27.09it/s]\n",
            "               classes   top1_acc   top5_acc: 100%|██████████| 8/8 [00:00<00:00, 51.99it/s]"
          ]
        },
        {
          "output_type": "stream",
          "name": "stdout",
          "text": [
            "                   all      0.917          1\n"
          ]
        },
        {
          "output_type": "stream",
          "name": "stderr",
          "text": [
            "\n"
          ]
        },
        {
          "output_type": "stream",
          "name": "stdout",
          "text": [
            "\n",
            "      Epoch    GPU_mem       loss  Instances       Size\n"
          ]
        },
        {
          "output_type": "stream",
          "name": "stderr",
          "text": [
            "    17/1000     0.505G     0.1219          4        224: 100%|██████████| 150/150 [00:05<00:00, 28.08it/s]\n",
            "               classes   top1_acc   top5_acc: 100%|██████████| 8/8 [00:00<00:00, 50.79it/s]"
          ]
        },
        {
          "output_type": "stream",
          "name": "stdout",
          "text": [
            "                   all      0.934          1\n"
          ]
        },
        {
          "output_type": "stream",
          "name": "stderr",
          "text": [
            "\n"
          ]
        },
        {
          "output_type": "stream",
          "name": "stdout",
          "text": [
            "\n",
            "      Epoch    GPU_mem       loss  Instances       Size\n"
          ]
        },
        {
          "output_type": "stream",
          "name": "stderr",
          "text": [
            "    18/1000     0.505G    0.09813          4        224: 100%|██████████| 150/150 [00:05<00:00, 28.49it/s]\n",
            "               classes   top1_acc   top5_acc: 100%|██████████| 8/8 [00:00<00:00, 55.00it/s]"
          ]
        },
        {
          "output_type": "stream",
          "name": "stdout",
          "text": [
            "                   all      0.908          1\n"
          ]
        },
        {
          "output_type": "stream",
          "name": "stderr",
          "text": [
            "\n"
          ]
        },
        {
          "output_type": "stream",
          "name": "stdout",
          "text": [
            "\n",
            "      Epoch    GPU_mem       loss  Instances       Size\n"
          ]
        },
        {
          "output_type": "stream",
          "name": "stderr",
          "text": [
            "    19/1000     0.505G     0.1174          4        224: 100%|██████████| 150/150 [00:05<00:00, 27.43it/s]\n",
            "               classes   top1_acc   top5_acc: 100%|██████████| 8/8 [00:00<00:00, 56.82it/s]"
          ]
        },
        {
          "output_type": "stream",
          "name": "stdout",
          "text": [
            "                   all      0.917          1\n"
          ]
        },
        {
          "output_type": "stream",
          "name": "stderr",
          "text": [
            "\n"
          ]
        },
        {
          "output_type": "stream",
          "name": "stdout",
          "text": [
            "\n",
            "      Epoch    GPU_mem       loss  Instances       Size\n"
          ]
        },
        {
          "output_type": "stream",
          "name": "stderr",
          "text": [
            "    20/1000     0.505G      0.111          4        224: 100%|██████████| 150/150 [00:05<00:00, 28.10it/s]\n",
            "               classes   top1_acc   top5_acc: 100%|██████████| 8/8 [00:00<00:00, 38.16it/s]"
          ]
        },
        {
          "output_type": "stream",
          "name": "stdout",
          "text": [
            "                   all      0.921          1\n"
          ]
        },
        {
          "output_type": "stream",
          "name": "stderr",
          "text": [
            "\n"
          ]
        },
        {
          "output_type": "stream",
          "name": "stdout",
          "text": [
            "\n",
            "      Epoch    GPU_mem       loss  Instances       Size\n"
          ]
        },
        {
          "output_type": "stream",
          "name": "stderr",
          "text": [
            "    21/1000     0.505G     0.1034          4        224: 100%|██████████| 150/150 [00:05<00:00, 28.04it/s]\n",
            "               classes   top1_acc   top5_acc: 100%|██████████| 8/8 [00:00<00:00, 49.54it/s]"
          ]
        },
        {
          "output_type": "stream",
          "name": "stdout",
          "text": [
            "                   all      0.917          1\n"
          ]
        },
        {
          "output_type": "stream",
          "name": "stderr",
          "text": [
            "\n"
          ]
        },
        {
          "output_type": "stream",
          "name": "stdout",
          "text": [
            "\n",
            "      Epoch    GPU_mem       loss  Instances       Size\n"
          ]
        },
        {
          "output_type": "stream",
          "name": "stderr",
          "text": [
            "    22/1000     0.505G    0.09245          4        224: 100%|██████████| 150/150 [00:05<00:00, 27.26it/s]\n",
            "               classes   top1_acc   top5_acc: 100%|██████████| 8/8 [00:00<00:00, 48.50it/s]"
          ]
        },
        {
          "output_type": "stream",
          "name": "stdout",
          "text": [
            "                   all      0.895          1\n"
          ]
        },
        {
          "output_type": "stream",
          "name": "stderr",
          "text": [
            "\n"
          ]
        },
        {
          "output_type": "stream",
          "name": "stdout",
          "text": [
            "\n",
            "      Epoch    GPU_mem       loss  Instances       Size\n"
          ]
        },
        {
          "output_type": "stream",
          "name": "stderr",
          "text": [
            "    23/1000     0.505G    0.07974          4        224: 100%|██████████| 150/150 [00:05<00:00, 27.78it/s]\n",
            "               classes   top1_acc   top5_acc: 100%|██████████| 8/8 [00:00<00:00, 48.75it/s]"
          ]
        },
        {
          "output_type": "stream",
          "name": "stdout",
          "text": [
            "                   all      0.921          1\n"
          ]
        },
        {
          "output_type": "stream",
          "name": "stderr",
          "text": [
            "\n"
          ]
        },
        {
          "output_type": "stream",
          "name": "stdout",
          "text": [
            "\n",
            "      Epoch    GPU_mem       loss  Instances       Size\n"
          ]
        },
        {
          "output_type": "stream",
          "name": "stderr",
          "text": [
            "    24/1000     0.505G     0.1055          4        224: 100%|██████████| 150/150 [00:05<00:00, 28.54it/s]\n",
            "               classes   top1_acc   top5_acc: 100%|██████████| 8/8 [00:00<00:00, 42.33it/s]"
          ]
        },
        {
          "output_type": "stream",
          "name": "stdout",
          "text": [
            "                   all       0.93          1\n"
          ]
        },
        {
          "output_type": "stream",
          "name": "stderr",
          "text": [
            "\n"
          ]
        },
        {
          "output_type": "stream",
          "name": "stdout",
          "text": [
            "\n",
            "      Epoch    GPU_mem       loss  Instances       Size\n"
          ]
        },
        {
          "output_type": "stream",
          "name": "stderr",
          "text": [
            "    25/1000     0.508G    0.08245          4        224: 100%|██████████| 150/150 [00:05<00:00, 27.04it/s]\n",
            "               classes   top1_acc   top5_acc: 100%|██████████| 8/8 [00:00<00:00, 47.83it/s]"
          ]
        },
        {
          "output_type": "stream",
          "name": "stdout",
          "text": [
            "                   all       0.93          1\n"
          ]
        },
        {
          "output_type": "stream",
          "name": "stderr",
          "text": [
            "\n"
          ]
        },
        {
          "output_type": "stream",
          "name": "stdout",
          "text": [
            "\n",
            "      Epoch    GPU_mem       loss  Instances       Size\n"
          ]
        },
        {
          "output_type": "stream",
          "name": "stderr",
          "text": [
            "    26/1000     0.505G    0.07138          4        224: 100%|██████████| 150/150 [00:05<00:00, 28.05it/s]\n",
            "               classes   top1_acc   top5_acc: 100%|██████████| 8/8 [00:00<00:00, 50.04it/s]"
          ]
        },
        {
          "output_type": "stream",
          "name": "stdout",
          "text": [
            "                   all      0.943          1\n"
          ]
        },
        {
          "output_type": "stream",
          "name": "stderr",
          "text": [
            "\n"
          ]
        },
        {
          "output_type": "stream",
          "name": "stdout",
          "text": [
            "\n",
            "      Epoch    GPU_mem       loss  Instances       Size\n"
          ]
        },
        {
          "output_type": "stream",
          "name": "stderr",
          "text": [
            "    27/1000     0.505G    0.07734          4        224: 100%|██████████| 150/150 [00:05<00:00, 28.70it/s]\n",
            "               classes   top1_acc   top5_acc: 100%|██████████| 8/8 [00:00<00:00, 49.05it/s]"
          ]
        },
        {
          "output_type": "stream",
          "name": "stdout",
          "text": [
            "                   all      0.925          1\n"
          ]
        },
        {
          "output_type": "stream",
          "name": "stderr",
          "text": [
            "\n"
          ]
        },
        {
          "output_type": "stream",
          "name": "stdout",
          "text": [
            "\n",
            "      Epoch    GPU_mem       loss  Instances       Size\n"
          ]
        },
        {
          "output_type": "stream",
          "name": "stderr",
          "text": [
            "    28/1000     0.505G    0.07314          4        224: 100%|██████████| 150/150 [00:05<00:00, 27.66it/s]\n",
            "               classes   top1_acc   top5_acc: 100%|██████████| 8/8 [00:00<00:00, 32.21it/s]"
          ]
        },
        {
          "output_type": "stream",
          "name": "stdout",
          "text": [
            "                   all       0.93          1\n"
          ]
        },
        {
          "output_type": "stream",
          "name": "stderr",
          "text": [
            "\n"
          ]
        },
        {
          "output_type": "stream",
          "name": "stdout",
          "text": [
            "\n",
            "      Epoch    GPU_mem       loss  Instances       Size\n"
          ]
        },
        {
          "output_type": "stream",
          "name": "stderr",
          "text": [
            "    29/1000     0.505G    0.06123          4        224: 100%|██████████| 150/150 [00:05<00:00, 27.79it/s]\n",
            "               classes   top1_acc   top5_acc: 100%|██████████| 8/8 [00:00<00:00, 43.94it/s]\n"
          ]
        },
        {
          "output_type": "stream",
          "name": "stdout",
          "text": [
            "                   all      0.921          1\n",
            "\n",
            "      Epoch    GPU_mem       loss  Instances       Size\n"
          ]
        },
        {
          "output_type": "stream",
          "name": "stderr",
          "text": [
            "    30/1000     0.505G     0.0642          4        224: 100%|██████████| 150/150 [00:05<00:00, 28.38it/s]\n",
            "               classes   top1_acc   top5_acc: 100%|██████████| 8/8 [00:00<00:00, 34.47it/s]"
          ]
        },
        {
          "output_type": "stream",
          "name": "stdout",
          "text": [
            "                   all      0.925          1\n"
          ]
        },
        {
          "output_type": "stream",
          "name": "stderr",
          "text": [
            "\n"
          ]
        },
        {
          "output_type": "stream",
          "name": "stdout",
          "text": [
            "\n",
            "      Epoch    GPU_mem       loss  Instances       Size\n"
          ]
        },
        {
          "output_type": "stream",
          "name": "stderr",
          "text": [
            "    31/1000     0.505G    0.05829          4        224: 100%|██████████| 150/150 [00:05<00:00, 27.59it/s]\n",
            "               classes   top1_acc   top5_acc: 100%|██████████| 8/8 [00:00<00:00, 49.45it/s]"
          ]
        },
        {
          "output_type": "stream",
          "name": "stdout",
          "text": [
            "                   all      0.917          1\n"
          ]
        },
        {
          "output_type": "stream",
          "name": "stderr",
          "text": [
            "\n"
          ]
        },
        {
          "output_type": "stream",
          "name": "stdout",
          "text": [
            "\n",
            "      Epoch    GPU_mem       loss  Instances       Size\n"
          ]
        },
        {
          "output_type": "stream",
          "name": "stderr",
          "text": [
            "    32/1000     0.505G    0.06169          4        224: 100%|██████████| 150/150 [00:05<00:00, 27.84it/s]\n",
            "               classes   top1_acc   top5_acc: 100%|██████████| 8/8 [00:00<00:00, 62.99it/s]"
          ]
        },
        {
          "output_type": "stream",
          "name": "stdout",
          "text": [
            "                   all       0.93          1\n"
          ]
        },
        {
          "output_type": "stream",
          "name": "stderr",
          "text": [
            "\n"
          ]
        },
        {
          "output_type": "stream",
          "name": "stdout",
          "text": [
            "\n",
            "      Epoch    GPU_mem       loss  Instances       Size\n"
          ]
        },
        {
          "output_type": "stream",
          "name": "stderr",
          "text": [
            "    33/1000     0.505G      0.067          4        224: 100%|██████████| 150/150 [00:05<00:00, 27.96it/s]\n",
            "               classes   top1_acc   top5_acc: 100%|██████████| 8/8 [00:00<00:00, 44.70it/s]"
          ]
        },
        {
          "output_type": "stream",
          "name": "stdout",
          "text": [
            "                   all      0.939          1\n"
          ]
        },
        {
          "output_type": "stream",
          "name": "stderr",
          "text": [
            "\n"
          ]
        },
        {
          "output_type": "stream",
          "name": "stdout",
          "text": [
            "\n",
            "      Epoch    GPU_mem       loss  Instances       Size\n"
          ]
        },
        {
          "output_type": "stream",
          "name": "stderr",
          "text": [
            "    34/1000     0.505G    0.04966          4        224: 100%|██████████| 150/150 [00:05<00:00, 27.27it/s]\n",
            "               classes   top1_acc   top5_acc: 100%|██████████| 8/8 [00:00<00:00, 84.98it/s]"
          ]
        },
        {
          "output_type": "stream",
          "name": "stdout",
          "text": [
            "                   all       0.93          1\n"
          ]
        },
        {
          "output_type": "stream",
          "name": "stderr",
          "text": [
            "\n"
          ]
        },
        {
          "output_type": "stream",
          "name": "stdout",
          "text": [
            "\n",
            "      Epoch    GPU_mem       loss  Instances       Size\n"
          ]
        },
        {
          "output_type": "stream",
          "name": "stderr",
          "text": [
            "    35/1000     0.505G    0.07497          4        224: 100%|██████████| 150/150 [00:05<00:00, 27.44it/s]\n",
            "               classes   top1_acc   top5_acc: 100%|██████████| 8/8 [00:00<00:00, 67.46it/s]"
          ]
        },
        {
          "output_type": "stream",
          "name": "stdout",
          "text": [
            "                   all      0.925          1\n"
          ]
        },
        {
          "output_type": "stream",
          "name": "stderr",
          "text": [
            "\n"
          ]
        },
        {
          "output_type": "stream",
          "name": "stdout",
          "text": [
            "\n",
            "      Epoch    GPU_mem       loss  Instances       Size\n"
          ]
        },
        {
          "output_type": "stream",
          "name": "stderr",
          "text": [
            "    36/1000     0.505G     0.0694          4        224: 100%|██████████| 150/150 [00:05<00:00, 27.91it/s]\n",
            "               classes   top1_acc   top5_acc: 100%|██████████| 8/8 [00:00<00:00, 55.93it/s]"
          ]
        },
        {
          "output_type": "stream",
          "name": "stdout",
          "text": [
            "                   all      0.925          1\n"
          ]
        },
        {
          "output_type": "stream",
          "name": "stderr",
          "text": [
            "\n"
          ]
        },
        {
          "output_type": "stream",
          "name": "stdout",
          "text": [
            "\n",
            "      Epoch    GPU_mem       loss  Instances       Size\n"
          ]
        },
        {
          "output_type": "stream",
          "name": "stderr",
          "text": [
            "    37/1000     0.505G    0.06029          4        224: 100%|██████████| 150/150 [00:05<00:00, 27.82it/s]\n",
            "               classes   top1_acc   top5_acc: 100%|██████████| 8/8 [00:00<00:00, 57.77it/s]"
          ]
        },
        {
          "output_type": "stream",
          "name": "stdout",
          "text": [
            "                   all      0.921          1\n"
          ]
        },
        {
          "output_type": "stream",
          "name": "stderr",
          "text": [
            "\n"
          ]
        },
        {
          "output_type": "stream",
          "name": "stdout",
          "text": [
            "\n",
            "      Epoch    GPU_mem       loss  Instances       Size\n"
          ]
        },
        {
          "output_type": "stream",
          "name": "stderr",
          "text": [
            "    38/1000     0.505G    0.05403          4        224: 100%|██████████| 150/150 [00:05<00:00, 27.77it/s]\n",
            "               classes   top1_acc   top5_acc: 100%|██████████| 8/8 [00:00<00:00, 43.48it/s]"
          ]
        },
        {
          "output_type": "stream",
          "name": "stdout",
          "text": [
            "                   all      0.912          1\n"
          ]
        },
        {
          "output_type": "stream",
          "name": "stderr",
          "text": [
            "\n"
          ]
        },
        {
          "output_type": "stream",
          "name": "stdout",
          "text": [
            "\n",
            "      Epoch    GPU_mem       loss  Instances       Size\n"
          ]
        },
        {
          "output_type": "stream",
          "name": "stderr",
          "text": [
            "    39/1000     0.505G    0.04382          4        224: 100%|██████████| 150/150 [00:05<00:00, 27.37it/s]\n",
            "               classes   top1_acc   top5_acc: 100%|██████████| 8/8 [00:00<00:00, 49.09it/s]"
          ]
        },
        {
          "output_type": "stream",
          "name": "stdout",
          "text": [
            "                   all      0.917          1\n"
          ]
        },
        {
          "output_type": "stream",
          "name": "stderr",
          "text": [
            "\n"
          ]
        },
        {
          "output_type": "stream",
          "name": "stdout",
          "text": [
            "\n",
            "      Epoch    GPU_mem       loss  Instances       Size\n"
          ]
        },
        {
          "output_type": "stream",
          "name": "stderr",
          "text": [
            "    40/1000     0.505G    0.05839          4        224: 100%|██████████| 150/150 [00:05<00:00, 27.18it/s]\n",
            "               classes   top1_acc   top5_acc: 100%|██████████| 8/8 [00:00<00:00, 75.99it/s]"
          ]
        },
        {
          "output_type": "stream",
          "name": "stdout",
          "text": [
            "                   all      0.921          1\n"
          ]
        },
        {
          "output_type": "stream",
          "name": "stderr",
          "text": [
            "\n"
          ]
        },
        {
          "output_type": "stream",
          "name": "stdout",
          "text": [
            "\n",
            "      Epoch    GPU_mem       loss  Instances       Size\n"
          ]
        },
        {
          "output_type": "stream",
          "name": "stderr",
          "text": [
            "    41/1000     0.505G    0.08339          4        224: 100%|██████████| 150/150 [00:05<00:00, 28.86it/s]\n",
            "               classes   top1_acc   top5_acc: 100%|██████████| 8/8 [00:00<00:00, 58.34it/s]"
          ]
        },
        {
          "output_type": "stream",
          "name": "stdout",
          "text": [
            "                   all      0.917          1\n"
          ]
        },
        {
          "output_type": "stream",
          "name": "stderr",
          "text": [
            "\n"
          ]
        },
        {
          "output_type": "stream",
          "name": "stdout",
          "text": [
            "\n",
            "      Epoch    GPU_mem       loss  Instances       Size\n"
          ]
        },
        {
          "output_type": "stream",
          "name": "stderr",
          "text": [
            "    42/1000     0.505G    0.06434          4        224: 100%|██████████| 150/150 [00:05<00:00, 27.69it/s]\n",
            "               classes   top1_acc   top5_acc: 100%|██████████| 8/8 [00:00<00:00, 67.36it/s]"
          ]
        },
        {
          "output_type": "stream",
          "name": "stdout",
          "text": [
            "                   all      0.908          1\n"
          ]
        },
        {
          "output_type": "stream",
          "name": "stderr",
          "text": [
            "\n"
          ]
        },
        {
          "output_type": "stream",
          "name": "stdout",
          "text": [
            "\n",
            "      Epoch    GPU_mem       loss  Instances       Size\n"
          ]
        },
        {
          "output_type": "stream",
          "name": "stderr",
          "text": [
            "    43/1000     0.505G    0.06459          4        224: 100%|██████████| 150/150 [00:05<00:00, 27.80it/s]\n",
            "               classes   top1_acc   top5_acc: 100%|██████████| 8/8 [00:00<00:00, 61.75it/s]"
          ]
        },
        {
          "output_type": "stream",
          "name": "stdout",
          "text": [
            "                   all      0.939          1\n"
          ]
        },
        {
          "output_type": "stream",
          "name": "stderr",
          "text": [
            "\n"
          ]
        },
        {
          "output_type": "stream",
          "name": "stdout",
          "text": [
            "\n",
            "      Epoch    GPU_mem       loss  Instances       Size\n"
          ]
        },
        {
          "output_type": "stream",
          "name": "stderr",
          "text": [
            "    44/1000     0.505G    0.04308          4        224: 100%|██████████| 150/150 [00:05<00:00, 27.65it/s]\n",
            "               classes   top1_acc   top5_acc: 100%|██████████| 8/8 [00:00<00:00, 62.15it/s]"
          ]
        },
        {
          "output_type": "stream",
          "name": "stdout",
          "text": [
            "                   all      0.939          1\n"
          ]
        },
        {
          "output_type": "stream",
          "name": "stderr",
          "text": [
            "\n"
          ]
        },
        {
          "output_type": "stream",
          "name": "stdout",
          "text": [
            "\n",
            "      Epoch    GPU_mem       loss  Instances       Size\n"
          ]
        },
        {
          "output_type": "stream",
          "name": "stderr",
          "text": [
            "    45/1000     0.505G    0.05949          4        224: 100%|██████████| 150/150 [00:05<00:00, 27.83it/s]\n",
            "               classes   top1_acc   top5_acc: 100%|██████████| 8/8 [00:00<00:00, 54.43it/s]"
          ]
        },
        {
          "output_type": "stream",
          "name": "stdout",
          "text": [
            "                   all      0.917          1\n"
          ]
        },
        {
          "output_type": "stream",
          "name": "stderr",
          "text": [
            "\n"
          ]
        },
        {
          "output_type": "stream",
          "name": "stdout",
          "text": [
            "\n",
            "      Epoch    GPU_mem       loss  Instances       Size\n"
          ]
        },
        {
          "output_type": "stream",
          "name": "stderr",
          "text": [
            "    46/1000     0.505G    0.05449          4        224: 100%|██████████| 150/150 [00:05<00:00, 28.07it/s]\n",
            "               classes   top1_acc   top5_acc: 100%|██████████| 8/8 [00:00<00:00, 50.35it/s]"
          ]
        },
        {
          "output_type": "stream",
          "name": "stdout",
          "text": [
            "                   all       0.93          1\n"
          ]
        },
        {
          "output_type": "stream",
          "name": "stderr",
          "text": [
            "\n"
          ]
        },
        {
          "output_type": "stream",
          "name": "stdout",
          "text": [
            "\n",
            "      Epoch    GPU_mem       loss  Instances       Size\n"
          ]
        },
        {
          "output_type": "stream",
          "name": "stderr",
          "text": [
            "    47/1000     0.505G    0.05007          4        224: 100%|██████████| 150/150 [00:05<00:00, 28.04it/s]\n",
            "               classes   top1_acc   top5_acc: 100%|██████████| 8/8 [00:00<00:00, 47.34it/s]"
          ]
        },
        {
          "output_type": "stream",
          "name": "stdout",
          "text": [
            "                   all      0.912          1\n"
          ]
        },
        {
          "output_type": "stream",
          "name": "stderr",
          "text": [
            "\n"
          ]
        },
        {
          "output_type": "stream",
          "name": "stdout",
          "text": [
            "\n",
            "      Epoch    GPU_mem       loss  Instances       Size\n"
          ]
        },
        {
          "output_type": "stream",
          "name": "stderr",
          "text": [
            "    48/1000     0.505G    0.05742          4        224: 100%|██████████| 150/150 [00:05<00:00, 28.49it/s]\n",
            "               classes   top1_acc   top5_acc: 100%|██████████| 8/8 [00:00<00:00, 47.12it/s]"
          ]
        },
        {
          "output_type": "stream",
          "name": "stdout",
          "text": [
            "                   all       0.93          1\n"
          ]
        },
        {
          "output_type": "stream",
          "name": "stderr",
          "text": [
            "\n"
          ]
        },
        {
          "output_type": "stream",
          "name": "stdout",
          "text": [
            "\n",
            "      Epoch    GPU_mem       loss  Instances       Size\n"
          ]
        },
        {
          "output_type": "stream",
          "name": "stderr",
          "text": [
            "    49/1000     0.505G    0.06576          4        224: 100%|██████████| 150/150 [00:05<00:00, 27.06it/s]\n",
            "               classes   top1_acc   top5_acc: 100%|██████████| 8/8 [00:00<00:00, 72.87it/s]"
          ]
        },
        {
          "output_type": "stream",
          "name": "stdout",
          "text": [
            "                   all      0.921          1\n"
          ]
        },
        {
          "output_type": "stream",
          "name": "stderr",
          "text": [
            "\n"
          ]
        },
        {
          "output_type": "stream",
          "name": "stdout",
          "text": [
            "\n",
            "      Epoch    GPU_mem       loss  Instances       Size\n"
          ]
        },
        {
          "output_type": "stream",
          "name": "stderr",
          "text": [
            "    50/1000     0.505G    0.04096          4        224: 100%|██████████| 150/150 [00:05<00:00, 28.27it/s]\n",
            "               classes   top1_acc   top5_acc: 100%|██████████| 8/8 [00:00<00:00, 59.58it/s]"
          ]
        },
        {
          "output_type": "stream",
          "name": "stdout",
          "text": [
            "                   all      0.925          1\n"
          ]
        },
        {
          "output_type": "stream",
          "name": "stderr",
          "text": [
            "\n"
          ]
        },
        {
          "output_type": "stream",
          "name": "stdout",
          "text": [
            "\n",
            "      Epoch    GPU_mem       loss  Instances       Size\n"
          ]
        },
        {
          "output_type": "stream",
          "name": "stderr",
          "text": [
            "    51/1000     0.505G    0.03914          4        224: 100%|██████████| 150/150 [00:05<00:00, 27.81it/s]\n",
            "               classes   top1_acc   top5_acc: 100%|██████████| 8/8 [00:00<00:00, 44.43it/s]"
          ]
        },
        {
          "output_type": "stream",
          "name": "stdout",
          "text": [
            "                   all       0.93          1\n"
          ]
        },
        {
          "output_type": "stream",
          "name": "stderr",
          "text": [
            "\n"
          ]
        },
        {
          "output_type": "stream",
          "name": "stdout",
          "text": [
            "\n",
            "      Epoch    GPU_mem       loss  Instances       Size\n"
          ]
        },
        {
          "output_type": "stream",
          "name": "stderr",
          "text": [
            "    52/1000     0.505G      0.053          4        224: 100%|██████████| 150/150 [00:05<00:00, 27.55it/s]\n",
            "               classes   top1_acc   top5_acc: 100%|██████████| 8/8 [00:00<00:00, 87.75it/s]"
          ]
        },
        {
          "output_type": "stream",
          "name": "stdout",
          "text": [
            "                   all       0.93          1\n"
          ]
        },
        {
          "output_type": "stream",
          "name": "stderr",
          "text": [
            "\n"
          ]
        },
        {
          "output_type": "stream",
          "name": "stdout",
          "text": [
            "\n",
            "      Epoch    GPU_mem       loss  Instances       Size\n"
          ]
        },
        {
          "output_type": "stream",
          "name": "stderr",
          "text": [
            "    53/1000     0.505G    0.05409          4        224: 100%|██████████| 150/150 [00:05<00:00, 27.50it/s]\n",
            "               classes   top1_acc   top5_acc: 100%|██████████| 8/8 [00:00<00:00, 66.35it/s]"
          ]
        },
        {
          "output_type": "stream",
          "name": "stdout",
          "text": [
            "                   all      0.917          1\n"
          ]
        },
        {
          "output_type": "stream",
          "name": "stderr",
          "text": [
            "\n"
          ]
        },
        {
          "output_type": "stream",
          "name": "stdout",
          "text": [
            "\n",
            "      Epoch    GPU_mem       loss  Instances       Size\n"
          ]
        },
        {
          "output_type": "stream",
          "name": "stderr",
          "text": [
            "    54/1000     0.505G    0.05899          4        224: 100%|██████████| 150/150 [00:05<00:00, 28.12it/s]\n",
            "               classes   top1_acc   top5_acc: 100%|██████████| 8/8 [00:00<00:00, 46.79it/s]"
          ]
        },
        {
          "output_type": "stream",
          "name": "stdout",
          "text": [
            "                   all      0.917          1\n"
          ]
        },
        {
          "output_type": "stream",
          "name": "stderr",
          "text": [
            "\n"
          ]
        },
        {
          "output_type": "stream",
          "name": "stdout",
          "text": [
            "\n",
            "      Epoch    GPU_mem       loss  Instances       Size\n"
          ]
        },
        {
          "output_type": "stream",
          "name": "stderr",
          "text": [
            "    55/1000     0.505G    0.04513          4        224: 100%|██████████| 150/150 [00:05<00:00, 27.80it/s]\n",
            "               classes   top1_acc   top5_acc: 100%|██████████| 8/8 [00:00<00:00, 62.31it/s]"
          ]
        },
        {
          "output_type": "stream",
          "name": "stdout",
          "text": [
            "                   all      0.925          1\n"
          ]
        },
        {
          "output_type": "stream",
          "name": "stderr",
          "text": [
            "\n"
          ]
        },
        {
          "output_type": "stream",
          "name": "stdout",
          "text": [
            "\n",
            "      Epoch    GPU_mem       loss  Instances       Size\n"
          ]
        },
        {
          "output_type": "stream",
          "name": "stderr",
          "text": [
            "    56/1000     0.505G    0.06051          4        224: 100%|██████████| 150/150 [00:05<00:00, 28.11it/s]\n",
            "               classes   top1_acc   top5_acc: 100%|██████████| 8/8 [00:00<00:00, 48.09it/s]"
          ]
        },
        {
          "output_type": "stream",
          "name": "stdout",
          "text": [
            "                   all      0.921          1\n"
          ]
        },
        {
          "output_type": "stream",
          "name": "stderr",
          "text": [
            "\n"
          ]
        },
        {
          "output_type": "stream",
          "name": "stdout",
          "text": [
            "\n",
            "      Epoch    GPU_mem       loss  Instances       Size\n"
          ]
        },
        {
          "output_type": "stream",
          "name": "stderr",
          "text": [
            "    57/1000     0.505G    0.05461          4        224: 100%|██████████| 150/150 [00:05<00:00, 27.30it/s]\n",
            "               classes   top1_acc   top5_acc: 100%|██████████| 8/8 [00:00<00:00, 37.58it/s]"
          ]
        },
        {
          "output_type": "stream",
          "name": "stdout",
          "text": [
            "                   all      0.925          1\n"
          ]
        },
        {
          "output_type": "stream",
          "name": "stderr",
          "text": [
            "\n"
          ]
        },
        {
          "output_type": "stream",
          "name": "stdout",
          "text": [
            "\n",
            "      Epoch    GPU_mem       loss  Instances       Size\n"
          ]
        },
        {
          "output_type": "stream",
          "name": "stderr",
          "text": [
            "    58/1000     0.505G    0.04514          4        224: 100%|██████████| 150/150 [00:05<00:00, 26.94it/s]\n",
            "               classes   top1_acc   top5_acc: 100%|██████████| 8/8 [00:00<00:00, 56.94it/s]"
          ]
        },
        {
          "output_type": "stream",
          "name": "stdout",
          "text": [
            "                   all       0.93          1\n"
          ]
        },
        {
          "output_type": "stream",
          "name": "stderr",
          "text": [
            "\n"
          ]
        },
        {
          "output_type": "stream",
          "name": "stdout",
          "text": [
            "\n",
            "      Epoch    GPU_mem       loss  Instances       Size\n"
          ]
        },
        {
          "output_type": "stream",
          "name": "stderr",
          "text": [
            "    59/1000     0.505G    0.05023          4        224: 100%|██████████| 150/150 [00:05<00:00, 28.40it/s]\n",
            "               classes   top1_acc   top5_acc: 100%|██████████| 8/8 [00:00<00:00, 49.86it/s]"
          ]
        },
        {
          "output_type": "stream",
          "name": "stdout",
          "text": [
            "                   all       0.93          1\n"
          ]
        },
        {
          "output_type": "stream",
          "name": "stderr",
          "text": [
            "\n"
          ]
        },
        {
          "output_type": "stream",
          "name": "stdout",
          "text": [
            "\n",
            "      Epoch    GPU_mem       loss  Instances       Size\n"
          ]
        },
        {
          "output_type": "stream",
          "name": "stderr",
          "text": [
            "    60/1000     0.505G    0.04839          4        224: 100%|██████████| 150/150 [00:05<00:00, 27.29it/s]\n",
            "               classes   top1_acc   top5_acc: 100%|██████████| 8/8 [00:00<00:00, 48.78it/s]"
          ]
        },
        {
          "output_type": "stream",
          "name": "stdout",
          "text": [
            "                   all      0.925          1\n"
          ]
        },
        {
          "output_type": "stream",
          "name": "stderr",
          "text": [
            "\n"
          ]
        },
        {
          "output_type": "stream",
          "name": "stdout",
          "text": [
            "\n",
            "      Epoch    GPU_mem       loss  Instances       Size\n"
          ]
        },
        {
          "output_type": "stream",
          "name": "stderr",
          "text": [
            "    61/1000     0.505G    0.03699          4        224: 100%|██████████| 150/150 [00:05<00:00, 28.04it/s]\n",
            "               classes   top1_acc   top5_acc: 100%|██████████| 8/8 [00:00<00:00, 34.83it/s]"
          ]
        },
        {
          "output_type": "stream",
          "name": "stdout",
          "text": [
            "                   all      0.925          1\n"
          ]
        },
        {
          "output_type": "stream",
          "name": "stderr",
          "text": [
            "\n"
          ]
        },
        {
          "output_type": "stream",
          "name": "stdout",
          "text": [
            "\n",
            "      Epoch    GPU_mem       loss  Instances       Size\n"
          ]
        },
        {
          "output_type": "stream",
          "name": "stderr",
          "text": [
            "    62/1000     0.505G    0.03122          4        224: 100%|██████████| 150/150 [00:05<00:00, 27.50it/s]\n",
            "               classes   top1_acc   top5_acc: 100%|██████████| 8/8 [00:00<00:00, 49.67it/s]"
          ]
        },
        {
          "output_type": "stream",
          "name": "stdout",
          "text": [
            "                   all       0.93          1\n"
          ]
        },
        {
          "output_type": "stream",
          "name": "stderr",
          "text": [
            "\n"
          ]
        },
        {
          "output_type": "stream",
          "name": "stdout",
          "text": [
            "\n",
            "      Epoch    GPU_mem       loss  Instances       Size\n"
          ]
        },
        {
          "output_type": "stream",
          "name": "stderr",
          "text": [
            "    63/1000     0.505G    0.03318          4        224: 100%|██████████| 150/150 [00:05<00:00, 27.61it/s]\n",
            "               classes   top1_acc   top5_acc: 100%|██████████| 8/8 [00:00<00:00, 46.71it/s]\n"
          ]
        },
        {
          "output_type": "stream",
          "name": "stdout",
          "text": [
            "                   all      0.939          1\n",
            "\n",
            "      Epoch    GPU_mem       loss  Instances       Size\n"
          ]
        },
        {
          "output_type": "stream",
          "name": "stderr",
          "text": [
            "    64/1000     0.505G     0.0462          4        224: 100%|██████████| 150/150 [00:05<00:00, 28.39it/s]\n",
            "               classes   top1_acc   top5_acc: 100%|██████████| 8/8 [00:00<00:00, 68.20it/s]"
          ]
        },
        {
          "output_type": "stream",
          "name": "stdout",
          "text": [
            "                   all      0.939          1\n"
          ]
        },
        {
          "output_type": "stream",
          "name": "stderr",
          "text": [
            "\n"
          ]
        },
        {
          "output_type": "stream",
          "name": "stdout",
          "text": [
            "\n",
            "      Epoch    GPU_mem       loss  Instances       Size\n"
          ]
        },
        {
          "output_type": "stream",
          "name": "stderr",
          "text": [
            "    65/1000     0.505G    0.05839          4        224: 100%|██████████| 150/150 [00:05<00:00, 27.71it/s]\n",
            "               classes   top1_acc   top5_acc: 100%|██████████| 8/8 [00:00<00:00, 43.47it/s]"
          ]
        },
        {
          "output_type": "stream",
          "name": "stdout",
          "text": [
            "                   all       0.93          1\n"
          ]
        },
        {
          "output_type": "stream",
          "name": "stderr",
          "text": [
            "\n"
          ]
        },
        {
          "output_type": "stream",
          "name": "stdout",
          "text": [
            "\n",
            "      Epoch    GPU_mem       loss  Instances       Size\n"
          ]
        },
        {
          "output_type": "stream",
          "name": "stderr",
          "text": [
            "    66/1000     0.505G    0.03526          4        224: 100%|██████████| 150/150 [00:05<00:00, 26.60it/s]\n",
            "               classes   top1_acc   top5_acc: 100%|██████████| 8/8 [00:00<00:00, 52.40it/s]"
          ]
        },
        {
          "output_type": "stream",
          "name": "stdout",
          "text": [
            "                   all      0.943          1\n"
          ]
        },
        {
          "output_type": "stream",
          "name": "stderr",
          "text": [
            "\n"
          ]
        },
        {
          "output_type": "stream",
          "name": "stdout",
          "text": [
            "\n",
            "      Epoch    GPU_mem       loss  Instances       Size\n"
          ]
        },
        {
          "output_type": "stream",
          "name": "stderr",
          "text": [
            "    67/1000     0.505G    0.04395          4        224: 100%|██████████| 150/150 [00:05<00:00, 28.11it/s]\n",
            "               classes   top1_acc   top5_acc: 100%|██████████| 8/8 [00:00<00:00, 47.28it/s]"
          ]
        },
        {
          "output_type": "stream",
          "name": "stdout",
          "text": [
            "                   all      0.943          1\n"
          ]
        },
        {
          "output_type": "stream",
          "name": "stderr",
          "text": [
            "\n"
          ]
        },
        {
          "output_type": "stream",
          "name": "stdout",
          "text": [
            "\n",
            "      Epoch    GPU_mem       loss  Instances       Size\n"
          ]
        },
        {
          "output_type": "stream",
          "name": "stderr",
          "text": [
            "    68/1000     0.505G    0.05828          4        224: 100%|██████████| 150/150 [00:05<00:00, 28.05it/s]\n",
            "               classes   top1_acc   top5_acc: 100%|██████████| 8/8 [00:00<00:00, 44.54it/s]"
          ]
        },
        {
          "output_type": "stream",
          "name": "stdout",
          "text": [
            "                   all      0.934          1\n"
          ]
        },
        {
          "output_type": "stream",
          "name": "stderr",
          "text": [
            "\n"
          ]
        },
        {
          "output_type": "stream",
          "name": "stdout",
          "text": [
            "\n",
            "      Epoch    GPU_mem       loss  Instances       Size\n"
          ]
        },
        {
          "output_type": "stream",
          "name": "stderr",
          "text": [
            "    69/1000     0.505G    0.04827          4        224: 100%|██████████| 150/150 [00:05<00:00, 27.25it/s]\n",
            "               classes   top1_acc   top5_acc: 100%|██████████| 8/8 [00:00<00:00, 49.36it/s]"
          ]
        },
        {
          "output_type": "stream",
          "name": "stdout",
          "text": [
            "                   all      0.952          1\n"
          ]
        },
        {
          "output_type": "stream",
          "name": "stderr",
          "text": [
            "\n"
          ]
        },
        {
          "output_type": "stream",
          "name": "stdout",
          "text": [
            "\n",
            "      Epoch    GPU_mem       loss  Instances       Size\n"
          ]
        },
        {
          "output_type": "stream",
          "name": "stderr",
          "text": [
            "    70/1000     0.505G     0.0361          4        224: 100%|██████████| 150/150 [00:05<00:00, 28.12it/s]\n",
            "               classes   top1_acc   top5_acc: 100%|██████████| 8/8 [00:00<00:00, 50.38it/s]"
          ]
        },
        {
          "output_type": "stream",
          "name": "stdout",
          "text": [
            "                   all      0.939          1\n"
          ]
        },
        {
          "output_type": "stream",
          "name": "stderr",
          "text": [
            "\n"
          ]
        },
        {
          "output_type": "stream",
          "name": "stdout",
          "text": [
            "\n",
            "      Epoch    GPU_mem       loss  Instances       Size\n"
          ]
        },
        {
          "output_type": "stream",
          "name": "stderr",
          "text": [
            "    71/1000     0.505G    0.03188          4        224: 100%|██████████| 150/150 [00:05<00:00, 28.02it/s]\n",
            "               classes   top1_acc   top5_acc: 100%|██████████| 8/8 [00:00<00:00, 43.41it/s]\n"
          ]
        },
        {
          "output_type": "stream",
          "name": "stdout",
          "text": [
            "                   all       0.93          1\n",
            "\n",
            "      Epoch    GPU_mem       loss  Instances       Size\n"
          ]
        },
        {
          "output_type": "stream",
          "name": "stderr",
          "text": [
            "    72/1000     0.505G    0.02536          4        224: 100%|██████████| 150/150 [00:05<00:00, 27.51it/s]\n",
            "               classes   top1_acc   top5_acc: 100%|██████████| 8/8 [00:00<00:00, 55.85it/s]"
          ]
        },
        {
          "output_type": "stream",
          "name": "stdout",
          "text": [
            "                   all       0.93          1\n"
          ]
        },
        {
          "output_type": "stream",
          "name": "stderr",
          "text": [
            "\n"
          ]
        },
        {
          "output_type": "stream",
          "name": "stdout",
          "text": [
            "\n",
            "      Epoch    GPU_mem       loss  Instances       Size\n"
          ]
        },
        {
          "output_type": "stream",
          "name": "stderr",
          "text": [
            "    73/1000     0.505G    0.03783          4        224: 100%|██████████| 150/150 [00:05<00:00, 27.79it/s]\n",
            "               classes   top1_acc   top5_acc: 100%|██████████| 8/8 [00:00<00:00, 65.12it/s]\n"
          ]
        },
        {
          "output_type": "stream",
          "name": "stdout",
          "text": [
            "                   all       0.93          1\n",
            "\n",
            "      Epoch    GPU_mem       loss  Instances       Size\n"
          ]
        },
        {
          "output_type": "stream",
          "name": "stderr",
          "text": [
            "    74/1000     0.505G    0.06182          4        224: 100%|██████████| 150/150 [00:05<00:00, 27.93it/s]\n",
            "               classes   top1_acc   top5_acc: 100%|██████████| 8/8 [00:00<00:00, 60.51it/s]"
          ]
        },
        {
          "output_type": "stream",
          "name": "stdout",
          "text": [
            "                   all      0.917          1\n"
          ]
        },
        {
          "output_type": "stream",
          "name": "stderr",
          "text": [
            "\n"
          ]
        },
        {
          "output_type": "stream",
          "name": "stdout",
          "text": [
            "\n",
            "      Epoch    GPU_mem       loss  Instances       Size\n"
          ]
        },
        {
          "output_type": "stream",
          "name": "stderr",
          "text": [
            "    75/1000     0.505G    0.04605          4        224: 100%|██████████| 150/150 [00:05<00:00, 27.49it/s]\n",
            "               classes   top1_acc   top5_acc: 100%|██████████| 8/8 [00:00<00:00, 64.89it/s]"
          ]
        },
        {
          "output_type": "stream",
          "name": "stdout",
          "text": [
            "                   all      0.939          1\n"
          ]
        },
        {
          "output_type": "stream",
          "name": "stderr",
          "text": [
            "\n"
          ]
        },
        {
          "output_type": "stream",
          "name": "stdout",
          "text": [
            "\n",
            "      Epoch    GPU_mem       loss  Instances       Size\n"
          ]
        },
        {
          "output_type": "stream",
          "name": "stderr",
          "text": [
            "    76/1000     0.505G    0.03607          4        224: 100%|██████████| 150/150 [00:05<00:00, 27.96it/s]\n",
            "               classes   top1_acc   top5_acc: 100%|██████████| 8/8 [00:00<00:00, 57.81it/s]\n"
          ]
        },
        {
          "output_type": "stream",
          "name": "stdout",
          "text": [
            "                   all      0.934          1\n",
            "\n",
            "      Epoch    GPU_mem       loss  Instances       Size\n"
          ]
        },
        {
          "output_type": "stream",
          "name": "stderr",
          "text": [
            "    77/1000     0.505G    0.03108          4        224: 100%|██████████| 150/150 [00:05<00:00, 27.44it/s]\n",
            "               classes   top1_acc   top5_acc: 100%|██████████| 8/8 [00:00<00:00, 53.43it/s]"
          ]
        },
        {
          "output_type": "stream",
          "name": "stdout",
          "text": [
            "                   all      0.921          1\n"
          ]
        },
        {
          "output_type": "stream",
          "name": "stderr",
          "text": [
            "\n"
          ]
        },
        {
          "output_type": "stream",
          "name": "stdout",
          "text": [
            "\n",
            "      Epoch    GPU_mem       loss  Instances       Size\n"
          ]
        },
        {
          "output_type": "stream",
          "name": "stderr",
          "text": [
            "    78/1000     0.505G    0.04053          4        224: 100%|██████████| 150/150 [00:05<00:00, 27.35it/s]\n",
            "               classes   top1_acc   top5_acc: 100%|██████████| 8/8 [00:00<00:00, 39.85it/s]"
          ]
        },
        {
          "output_type": "stream",
          "name": "stdout",
          "text": [
            "                   all      0.939          1\n"
          ]
        },
        {
          "output_type": "stream",
          "name": "stderr",
          "text": [
            "\n"
          ]
        },
        {
          "output_type": "stream",
          "name": "stdout",
          "text": [
            "\n",
            "      Epoch    GPU_mem       loss  Instances       Size\n"
          ]
        },
        {
          "output_type": "stream",
          "name": "stderr",
          "text": [
            "    79/1000     0.505G    0.03822          4        224: 100%|██████████| 150/150 [00:05<00:00, 27.49it/s]\n",
            "               classes   top1_acc   top5_acc: 100%|██████████| 8/8 [00:00<00:00, 75.39it/s]"
          ]
        },
        {
          "output_type": "stream",
          "name": "stdout",
          "text": [
            "                   all      0.952          1\n"
          ]
        },
        {
          "output_type": "stream",
          "name": "stderr",
          "text": [
            "\n"
          ]
        },
        {
          "output_type": "stream",
          "name": "stdout",
          "text": [
            "\n",
            "      Epoch    GPU_mem       loss  Instances       Size\n"
          ]
        },
        {
          "output_type": "stream",
          "name": "stderr",
          "text": [
            "    80/1000     0.505G    0.04502          4        224: 100%|██████████| 150/150 [00:05<00:00, 27.00it/s]\n",
            "               classes   top1_acc   top5_acc: 100%|██████████| 8/8 [00:00<00:00, 63.17it/s]"
          ]
        },
        {
          "output_type": "stream",
          "name": "stdout",
          "text": [
            "                   all      0.939          1\n"
          ]
        },
        {
          "output_type": "stream",
          "name": "stderr",
          "text": [
            "\n"
          ]
        },
        {
          "output_type": "stream",
          "name": "stdout",
          "text": [
            "\n",
            "      Epoch    GPU_mem       loss  Instances       Size\n"
          ]
        },
        {
          "output_type": "stream",
          "name": "stderr",
          "text": [
            "    81/1000     0.505G    0.04227          4        224: 100%|██████████| 150/150 [00:05<00:00, 27.87it/s]\n",
            "               classes   top1_acc   top5_acc: 100%|██████████| 8/8 [00:00<00:00, 70.08it/s]"
          ]
        },
        {
          "output_type": "stream",
          "name": "stdout",
          "text": [
            "                   all      0.943          1\n"
          ]
        },
        {
          "output_type": "stream",
          "name": "stderr",
          "text": [
            "\n"
          ]
        },
        {
          "output_type": "stream",
          "name": "stdout",
          "text": [
            "\n",
            "      Epoch    GPU_mem       loss  Instances       Size\n"
          ]
        },
        {
          "output_type": "stream",
          "name": "stderr",
          "text": [
            "    82/1000     0.505G    0.03426          4        224: 100%|██████████| 150/150 [00:05<00:00, 27.96it/s]\n",
            "               classes   top1_acc   top5_acc: 100%|██████████| 8/8 [00:00<00:00, 68.24it/s]"
          ]
        },
        {
          "output_type": "stream",
          "name": "stdout",
          "text": [
            "                   all      0.925          1\n"
          ]
        },
        {
          "output_type": "stream",
          "name": "stderr",
          "text": [
            "\n"
          ]
        },
        {
          "output_type": "stream",
          "name": "stdout",
          "text": [
            "\n",
            "      Epoch    GPU_mem       loss  Instances       Size\n"
          ]
        },
        {
          "output_type": "stream",
          "name": "stderr",
          "text": [
            "    83/1000     0.505G     0.0293          4        224: 100%|██████████| 150/150 [00:05<00:00, 27.75it/s]\n",
            "               classes   top1_acc   top5_acc: 100%|██████████| 8/8 [00:00<00:00, 57.37it/s]"
          ]
        },
        {
          "output_type": "stream",
          "name": "stdout",
          "text": [
            "                   all      0.943          1\n"
          ]
        },
        {
          "output_type": "stream",
          "name": "stderr",
          "text": [
            "\n"
          ]
        },
        {
          "output_type": "stream",
          "name": "stdout",
          "text": [
            "\n",
            "      Epoch    GPU_mem       loss  Instances       Size\n"
          ]
        },
        {
          "output_type": "stream",
          "name": "stderr",
          "text": [
            "    84/1000     0.505G    0.04296          4        224: 100%|██████████| 150/150 [00:05<00:00, 27.58it/s]\n",
            "               classes   top1_acc   top5_acc: 100%|██████████| 8/8 [00:00<00:00, 65.97it/s]"
          ]
        },
        {
          "output_type": "stream",
          "name": "stdout",
          "text": [
            "                   all       0.93          1\n"
          ]
        },
        {
          "output_type": "stream",
          "name": "stderr",
          "text": [
            "\n"
          ]
        },
        {
          "output_type": "stream",
          "name": "stdout",
          "text": [
            "\n",
            "      Epoch    GPU_mem       loss  Instances       Size\n"
          ]
        },
        {
          "output_type": "stream",
          "name": "stderr",
          "text": [
            "    85/1000     0.505G      0.028          4        224: 100%|██████████| 150/150 [00:05<00:00, 28.18it/s]\n",
            "               classes   top1_acc   top5_acc: 100%|██████████| 8/8 [00:00<00:00, 55.91it/s]"
          ]
        },
        {
          "output_type": "stream",
          "name": "stdout",
          "text": [
            "                   all       0.93          1\n"
          ]
        },
        {
          "output_type": "stream",
          "name": "stderr",
          "text": [
            "\n"
          ]
        },
        {
          "output_type": "stream",
          "name": "stdout",
          "text": [
            "\n",
            "      Epoch    GPU_mem       loss  Instances       Size\n"
          ]
        },
        {
          "output_type": "stream",
          "name": "stderr",
          "text": [
            "    86/1000     0.505G    0.03985          4        224: 100%|██████████| 150/150 [00:05<00:00, 27.22it/s]\n",
            "               classes   top1_acc   top5_acc: 100%|██████████| 8/8 [00:00<00:00, 79.99it/s]"
          ]
        },
        {
          "output_type": "stream",
          "name": "stdout",
          "text": [
            "                   all      0.934          1\n"
          ]
        },
        {
          "output_type": "stream",
          "name": "stderr",
          "text": [
            "\n"
          ]
        },
        {
          "output_type": "stream",
          "name": "stdout",
          "text": [
            "\n",
            "      Epoch    GPU_mem       loss  Instances       Size\n"
          ]
        },
        {
          "output_type": "stream",
          "name": "stderr",
          "text": [
            "    87/1000     0.505G    0.04357          4        224: 100%|██████████| 150/150 [00:05<00:00, 27.54it/s]\n",
            "               classes   top1_acc   top5_acc: 100%|██████████| 8/8 [00:00<00:00, 76.83it/s]"
          ]
        },
        {
          "output_type": "stream",
          "name": "stdout",
          "text": [
            "                   all      0.934          1\n"
          ]
        },
        {
          "output_type": "stream",
          "name": "stderr",
          "text": [
            "\n"
          ]
        },
        {
          "output_type": "stream",
          "name": "stdout",
          "text": [
            "\n",
            "      Epoch    GPU_mem       loss  Instances       Size\n"
          ]
        },
        {
          "output_type": "stream",
          "name": "stderr",
          "text": [
            "    88/1000     0.505G    0.04583          4        224: 100%|██████████| 150/150 [00:05<00:00, 28.28it/s]\n",
            "               classes   top1_acc   top5_acc: 100%|██████████| 8/8 [00:00<00:00, 63.85it/s]"
          ]
        },
        {
          "output_type": "stream",
          "name": "stdout",
          "text": [
            "                   all      0.943          1\n"
          ]
        },
        {
          "output_type": "stream",
          "name": "stderr",
          "text": [
            "\n"
          ]
        },
        {
          "output_type": "stream",
          "name": "stdout",
          "text": [
            "\n",
            "      Epoch    GPU_mem       loss  Instances       Size\n"
          ]
        },
        {
          "output_type": "stream",
          "name": "stderr",
          "text": [
            "    89/1000     0.505G    0.04139          4        224: 100%|██████████| 150/150 [00:05<00:00, 27.76it/s]\n",
            "               classes   top1_acc   top5_acc: 100%|██████████| 8/8 [00:00<00:00, 49.07it/s]"
          ]
        },
        {
          "output_type": "stream",
          "name": "stdout",
          "text": [
            "                   all      0.939          1\n"
          ]
        },
        {
          "output_type": "stream",
          "name": "stderr",
          "text": [
            "\n"
          ]
        },
        {
          "output_type": "stream",
          "name": "stdout",
          "text": [
            "\n",
            "      Epoch    GPU_mem       loss  Instances       Size\n"
          ]
        },
        {
          "output_type": "stream",
          "name": "stderr",
          "text": [
            "    90/1000     0.505G    0.04021          4        224: 100%|██████████| 150/150 [00:05<00:00, 27.92it/s]\n",
            "               classes   top1_acc   top5_acc: 100%|██████████| 8/8 [00:00<00:00, 50.52it/s]"
          ]
        },
        {
          "output_type": "stream",
          "name": "stdout",
          "text": [
            "                   all      0.925          1\n"
          ]
        },
        {
          "output_type": "stream",
          "name": "stderr",
          "text": [
            "\n"
          ]
        },
        {
          "output_type": "stream",
          "name": "stdout",
          "text": [
            "\n",
            "      Epoch    GPU_mem       loss  Instances       Size\n"
          ]
        },
        {
          "output_type": "stream",
          "name": "stderr",
          "text": [
            "    91/1000     0.505G    0.03822          4        224: 100%|██████████| 150/150 [00:05<00:00, 27.57it/s]\n",
            "               classes   top1_acc   top5_acc: 100%|██████████| 8/8 [00:00<00:00, 56.17it/s]"
          ]
        },
        {
          "output_type": "stream",
          "name": "stdout",
          "text": [
            "                   all      0.925          1\n"
          ]
        },
        {
          "output_type": "stream",
          "name": "stderr",
          "text": [
            "\n"
          ]
        },
        {
          "output_type": "stream",
          "name": "stdout",
          "text": [
            "\n",
            "      Epoch    GPU_mem       loss  Instances       Size\n"
          ]
        },
        {
          "output_type": "stream",
          "name": "stderr",
          "text": [
            "    92/1000     0.505G       0.03          4        224: 100%|██████████| 150/150 [00:05<00:00, 27.51it/s]\n",
            "               classes   top1_acc   top5_acc: 100%|██████████| 8/8 [00:00<00:00, 49.41it/s]"
          ]
        },
        {
          "output_type": "stream",
          "name": "stdout",
          "text": [
            "                   all      0.939          1\n"
          ]
        },
        {
          "output_type": "stream",
          "name": "stderr",
          "text": [
            "\n"
          ]
        },
        {
          "output_type": "stream",
          "name": "stdout",
          "text": [
            "\n",
            "      Epoch    GPU_mem       loss  Instances       Size\n"
          ]
        },
        {
          "output_type": "stream",
          "name": "stderr",
          "text": [
            "    93/1000     0.505G    0.03151          4        224: 100%|██████████| 150/150 [00:05<00:00, 28.79it/s]\n",
            "               classes   top1_acc   top5_acc: 100%|██████████| 8/8 [00:00<00:00, 57.74it/s]"
          ]
        },
        {
          "output_type": "stream",
          "name": "stdout",
          "text": [
            "                   all       0.93          1\n"
          ]
        },
        {
          "output_type": "stream",
          "name": "stderr",
          "text": [
            "\n"
          ]
        },
        {
          "output_type": "stream",
          "name": "stdout",
          "text": [
            "\n",
            "      Epoch    GPU_mem       loss  Instances       Size\n"
          ]
        },
        {
          "output_type": "stream",
          "name": "stderr",
          "text": [
            "    94/1000     0.505G     0.0393          4        224: 100%|██████████| 150/150 [00:05<00:00, 27.80it/s]\n",
            "               classes   top1_acc   top5_acc: 100%|██████████| 8/8 [00:00<00:00, 56.42it/s]"
          ]
        },
        {
          "output_type": "stream",
          "name": "stdout",
          "text": [
            "                   all      0.934          1\n"
          ]
        },
        {
          "output_type": "stream",
          "name": "stderr",
          "text": [
            "\n"
          ]
        },
        {
          "output_type": "stream",
          "name": "stdout",
          "text": [
            "\n",
            "      Epoch    GPU_mem       loss  Instances       Size\n"
          ]
        },
        {
          "output_type": "stream",
          "name": "stderr",
          "text": [
            "    95/1000     0.505G    0.03666          4        224: 100%|██████████| 150/150 [00:05<00:00, 28.05it/s]\n",
            "               classes   top1_acc   top5_acc: 100%|██████████| 8/8 [00:00<00:00, 49.80it/s]"
          ]
        },
        {
          "output_type": "stream",
          "name": "stdout",
          "text": [
            "                   all      0.921          1\n"
          ]
        },
        {
          "output_type": "stream",
          "name": "stderr",
          "text": [
            "\n"
          ]
        },
        {
          "output_type": "stream",
          "name": "stdout",
          "text": [
            "\n",
            "      Epoch    GPU_mem       loss  Instances       Size\n"
          ]
        },
        {
          "output_type": "stream",
          "name": "stderr",
          "text": [
            "    96/1000     0.505G    0.04393          4        224: 100%|██████████| 150/150 [00:05<00:00, 26.96it/s]\n",
            "               classes   top1_acc   top5_acc: 100%|██████████| 8/8 [00:00<00:00, 70.79it/s]"
          ]
        },
        {
          "output_type": "stream",
          "name": "stdout",
          "text": [
            "                   all      0.921          1\n"
          ]
        },
        {
          "output_type": "stream",
          "name": "stderr",
          "text": [
            "\n"
          ]
        },
        {
          "output_type": "stream",
          "name": "stdout",
          "text": [
            "\n",
            "      Epoch    GPU_mem       loss  Instances       Size\n"
          ]
        },
        {
          "output_type": "stream",
          "name": "stderr",
          "text": [
            "    97/1000     0.505G     0.0433          4        224: 100%|██████████| 150/150 [00:05<00:00, 27.45it/s]\n",
            "               classes   top1_acc   top5_acc: 100%|██████████| 8/8 [00:00<00:00, 60.95it/s]"
          ]
        },
        {
          "output_type": "stream",
          "name": "stdout",
          "text": [
            "                   all      0.917          1\n"
          ]
        },
        {
          "output_type": "stream",
          "name": "stderr",
          "text": [
            "\n"
          ]
        },
        {
          "output_type": "stream",
          "name": "stdout",
          "text": [
            "\n",
            "      Epoch    GPU_mem       loss  Instances       Size\n"
          ]
        },
        {
          "output_type": "stream",
          "name": "stderr",
          "text": [
            "    98/1000     0.505G    0.02595          4        224: 100%|██████████| 150/150 [00:05<00:00, 27.08it/s]\n",
            "               classes   top1_acc   top5_acc: 100%|██████████| 8/8 [00:00<00:00, 39.30it/s]"
          ]
        },
        {
          "output_type": "stream",
          "name": "stdout",
          "text": [
            "                   all      0.934          1\n"
          ]
        },
        {
          "output_type": "stream",
          "name": "stderr",
          "text": [
            "\n"
          ]
        },
        {
          "output_type": "stream",
          "name": "stdout",
          "text": [
            "\n",
            "      Epoch    GPU_mem       loss  Instances       Size\n"
          ]
        },
        {
          "output_type": "stream",
          "name": "stderr",
          "text": [
            "    99/1000     0.505G    0.03591          4        224: 100%|██████████| 150/150 [00:05<00:00, 28.04it/s]\n",
            "               classes   top1_acc   top5_acc: 100%|██████████| 8/8 [00:00<00:00, 49.80it/s]"
          ]
        },
        {
          "output_type": "stream",
          "name": "stdout",
          "text": [
            "                   all      0.912          1\n"
          ]
        },
        {
          "output_type": "stream",
          "name": "stderr",
          "text": [
            "\n"
          ]
        },
        {
          "output_type": "stream",
          "name": "stdout",
          "text": [
            "\n",
            "      Epoch    GPU_mem       loss  Instances       Size\n"
          ]
        },
        {
          "output_type": "stream",
          "name": "stderr",
          "text": [
            "   100/1000     0.505G    0.03409          4        224: 100%|██████████| 150/150 [00:05<00:00, 28.20it/s]\n",
            "               classes   top1_acc   top5_acc: 100%|██████████| 8/8 [00:00<00:00, 46.36it/s]\n"
          ]
        },
        {
          "output_type": "stream",
          "name": "stdout",
          "text": [
            "                   all      0.925          1\n",
            "\n",
            "      Epoch    GPU_mem       loss  Instances       Size\n"
          ]
        },
        {
          "output_type": "stream",
          "name": "stderr",
          "text": [
            "   101/1000     0.505G    0.02988          4        224: 100%|██████████| 150/150 [00:05<00:00, 27.30it/s]\n",
            "               classes   top1_acc   top5_acc: 100%|██████████| 8/8 [00:00<00:00, 44.03it/s]"
          ]
        },
        {
          "output_type": "stream",
          "name": "stdout",
          "text": [
            "                   all      0.912          1\n"
          ]
        },
        {
          "output_type": "stream",
          "name": "stderr",
          "text": [
            "\n"
          ]
        },
        {
          "output_type": "stream",
          "name": "stdout",
          "text": [
            "\n",
            "      Epoch    GPU_mem       loss  Instances       Size\n"
          ]
        },
        {
          "output_type": "stream",
          "name": "stderr",
          "text": [
            "   102/1000     0.505G    0.03152          4        224: 100%|██████████| 150/150 [00:05<00:00, 27.91it/s]\n",
            "               classes   top1_acc   top5_acc: 100%|██████████| 8/8 [00:00<00:00, 63.90it/s]"
          ]
        },
        {
          "output_type": "stream",
          "name": "stdout",
          "text": [
            "                   all      0.921          1\n"
          ]
        },
        {
          "output_type": "stream",
          "name": "stderr",
          "text": [
            "\n"
          ]
        },
        {
          "output_type": "stream",
          "name": "stdout",
          "text": [
            "\n",
            "      Epoch    GPU_mem       loss  Instances       Size\n"
          ]
        },
        {
          "output_type": "stream",
          "name": "stderr",
          "text": [
            "   103/1000     0.505G    0.02289          4        224: 100%|██████████| 150/150 [00:05<00:00, 27.73it/s]\n",
            "               classes   top1_acc   top5_acc: 100%|██████████| 8/8 [00:00<00:00, 64.01it/s]"
          ]
        },
        {
          "output_type": "stream",
          "name": "stdout",
          "text": [
            "                   all       0.93          1\n"
          ]
        },
        {
          "output_type": "stream",
          "name": "stderr",
          "text": [
            "\n"
          ]
        },
        {
          "output_type": "stream",
          "name": "stdout",
          "text": [
            "\n",
            "      Epoch    GPU_mem       loss  Instances       Size\n"
          ]
        },
        {
          "output_type": "stream",
          "name": "stderr",
          "text": [
            "   104/1000     0.505G    0.03612          4        224: 100%|██████████| 150/150 [00:05<00:00, 27.37it/s]\n",
            "               classes   top1_acc   top5_acc: 100%|██████████| 8/8 [00:00<00:00, 36.13it/s]"
          ]
        },
        {
          "output_type": "stream",
          "name": "stdout",
          "text": [
            "                   all       0.93          1\n"
          ]
        },
        {
          "output_type": "stream",
          "name": "stderr",
          "text": [
            "\n"
          ]
        },
        {
          "output_type": "stream",
          "name": "stdout",
          "text": [
            "\n",
            "      Epoch    GPU_mem       loss  Instances       Size\n"
          ]
        },
        {
          "output_type": "stream",
          "name": "stderr",
          "text": [
            "   105/1000     0.505G    0.04319          4        224: 100%|██████████| 150/150 [00:05<00:00, 28.38it/s]\n",
            "               classes   top1_acc   top5_acc: 100%|██████████| 8/8 [00:00<00:00, 91.08it/s]\n"
          ]
        },
        {
          "output_type": "stream",
          "name": "stdout",
          "text": [
            "                   all      0.947          1\n",
            "\n",
            "      Epoch    GPU_mem       loss  Instances       Size\n"
          ]
        },
        {
          "output_type": "stream",
          "name": "stderr",
          "text": [
            "   106/1000     0.505G     0.0323          4        224: 100%|██████████| 150/150 [00:05<00:00, 27.34it/s]\n",
            "               classes   top1_acc   top5_acc: 100%|██████████| 8/8 [00:00<00:00, 79.43it/s]"
          ]
        },
        {
          "output_type": "stream",
          "name": "stdout",
          "text": [
            "                   all      0.917          1\n"
          ]
        },
        {
          "output_type": "stream",
          "name": "stderr",
          "text": [
            "\n"
          ]
        },
        {
          "output_type": "stream",
          "name": "stdout",
          "text": [
            "\n",
            "      Epoch    GPU_mem       loss  Instances       Size\n"
          ]
        },
        {
          "output_type": "stream",
          "name": "stderr",
          "text": [
            "   107/1000     0.505G    0.03347          4        224: 100%|██████████| 150/150 [00:05<00:00, 27.49it/s]\n",
            "               classes   top1_acc   top5_acc: 100%|██████████| 8/8 [00:00<00:00, 47.32it/s]"
          ]
        },
        {
          "output_type": "stream",
          "name": "stdout",
          "text": [
            "                   all      0.925          1\n"
          ]
        },
        {
          "output_type": "stream",
          "name": "stderr",
          "text": [
            "\n"
          ]
        },
        {
          "output_type": "stream",
          "name": "stdout",
          "text": [
            "\n",
            "      Epoch    GPU_mem       loss  Instances       Size\n"
          ]
        },
        {
          "output_type": "stream",
          "name": "stderr",
          "text": [
            "   108/1000     0.505G    0.03433          4        224: 100%|██████████| 150/150 [00:05<00:00, 28.59it/s]\n",
            "               classes   top1_acc   top5_acc: 100%|██████████| 8/8 [00:00<00:00, 51.69it/s]"
          ]
        },
        {
          "output_type": "stream",
          "name": "stdout",
          "text": [
            "                   all      0.917          1\n"
          ]
        },
        {
          "output_type": "stream",
          "name": "stderr",
          "text": [
            "\n"
          ]
        },
        {
          "output_type": "stream",
          "name": "stdout",
          "text": [
            "\n",
            "      Epoch    GPU_mem       loss  Instances       Size\n"
          ]
        },
        {
          "output_type": "stream",
          "name": "stderr",
          "text": [
            "   109/1000     0.505G    0.03768          4        224: 100%|██████████| 150/150 [00:05<00:00, 27.05it/s]\n",
            "               classes   top1_acc   top5_acc: 100%|██████████| 8/8 [00:00<00:00, 68.33it/s]"
          ]
        },
        {
          "output_type": "stream",
          "name": "stdout",
          "text": [
            "                   all      0.921          1\n"
          ]
        },
        {
          "output_type": "stream",
          "name": "stderr",
          "text": [
            "\n"
          ]
        },
        {
          "output_type": "stream",
          "name": "stdout",
          "text": [
            "\n",
            "      Epoch    GPU_mem       loss  Instances       Size\n"
          ]
        },
        {
          "output_type": "stream",
          "name": "stderr",
          "text": [
            "   110/1000     0.505G    0.03726          4        224: 100%|██████████| 150/150 [00:05<00:00, 27.73it/s]\n",
            "               classes   top1_acc   top5_acc: 100%|██████████| 8/8 [00:00<00:00, 80.25it/s]"
          ]
        },
        {
          "output_type": "stream",
          "name": "stdout",
          "text": [
            "                   all      0.925          1\n"
          ]
        },
        {
          "output_type": "stream",
          "name": "stderr",
          "text": [
            "\n"
          ]
        },
        {
          "output_type": "stream",
          "name": "stdout",
          "text": [
            "\n",
            "      Epoch    GPU_mem       loss  Instances       Size\n"
          ]
        },
        {
          "output_type": "stream",
          "name": "stderr",
          "text": [
            "   111/1000     0.505G    0.02522          4        224: 100%|██████████| 150/150 [00:05<00:00, 27.50it/s]\n",
            "               classes   top1_acc   top5_acc: 100%|██████████| 8/8 [00:00<00:00, 65.07it/s]"
          ]
        },
        {
          "output_type": "stream",
          "name": "stdout",
          "text": [
            "                   all      0.921          1\n"
          ]
        },
        {
          "output_type": "stream",
          "name": "stderr",
          "text": [
            "\n"
          ]
        },
        {
          "output_type": "stream",
          "name": "stdout",
          "text": [
            "\n",
            "      Epoch    GPU_mem       loss  Instances       Size\n"
          ]
        },
        {
          "output_type": "stream",
          "name": "stderr",
          "text": [
            "   112/1000     0.505G    0.02788          4        224: 100%|██████████| 150/150 [00:05<00:00, 27.57it/s]\n",
            "               classes   top1_acc   top5_acc: 100%|██████████| 8/8 [00:00<00:00, 53.29it/s]"
          ]
        },
        {
          "output_type": "stream",
          "name": "stdout",
          "text": [
            "                   all      0.934          1\n"
          ]
        },
        {
          "output_type": "stream",
          "name": "stderr",
          "text": [
            "\n"
          ]
        },
        {
          "output_type": "stream",
          "name": "stdout",
          "text": [
            "\n",
            "      Epoch    GPU_mem       loss  Instances       Size\n"
          ]
        },
        {
          "output_type": "stream",
          "name": "stderr",
          "text": [
            "   113/1000     0.505G    0.03008          4        224: 100%|██████████| 150/150 [00:05<00:00, 27.84it/s]\n",
            "               classes   top1_acc   top5_acc: 100%|██████████| 8/8 [00:00<00:00, 51.23it/s]"
          ]
        },
        {
          "output_type": "stream",
          "name": "stdout",
          "text": [
            "                   all      0.939          1\n"
          ]
        },
        {
          "output_type": "stream",
          "name": "stderr",
          "text": [
            "\n"
          ]
        },
        {
          "output_type": "stream",
          "name": "stdout",
          "text": [
            "\n",
            "      Epoch    GPU_mem       loss  Instances       Size\n"
          ]
        },
        {
          "output_type": "stream",
          "name": "stderr",
          "text": [
            "   114/1000     0.505G     0.0284          4        224: 100%|██████████| 150/150 [00:05<00:00, 27.97it/s]\n",
            "               classes   top1_acc   top5_acc: 100%|██████████| 8/8 [00:00<00:00, 64.01it/s]"
          ]
        },
        {
          "output_type": "stream",
          "name": "stdout",
          "text": [
            "                   all      0.921          1\n"
          ]
        },
        {
          "output_type": "stream",
          "name": "stderr",
          "text": [
            "\n"
          ]
        },
        {
          "output_type": "stream",
          "name": "stdout",
          "text": [
            "\n",
            "      Epoch    GPU_mem       loss  Instances       Size\n"
          ]
        },
        {
          "output_type": "stream",
          "name": "stderr",
          "text": [
            "   115/1000     0.508G    0.02413          4        224: 100%|██████████| 150/150 [00:05<00:00, 27.19it/s]\n",
            "               classes   top1_acc   top5_acc: 100%|██████████| 8/8 [00:00<00:00, 51.67it/s]"
          ]
        },
        {
          "output_type": "stream",
          "name": "stdout",
          "text": [
            "                   all       0.93          1\n"
          ]
        },
        {
          "output_type": "stream",
          "name": "stderr",
          "text": [
            "\n"
          ]
        },
        {
          "output_type": "stream",
          "name": "stdout",
          "text": [
            "\n",
            "      Epoch    GPU_mem       loss  Instances       Size\n"
          ]
        },
        {
          "output_type": "stream",
          "name": "stderr",
          "text": [
            "   116/1000     0.505G    0.03313          4        224: 100%|██████████| 150/150 [00:05<00:00, 27.88it/s]\n",
            "               classes   top1_acc   top5_acc: 100%|██████████| 8/8 [00:00<00:00, 68.95it/s]"
          ]
        },
        {
          "output_type": "stream",
          "name": "stdout",
          "text": [
            "                   all      0.934          1\n"
          ]
        },
        {
          "output_type": "stream",
          "name": "stderr",
          "text": [
            "\n"
          ]
        },
        {
          "output_type": "stream",
          "name": "stdout",
          "text": [
            "\n",
            "      Epoch    GPU_mem       loss  Instances       Size\n"
          ]
        },
        {
          "output_type": "stream",
          "name": "stderr",
          "text": [
            "   117/1000     0.505G    0.02546          4        224: 100%|██████████| 150/150 [00:05<00:00, 27.96it/s]\n",
            "               classes   top1_acc   top5_acc: 100%|██████████| 8/8 [00:00<00:00, 81.23it/s]\n"
          ]
        },
        {
          "output_type": "stream",
          "name": "stdout",
          "text": [
            "                   all      0.925          1\n",
            "\n",
            "      Epoch    GPU_mem       loss  Instances       Size\n"
          ]
        },
        {
          "output_type": "stream",
          "name": "stderr",
          "text": [
            "   118/1000     0.505G    0.02304          4        224: 100%|██████████| 150/150 [00:05<00:00, 27.36it/s]\n",
            "               classes   top1_acc   top5_acc: 100%|██████████| 8/8 [00:00<00:00, 42.02it/s]"
          ]
        },
        {
          "output_type": "stream",
          "name": "stdout",
          "text": [
            "                   all      0.925          1\n"
          ]
        },
        {
          "output_type": "stream",
          "name": "stderr",
          "text": [
            "\n"
          ]
        },
        {
          "output_type": "stream",
          "name": "stdout",
          "text": [
            "\n",
            "      Epoch    GPU_mem       loss  Instances       Size\n"
          ]
        },
        {
          "output_type": "stream",
          "name": "stderr",
          "text": [
            "   119/1000     0.505G    0.03408          4        224: 100%|██████████| 150/150 [00:05<00:00, 27.52it/s]\n",
            "               classes   top1_acc   top5_acc: 100%|██████████| 8/8 [00:00<00:00, 35.16it/s]"
          ]
        },
        {
          "output_type": "stream",
          "name": "stdout",
          "text": [
            "                   all       0.93          1\n"
          ]
        },
        {
          "output_type": "stream",
          "name": "stderr",
          "text": [
            "\n"
          ]
        },
        {
          "output_type": "stream",
          "name": "stdout",
          "text": [
            "\n",
            "      Epoch    GPU_mem       loss  Instances       Size\n"
          ]
        },
        {
          "output_type": "stream",
          "name": "stderr",
          "text": [
            "   120/1000     0.505G    0.02649          4        224: 100%|██████████| 150/150 [00:05<00:00, 27.02it/s]\n",
            "               classes   top1_acc   top5_acc: 100%|██████████| 8/8 [00:00<00:00, 87.64it/s]"
          ]
        },
        {
          "output_type": "stream",
          "name": "stdout",
          "text": [
            "                   all      0.934          1\n"
          ]
        },
        {
          "output_type": "stream",
          "name": "stderr",
          "text": [
            "\n"
          ]
        },
        {
          "output_type": "stream",
          "name": "stdout",
          "text": [
            "\n",
            "      Epoch    GPU_mem       loss  Instances       Size\n"
          ]
        },
        {
          "output_type": "stream",
          "name": "stderr",
          "text": [
            "   121/1000     0.505G    0.02533          4        224: 100%|██████████| 150/150 [00:05<00:00, 27.51it/s]\n",
            "               classes   top1_acc   top5_acc: 100%|██████████| 8/8 [00:00<00:00, 44.55it/s]\n"
          ]
        },
        {
          "output_type": "stream",
          "name": "stdout",
          "text": [
            "                   all       0.93          1\n",
            "\n",
            "      Epoch    GPU_mem       loss  Instances       Size\n"
          ]
        },
        {
          "output_type": "stream",
          "name": "stderr",
          "text": [
            "   122/1000     0.505G    0.03568          4        224: 100%|██████████| 150/150 [00:05<00:00, 27.57it/s]\n",
            "               classes   top1_acc   top5_acc: 100%|██████████| 8/8 [00:00<00:00, 63.48it/s]"
          ]
        },
        {
          "output_type": "stream",
          "name": "stdout",
          "text": [
            "                   all      0.939          1\n"
          ]
        },
        {
          "output_type": "stream",
          "name": "stderr",
          "text": [
            "\n"
          ]
        },
        {
          "output_type": "stream",
          "name": "stdout",
          "text": [
            "\n",
            "      Epoch    GPU_mem       loss  Instances       Size\n"
          ]
        },
        {
          "output_type": "stream",
          "name": "stderr",
          "text": [
            "   123/1000     0.505G    0.03825          4        224: 100%|██████████| 150/150 [00:05<00:00, 28.23it/s]\n",
            "               classes   top1_acc   top5_acc: 100%|██████████| 8/8 [00:00<00:00, 82.86it/s]"
          ]
        },
        {
          "output_type": "stream",
          "name": "stdout",
          "text": [
            "                   all       0.93          1\n"
          ]
        },
        {
          "output_type": "stream",
          "name": "stderr",
          "text": [
            "\n"
          ]
        },
        {
          "output_type": "stream",
          "name": "stdout",
          "text": [
            "\n",
            "      Epoch    GPU_mem       loss  Instances       Size\n"
          ]
        },
        {
          "output_type": "stream",
          "name": "stderr",
          "text": [
            "   124/1000     0.505G    0.02741          4        224: 100%|██████████| 150/150 [00:05<00:00, 27.26it/s]\n",
            "               classes   top1_acc   top5_acc: 100%|██████████| 8/8 [00:00<00:00, 57.85it/s]"
          ]
        },
        {
          "output_type": "stream",
          "name": "stdout",
          "text": [
            "                   all       0.93          1\n"
          ]
        },
        {
          "output_type": "stream",
          "name": "stderr",
          "text": [
            "\n"
          ]
        },
        {
          "output_type": "stream",
          "name": "stdout",
          "text": [
            "\n",
            "      Epoch    GPU_mem       loss  Instances       Size\n"
          ]
        },
        {
          "output_type": "stream",
          "name": "stderr",
          "text": [
            "   125/1000     0.505G    0.02749          4        224: 100%|██████████| 150/150 [00:05<00:00, 27.96it/s]\n",
            "               classes   top1_acc   top5_acc: 100%|██████████| 8/8 [00:00<00:00, 87.24it/s]"
          ]
        },
        {
          "output_type": "stream",
          "name": "stdout",
          "text": [
            "                   all      0.934          1\n"
          ]
        },
        {
          "output_type": "stream",
          "name": "stderr",
          "text": [
            "\n"
          ]
        },
        {
          "output_type": "stream",
          "name": "stdout",
          "text": [
            "\n",
            "      Epoch    GPU_mem       loss  Instances       Size\n"
          ]
        },
        {
          "output_type": "stream",
          "name": "stderr",
          "text": [
            "   126/1000     0.505G    0.02896          4        224: 100%|██████████| 150/150 [00:05<00:00, 27.60it/s]\n",
            "               classes   top1_acc   top5_acc: 100%|██████████| 8/8 [00:00<00:00, 46.87it/s]\n"
          ]
        },
        {
          "output_type": "stream",
          "name": "stdout",
          "text": [
            "                   all      0.943          1\n",
            "\n",
            "      Epoch    GPU_mem       loss  Instances       Size\n"
          ]
        },
        {
          "output_type": "stream",
          "name": "stderr",
          "text": [
            "   127/1000     0.505G    0.02414          4        224: 100%|██████████| 150/150 [00:05<00:00, 27.41it/s]\n",
            "               classes   top1_acc   top5_acc: 100%|██████████| 8/8 [00:00<00:00, 56.91it/s]"
          ]
        },
        {
          "output_type": "stream",
          "name": "stdout",
          "text": [
            "                   all      0.939          1\n"
          ]
        },
        {
          "output_type": "stream",
          "name": "stderr",
          "text": [
            "\n"
          ]
        },
        {
          "output_type": "stream",
          "name": "stdout",
          "text": [
            "\n",
            "      Epoch    GPU_mem       loss  Instances       Size\n"
          ]
        },
        {
          "output_type": "stream",
          "name": "stderr",
          "text": [
            "   128/1000     0.505G    0.02689          4        224: 100%|██████████| 150/150 [00:05<00:00, 27.64it/s]\n",
            "               classes   top1_acc   top5_acc: 100%|██████████| 8/8 [00:00<00:00, 45.20it/s]"
          ]
        },
        {
          "output_type": "stream",
          "name": "stdout",
          "text": [
            "                   all      0.934          1\n"
          ]
        },
        {
          "output_type": "stream",
          "name": "stderr",
          "text": [
            "\n"
          ]
        },
        {
          "output_type": "stream",
          "name": "stdout",
          "text": [
            "\n",
            "      Epoch    GPU_mem       loss  Instances       Size\n"
          ]
        },
        {
          "output_type": "stream",
          "name": "stderr",
          "text": [
            "   129/1000     0.505G    0.03619          4        224: 100%|██████████| 150/150 [00:05<00:00, 28.54it/s]\n",
            "               classes   top1_acc   top5_acc: 100%|██████████| 8/8 [00:00<00:00, 43.77it/s]"
          ]
        },
        {
          "output_type": "stream",
          "name": "stdout",
          "text": [
            "                   all       0.93          1\n"
          ]
        },
        {
          "output_type": "stream",
          "name": "stderr",
          "text": [
            "\n"
          ]
        },
        {
          "output_type": "stream",
          "name": "stdout",
          "text": [
            "\n",
            "      Epoch    GPU_mem       loss  Instances       Size\n"
          ]
        },
        {
          "output_type": "stream",
          "name": "stderr",
          "text": [
            "   130/1000     0.505G     0.0434          4        224: 100%|██████████| 150/150 [00:05<00:00, 27.19it/s]\n",
            "               classes   top1_acc   top5_acc: 100%|██████████| 8/8 [00:00<00:00, 46.87it/s]"
          ]
        },
        {
          "output_type": "stream",
          "name": "stdout",
          "text": [
            "                   all      0.934          1\n"
          ]
        },
        {
          "output_type": "stream",
          "name": "stderr",
          "text": [
            "\n"
          ]
        },
        {
          "output_type": "stream",
          "name": "stdout",
          "text": [
            "\n",
            "      Epoch    GPU_mem       loss  Instances       Size\n"
          ]
        },
        {
          "output_type": "stream",
          "name": "stderr",
          "text": [
            "   131/1000     0.505G     0.0321          4        224: 100%|██████████| 150/150 [00:05<00:00, 27.82it/s]\n",
            "               classes   top1_acc   top5_acc: 100%|██████████| 8/8 [00:00<00:00, 45.38it/s]"
          ]
        },
        {
          "output_type": "stream",
          "name": "stdout",
          "text": [
            "                   all       0.93          1\n"
          ]
        },
        {
          "output_type": "stream",
          "name": "stderr",
          "text": [
            "\n"
          ]
        },
        {
          "output_type": "stream",
          "name": "stdout",
          "text": [
            "\n",
            "      Epoch    GPU_mem       loss  Instances       Size\n"
          ]
        },
        {
          "output_type": "stream",
          "name": "stderr",
          "text": [
            "   132/1000     0.505G    0.02249          4        224: 100%|██████████| 150/150 [00:05<00:00, 27.39it/s]\n",
            "               classes   top1_acc   top5_acc: 100%|██████████| 8/8 [00:00<00:00, 70.84it/s]"
          ]
        },
        {
          "output_type": "stream",
          "name": "stdout",
          "text": [
            "                   all      0.939          1\n"
          ]
        },
        {
          "output_type": "stream",
          "name": "stderr",
          "text": [
            "\n"
          ]
        },
        {
          "output_type": "stream",
          "name": "stdout",
          "text": [
            "\n",
            "      Epoch    GPU_mem       loss  Instances       Size\n"
          ]
        },
        {
          "output_type": "stream",
          "name": "stderr",
          "text": [
            "   133/1000     0.505G    0.03087          4        224: 100%|██████████| 150/150 [00:05<00:00, 27.65it/s]\n",
            "               classes   top1_acc   top5_acc: 100%|██████████| 8/8 [00:00<00:00, 49.73it/s]"
          ]
        },
        {
          "output_type": "stream",
          "name": "stdout",
          "text": [
            "                   all      0.925          1\n"
          ]
        },
        {
          "output_type": "stream",
          "name": "stderr",
          "text": [
            "\n"
          ]
        },
        {
          "output_type": "stream",
          "name": "stdout",
          "text": [
            "\n",
            "      Epoch    GPU_mem       loss  Instances       Size\n"
          ]
        },
        {
          "output_type": "stream",
          "name": "stderr",
          "text": [
            "   134/1000     0.505G    0.02436          4        224: 100%|██████████| 150/150 [00:05<00:00, 28.31it/s]\n",
            "               classes   top1_acc   top5_acc: 100%|██████████| 8/8 [00:00<00:00, 57.99it/s]"
          ]
        },
        {
          "output_type": "stream",
          "name": "stdout",
          "text": [
            "                   all      0.925          1\n"
          ]
        },
        {
          "output_type": "stream",
          "name": "stderr",
          "text": [
            "\n"
          ]
        },
        {
          "output_type": "stream",
          "name": "stdout",
          "text": [
            "\n",
            "      Epoch    GPU_mem       loss  Instances       Size\n"
          ]
        },
        {
          "output_type": "stream",
          "name": "stderr",
          "text": [
            "   135/1000     0.505G    0.02782          4        224: 100%|██████████| 150/150 [00:05<00:00, 28.51it/s]\n",
            "               classes   top1_acc   top5_acc: 100%|██████████| 8/8 [00:00<00:00, 44.62it/s]"
          ]
        },
        {
          "output_type": "stream",
          "name": "stdout",
          "text": [
            "                   all      0.947          1\n"
          ]
        },
        {
          "output_type": "stream",
          "name": "stderr",
          "text": [
            "\n"
          ]
        },
        {
          "output_type": "stream",
          "name": "stdout",
          "text": [
            "\n",
            "      Epoch    GPU_mem       loss  Instances       Size\n"
          ]
        },
        {
          "output_type": "stream",
          "name": "stderr",
          "text": [
            "   136/1000     0.505G    0.03434          4        224: 100%|██████████| 150/150 [00:05<00:00, 26.80it/s]\n",
            "               classes   top1_acc   top5_acc: 100%|██████████| 8/8 [00:00<00:00, 52.27it/s]"
          ]
        },
        {
          "output_type": "stream",
          "name": "stdout",
          "text": [
            "                   all      0.947          1\n"
          ]
        },
        {
          "output_type": "stream",
          "name": "stderr",
          "text": [
            "\n"
          ]
        },
        {
          "output_type": "stream",
          "name": "stdout",
          "text": [
            "\n",
            "      Epoch    GPU_mem       loss  Instances       Size\n"
          ]
        },
        {
          "output_type": "stream",
          "name": "stderr",
          "text": [
            "   137/1000     0.505G    0.02412          4        224: 100%|██████████| 150/150 [00:05<00:00, 27.73it/s]\n",
            "               classes   top1_acc   top5_acc: 100%|██████████| 8/8 [00:00<00:00, 50.82it/s]"
          ]
        },
        {
          "output_type": "stream",
          "name": "stdout",
          "text": [
            "                   all      0.939          1\n"
          ]
        },
        {
          "output_type": "stream",
          "name": "stderr",
          "text": [
            "\n"
          ]
        },
        {
          "output_type": "stream",
          "name": "stdout",
          "text": [
            "\n",
            "      Epoch    GPU_mem       loss  Instances       Size\n"
          ]
        },
        {
          "output_type": "stream",
          "name": "stderr",
          "text": [
            "   138/1000     0.505G    0.03215          4        224: 100%|██████████| 150/150 [00:05<00:00, 27.67it/s]\n",
            "               classes   top1_acc   top5_acc: 100%|██████████| 8/8 [00:00<00:00, 66.33it/s]"
          ]
        },
        {
          "output_type": "stream",
          "name": "stdout",
          "text": [
            "                   all       0.93          1\n"
          ]
        },
        {
          "output_type": "stream",
          "name": "stderr",
          "text": [
            "\n"
          ]
        },
        {
          "output_type": "stream",
          "name": "stdout",
          "text": [
            "\n",
            "      Epoch    GPU_mem       loss  Instances       Size\n"
          ]
        },
        {
          "output_type": "stream",
          "name": "stderr",
          "text": [
            "   139/1000     0.505G    0.03115          4        224: 100%|██████████| 150/150 [00:05<00:00, 27.11it/s]\n",
            "               classes   top1_acc   top5_acc: 100%|██████████| 8/8 [00:00<00:00, 83.53it/s]"
          ]
        },
        {
          "output_type": "stream",
          "name": "stdout",
          "text": [
            "                   all      0.925          1\n"
          ]
        },
        {
          "output_type": "stream",
          "name": "stderr",
          "text": [
            "\n"
          ]
        },
        {
          "output_type": "stream",
          "name": "stdout",
          "text": [
            "\n",
            "      Epoch    GPU_mem       loss  Instances       Size\n"
          ]
        },
        {
          "output_type": "stream",
          "name": "stderr",
          "text": [
            "   140/1000     0.505G     0.0298          4        224: 100%|██████████| 150/150 [00:05<00:00, 28.33it/s]\n",
            "               classes   top1_acc   top5_acc: 100%|██████████| 8/8 [00:00<00:00, 58.32it/s]\n"
          ]
        },
        {
          "output_type": "stream",
          "name": "stdout",
          "text": [
            "                   all      0.925          1\n",
            "\n",
            "      Epoch    GPU_mem       loss  Instances       Size\n"
          ]
        },
        {
          "output_type": "stream",
          "name": "stderr",
          "text": [
            "   141/1000     0.505G     0.0277          4        224: 100%|██████████| 150/150 [00:05<00:00, 28.37it/s]\n",
            "               classes   top1_acc   top5_acc: 100%|██████████| 8/8 [00:00<00:00, 49.23it/s]"
          ]
        },
        {
          "output_type": "stream",
          "name": "stdout",
          "text": [
            "                   all      0.934          1\n"
          ]
        },
        {
          "output_type": "stream",
          "name": "stderr",
          "text": [
            "\n"
          ]
        },
        {
          "output_type": "stream",
          "name": "stdout",
          "text": [
            "\n",
            "      Epoch    GPU_mem       loss  Instances       Size\n"
          ]
        },
        {
          "output_type": "stream",
          "name": "stderr",
          "text": [
            "   142/1000     0.505G     0.0204          4        224: 100%|██████████| 150/150 [00:05<00:00, 26.75it/s]\n",
            "               classes   top1_acc   top5_acc: 100%|██████████| 8/8 [00:00<00:00, 63.62it/s]\n"
          ]
        },
        {
          "output_type": "stream",
          "name": "stdout",
          "text": [
            "                   all      0.925          1\n",
            "\n",
            "      Epoch    GPU_mem       loss  Instances       Size\n"
          ]
        },
        {
          "output_type": "stream",
          "name": "stderr",
          "text": [
            "   143/1000     0.505G    0.02757          4        224: 100%|██████████| 150/150 [00:05<00:00, 27.93it/s]\n",
            "               classes   top1_acc   top5_acc: 100%|██████████| 8/8 [00:00<00:00, 62.09it/s]"
          ]
        },
        {
          "output_type": "stream",
          "name": "stdout",
          "text": [
            "                   all      0.934          1\n"
          ]
        },
        {
          "output_type": "stream",
          "name": "stderr",
          "text": [
            "\n"
          ]
        },
        {
          "output_type": "stream",
          "name": "stdout",
          "text": [
            "\n",
            "      Epoch    GPU_mem       loss  Instances       Size\n"
          ]
        },
        {
          "output_type": "stream",
          "name": "stderr",
          "text": [
            "   144/1000     0.505G    0.05002          4        224: 100%|██████████| 150/150 [00:05<00:00, 27.34it/s]\n",
            "               classes   top1_acc   top5_acc: 100%|██████████| 8/8 [00:00<00:00, 47.81it/s]"
          ]
        },
        {
          "output_type": "stream",
          "name": "stdout",
          "text": [
            "                   all       0.93          1\n"
          ]
        },
        {
          "output_type": "stream",
          "name": "stderr",
          "text": [
            "\n"
          ]
        },
        {
          "output_type": "stream",
          "name": "stdout",
          "text": [
            "\n",
            "      Epoch    GPU_mem       loss  Instances       Size\n"
          ]
        },
        {
          "output_type": "stream",
          "name": "stderr",
          "text": [
            "   145/1000     0.508G    0.03864          4        224: 100%|██████████| 150/150 [00:05<00:00, 26.89it/s]\n",
            "               classes   top1_acc   top5_acc: 100%|██████████| 8/8 [00:00<00:00, 46.23it/s]"
          ]
        },
        {
          "output_type": "stream",
          "name": "stdout",
          "text": [
            "                   all      0.925          1\n"
          ]
        },
        {
          "output_type": "stream",
          "name": "stderr",
          "text": [
            "\n"
          ]
        },
        {
          "output_type": "stream",
          "name": "stdout",
          "text": [
            "\n",
            "      Epoch    GPU_mem       loss  Instances       Size\n"
          ]
        },
        {
          "output_type": "stream",
          "name": "stderr",
          "text": [
            "   146/1000     0.505G    0.03465          4        224: 100%|██████████| 150/150 [00:05<00:00, 28.50it/s]\n",
            "               classes   top1_acc   top5_acc: 100%|██████████| 8/8 [00:00<00:00, 57.85it/s]"
          ]
        },
        {
          "output_type": "stream",
          "name": "stdout",
          "text": [
            "                   all      0.939          1\n"
          ]
        },
        {
          "output_type": "stream",
          "name": "stderr",
          "text": [
            "\n"
          ]
        },
        {
          "output_type": "stream",
          "name": "stdout",
          "text": [
            "\n",
            "      Epoch    GPU_mem       loss  Instances       Size\n"
          ]
        },
        {
          "output_type": "stream",
          "name": "stderr",
          "text": [
            "   147/1000     0.505G    0.03207          4        224: 100%|██████████| 150/150 [00:05<00:00, 27.88it/s]\n",
            "               classes   top1_acc   top5_acc: 100%|██████████| 8/8 [00:00<00:00, 45.40it/s]"
          ]
        },
        {
          "output_type": "stream",
          "name": "stdout",
          "text": [
            "                   all       0.93          1\n"
          ]
        },
        {
          "output_type": "stream",
          "name": "stderr",
          "text": [
            "\n"
          ]
        },
        {
          "output_type": "stream",
          "name": "stdout",
          "text": [
            "\n",
            "      Epoch    GPU_mem       loss  Instances       Size\n"
          ]
        },
        {
          "output_type": "stream",
          "name": "stderr",
          "text": [
            "   148/1000     0.505G    0.03509          4        224: 100%|██████████| 150/150 [00:05<00:00, 26.97it/s]\n",
            "               classes   top1_acc   top5_acc: 100%|██████████| 8/8 [00:00<00:00, 63.12it/s]"
          ]
        },
        {
          "output_type": "stream",
          "name": "stdout",
          "text": [
            "                   all      0.921          1\n"
          ]
        },
        {
          "output_type": "stream",
          "name": "stderr",
          "text": [
            "\n"
          ]
        },
        {
          "output_type": "stream",
          "name": "stdout",
          "text": [
            "\n",
            "      Epoch    GPU_mem       loss  Instances       Size\n"
          ]
        },
        {
          "output_type": "stream",
          "name": "stderr",
          "text": [
            "   149/1000     0.505G    0.03281          4        224: 100%|██████████| 150/150 [00:05<00:00, 26.93it/s]\n",
            "               classes   top1_acc   top5_acc: 100%|██████████| 8/8 [00:00<00:00, 44.69it/s]"
          ]
        },
        {
          "output_type": "stream",
          "name": "stdout",
          "text": [
            "                   all       0.93          1\n"
          ]
        },
        {
          "output_type": "stream",
          "name": "stderr",
          "text": [
            "\n"
          ]
        },
        {
          "output_type": "stream",
          "name": "stdout",
          "text": [
            "\n",
            "      Epoch    GPU_mem       loss  Instances       Size\n"
          ]
        },
        {
          "output_type": "stream",
          "name": "stderr",
          "text": [
            "   150/1000     0.505G    0.02799          4        224: 100%|██████████| 150/150 [00:05<00:00, 26.71it/s]\n",
            "               classes   top1_acc   top5_acc: 100%|██████████| 8/8 [00:00<00:00, 50.08it/s]"
          ]
        },
        {
          "output_type": "stream",
          "name": "stdout",
          "text": [
            "                   all       0.93          1\n"
          ]
        },
        {
          "output_type": "stream",
          "name": "stderr",
          "text": [
            "\n"
          ]
        },
        {
          "output_type": "stream",
          "name": "stdout",
          "text": [
            "\n",
            "      Epoch    GPU_mem       loss  Instances       Size\n"
          ]
        },
        {
          "output_type": "stream",
          "name": "stderr",
          "text": [
            "   151/1000     0.505G    0.03236          4        224: 100%|██████████| 150/150 [00:05<00:00, 27.79it/s]\n",
            "               classes   top1_acc   top5_acc: 100%|██████████| 8/8 [00:00<00:00, 73.04it/s]"
          ]
        },
        {
          "output_type": "stream",
          "name": "stdout",
          "text": [
            "                   all       0.93          1\n"
          ]
        },
        {
          "output_type": "stream",
          "name": "stderr",
          "text": [
            "\n"
          ]
        },
        {
          "output_type": "stream",
          "name": "stdout",
          "text": [
            "\n",
            "      Epoch    GPU_mem       loss  Instances       Size\n"
          ]
        },
        {
          "output_type": "stream",
          "name": "stderr",
          "text": [
            "   152/1000     0.505G    0.02926          4        224: 100%|██████████| 150/150 [00:05<00:00, 27.86it/s]\n",
            "               classes   top1_acc   top5_acc: 100%|██████████| 8/8 [00:00<00:00, 51.61it/s]"
          ]
        },
        {
          "output_type": "stream",
          "name": "stdout",
          "text": [
            "                   all       0.93          1\n"
          ]
        },
        {
          "output_type": "stream",
          "name": "stderr",
          "text": [
            "\n"
          ]
        },
        {
          "output_type": "stream",
          "name": "stdout",
          "text": [
            "\n",
            "      Epoch    GPU_mem       loss  Instances       Size\n"
          ]
        },
        {
          "output_type": "stream",
          "name": "stderr",
          "text": [
            "   153/1000     0.505G    0.02806          4        224: 100%|██████████| 150/150 [00:05<00:00, 27.29it/s]\n",
            "               classes   top1_acc   top5_acc: 100%|██████████| 8/8 [00:00<00:00, 69.74it/s]"
          ]
        },
        {
          "output_type": "stream",
          "name": "stdout",
          "text": [
            "                   all       0.93          1\n"
          ]
        },
        {
          "output_type": "stream",
          "name": "stderr",
          "text": [
            "\n"
          ]
        },
        {
          "output_type": "stream",
          "name": "stdout",
          "text": [
            "\n",
            "      Epoch    GPU_mem       loss  Instances       Size\n"
          ]
        },
        {
          "output_type": "stream",
          "name": "stderr",
          "text": [
            "   154/1000     0.505G    0.03073          4        224: 100%|██████████| 150/150 [00:05<00:00, 26.84it/s]\n",
            "               classes   top1_acc   top5_acc: 100%|██████████| 8/8 [00:00<00:00, 51.36it/s]"
          ]
        },
        {
          "output_type": "stream",
          "name": "stdout",
          "text": [
            "                   all       0.93          1\n"
          ]
        },
        {
          "output_type": "stream",
          "name": "stderr",
          "text": [
            "\n"
          ]
        },
        {
          "output_type": "stream",
          "name": "stdout",
          "text": [
            "\n",
            "      Epoch    GPU_mem       loss  Instances       Size\n"
          ]
        },
        {
          "output_type": "stream",
          "name": "stderr",
          "text": [
            "   155/1000     0.505G    0.02872          4        224: 100%|██████████| 150/150 [00:05<00:00, 27.34it/s]\n",
            "               classes   top1_acc   top5_acc: 100%|██████████| 8/8 [00:00<00:00, 68.23it/s]\n"
          ]
        },
        {
          "output_type": "stream",
          "name": "stdout",
          "text": [
            "                   all      0.925          1\n",
            "\n",
            "      Epoch    GPU_mem       loss  Instances       Size\n"
          ]
        },
        {
          "output_type": "stream",
          "name": "stderr",
          "text": [
            "   156/1000     0.505G    0.02599          4        224: 100%|██████████| 150/150 [00:05<00:00, 27.57it/s]\n",
            "               classes   top1_acc   top5_acc: 100%|██████████| 8/8 [00:00<00:00, 69.24it/s]"
          ]
        },
        {
          "output_type": "stream",
          "name": "stdout",
          "text": [
            "                   all      0.939          1\n"
          ]
        },
        {
          "output_type": "stream",
          "name": "stderr",
          "text": [
            "\n"
          ]
        },
        {
          "output_type": "stream",
          "name": "stdout",
          "text": [
            "\n",
            "      Epoch    GPU_mem       loss  Instances       Size\n"
          ]
        },
        {
          "output_type": "stream",
          "name": "stderr",
          "text": [
            "   157/1000     0.505G    0.02539          4        224: 100%|██████████| 150/150 [00:05<00:00, 27.28it/s]\n",
            "               classes   top1_acc   top5_acc: 100%|██████████| 8/8 [00:00<00:00, 52.90it/s]"
          ]
        },
        {
          "output_type": "stream",
          "name": "stdout",
          "text": [
            "                   all      0.925          1\n"
          ]
        },
        {
          "output_type": "stream",
          "name": "stderr",
          "text": [
            "\n"
          ]
        },
        {
          "output_type": "stream",
          "name": "stdout",
          "text": [
            "\n",
            "      Epoch    GPU_mem       loss  Instances       Size\n"
          ]
        },
        {
          "output_type": "stream",
          "name": "stderr",
          "text": [
            "   158/1000     0.505G    0.02345          4        224: 100%|██████████| 150/150 [00:05<00:00, 27.30it/s]\n",
            "               classes   top1_acc   top5_acc: 100%|██████████| 8/8 [00:00<00:00, 81.30it/s]\n"
          ]
        },
        {
          "output_type": "stream",
          "name": "stdout",
          "text": [
            "                   all      0.939          1\n",
            "\n",
            "      Epoch    GPU_mem       loss  Instances       Size\n"
          ]
        },
        {
          "output_type": "stream",
          "name": "stderr",
          "text": [
            "   159/1000     0.505G    0.03374          4        224: 100%|██████████| 150/150 [00:05<00:00, 27.32it/s]\n",
            "               classes   top1_acc   top5_acc: 100%|██████████| 8/8 [00:00<00:00, 53.06it/s]"
          ]
        },
        {
          "output_type": "stream",
          "name": "stdout",
          "text": [
            "                   all      0.939          1\n"
          ]
        },
        {
          "output_type": "stream",
          "name": "stderr",
          "text": [
            "\n"
          ]
        },
        {
          "output_type": "stream",
          "name": "stdout",
          "text": [
            "\n",
            "      Epoch    GPU_mem       loss  Instances       Size\n"
          ]
        },
        {
          "output_type": "stream",
          "name": "stderr",
          "text": [
            "   160/1000     0.505G    0.02699          4        224: 100%|██████████| 150/150 [00:05<00:00, 27.41it/s]\n",
            "               classes   top1_acc   top5_acc: 100%|██████████| 8/8 [00:00<00:00, 56.30it/s]"
          ]
        },
        {
          "output_type": "stream",
          "name": "stdout",
          "text": [
            "                   all      0.921          1\n"
          ]
        },
        {
          "output_type": "stream",
          "name": "stderr",
          "text": [
            "\n"
          ]
        },
        {
          "output_type": "stream",
          "name": "stdout",
          "text": [
            "\n",
            "      Epoch    GPU_mem       loss  Instances       Size\n"
          ]
        },
        {
          "output_type": "stream",
          "name": "stderr",
          "text": [
            "   161/1000     0.505G     0.0321          4        224: 100%|██████████| 150/150 [00:05<00:00, 28.51it/s]\n",
            "               classes   top1_acc   top5_acc: 100%|██████████| 8/8 [00:00<00:00, 42.63it/s]"
          ]
        },
        {
          "output_type": "stream",
          "name": "stdout",
          "text": [
            "                   all       0.93          1\n"
          ]
        },
        {
          "output_type": "stream",
          "name": "stderr",
          "text": [
            "\n"
          ]
        },
        {
          "output_type": "stream",
          "name": "stdout",
          "text": [
            "\n",
            "      Epoch    GPU_mem       loss  Instances       Size\n"
          ]
        },
        {
          "output_type": "stream",
          "name": "stderr",
          "text": [
            "   162/1000     0.505G     0.0337          4        224: 100%|██████████| 150/150 [00:05<00:00, 27.19it/s]\n",
            "               classes   top1_acc   top5_acc: 100%|██████████| 8/8 [00:00<00:00, 55.96it/s]"
          ]
        },
        {
          "output_type": "stream",
          "name": "stdout",
          "text": [
            "                   all      0.934          1\n"
          ]
        },
        {
          "output_type": "stream",
          "name": "stderr",
          "text": [
            "\n"
          ]
        },
        {
          "output_type": "stream",
          "name": "stdout",
          "text": [
            "\n",
            "      Epoch    GPU_mem       loss  Instances       Size\n"
          ]
        },
        {
          "output_type": "stream",
          "name": "stderr",
          "text": [
            "   163/1000     0.505G    0.02674          4        224: 100%|██████████| 150/150 [00:05<00:00, 27.50it/s]\n",
            "               classes   top1_acc   top5_acc: 100%|██████████| 8/8 [00:00<00:00, 62.60it/s]"
          ]
        },
        {
          "output_type": "stream",
          "name": "stdout",
          "text": [
            "                   all       0.93          1\n"
          ]
        },
        {
          "output_type": "stream",
          "name": "stderr",
          "text": [
            "\n"
          ]
        },
        {
          "output_type": "stream",
          "name": "stdout",
          "text": [
            "\n",
            "      Epoch    GPU_mem       loss  Instances       Size\n"
          ]
        },
        {
          "output_type": "stream",
          "name": "stderr",
          "text": [
            "   164/1000     0.505G    0.01918          4        224: 100%|██████████| 150/150 [00:05<00:00, 27.55it/s]\n",
            "               classes   top1_acc   top5_acc: 100%|██████████| 8/8 [00:00<00:00, 82.87it/s]"
          ]
        },
        {
          "output_type": "stream",
          "name": "stdout",
          "text": [
            "                   all      0.917          1\n"
          ]
        },
        {
          "output_type": "stream",
          "name": "stderr",
          "text": [
            "\n"
          ]
        },
        {
          "output_type": "stream",
          "name": "stdout",
          "text": [
            "\n",
            "      Epoch    GPU_mem       loss  Instances       Size\n"
          ]
        },
        {
          "output_type": "stream",
          "name": "stderr",
          "text": [
            "   165/1000     0.505G    0.02765          4        224: 100%|██████████| 150/150 [00:05<00:00, 27.04it/s]\n",
            "               classes   top1_acc   top5_acc: 100%|██████████| 8/8 [00:00<00:00, 56.68it/s]"
          ]
        },
        {
          "output_type": "stream",
          "name": "stdout",
          "text": [
            "                   all      0.921          1\n"
          ]
        },
        {
          "output_type": "stream",
          "name": "stderr",
          "text": [
            "\n"
          ]
        },
        {
          "output_type": "stream",
          "name": "stdout",
          "text": [
            "\n",
            "      Epoch    GPU_mem       loss  Instances       Size\n"
          ]
        },
        {
          "output_type": "stream",
          "name": "stderr",
          "text": [
            "   166/1000     0.505G    0.03174          4        224: 100%|██████████| 150/150 [00:05<00:00, 27.45it/s]\n",
            "               classes   top1_acc   top5_acc: 100%|██████████| 8/8 [00:00<00:00, 43.12it/s]"
          ]
        },
        {
          "output_type": "stream",
          "name": "stdout",
          "text": [
            "                   all      0.917          1\n"
          ]
        },
        {
          "output_type": "stream",
          "name": "stderr",
          "text": [
            "\n"
          ]
        },
        {
          "output_type": "stream",
          "name": "stdout",
          "text": [
            "\n",
            "      Epoch    GPU_mem       loss  Instances       Size\n"
          ]
        },
        {
          "output_type": "stream",
          "name": "stderr",
          "text": [
            "   167/1000     0.508G    0.02075          4        224: 100%|██████████| 150/150 [00:05<00:00, 27.26it/s]\n",
            "               classes   top1_acc   top5_acc: 100%|██████████| 8/8 [00:00<00:00, 64.17it/s]"
          ]
        },
        {
          "output_type": "stream",
          "name": "stdout",
          "text": [
            "                   all      0.921          1\n"
          ]
        },
        {
          "output_type": "stream",
          "name": "stderr",
          "text": [
            "\n"
          ]
        },
        {
          "output_type": "stream",
          "name": "stdout",
          "text": [
            "\n",
            "      Epoch    GPU_mem       loss  Instances       Size\n"
          ]
        },
        {
          "output_type": "stream",
          "name": "stderr",
          "text": [
            "   168/1000     0.505G    0.02755          4        224: 100%|██████████| 150/150 [00:05<00:00, 27.02it/s]\n",
            "               classes   top1_acc   top5_acc: 100%|██████████| 8/8 [00:00<00:00, 45.72it/s]"
          ]
        },
        {
          "output_type": "stream",
          "name": "stdout",
          "text": [
            "                   all      0.921          1\n"
          ]
        },
        {
          "output_type": "stream",
          "name": "stderr",
          "text": [
            "\n"
          ]
        },
        {
          "output_type": "stream",
          "name": "stdout",
          "text": [
            "\n",
            "      Epoch    GPU_mem       loss  Instances       Size\n"
          ]
        },
        {
          "output_type": "stream",
          "name": "stderr",
          "text": [
            "   169/1000     0.505G    0.03067          4        224: 100%|██████████| 150/150 [00:05<00:00, 27.76it/s]\n",
            "               classes   top1_acc   top5_acc: 100%|██████████| 8/8 [00:00<00:00, 42.18it/s]"
          ]
        },
        {
          "output_type": "stream",
          "name": "stdout",
          "text": [
            "                   all      0.925          1\n"
          ]
        },
        {
          "output_type": "stream",
          "name": "stderr",
          "text": [
            "\n"
          ]
        },
        {
          "output_type": "stream",
          "name": "stdout",
          "text": [
            "\n",
            "      Epoch    GPU_mem       loss  Instances       Size\n"
          ]
        },
        {
          "output_type": "stream",
          "name": "stderr",
          "text": [
            "   170/1000     0.505G    0.02332          4        224: 100%|██████████| 150/150 [00:05<00:00, 27.45it/s]\n",
            "               classes   top1_acc   top5_acc: 100%|██████████| 8/8 [00:00<00:00, 43.61it/s]"
          ]
        },
        {
          "output_type": "stream",
          "name": "stdout",
          "text": [
            "                   all      0.921          1\n"
          ]
        },
        {
          "output_type": "stream",
          "name": "stderr",
          "text": [
            "\n"
          ]
        },
        {
          "output_type": "stream",
          "name": "stdout",
          "text": [
            "\n",
            "      Epoch    GPU_mem       loss  Instances       Size\n"
          ]
        },
        {
          "output_type": "stream",
          "name": "stderr",
          "text": [
            "   171/1000     0.505G    0.02742          4        224: 100%|██████████| 150/150 [00:05<00:00, 27.31it/s]\n",
            "               classes   top1_acc   top5_acc: 100%|██████████| 8/8 [00:00<00:00, 90.30it/s]\n"
          ]
        },
        {
          "output_type": "stream",
          "name": "stdout",
          "text": [
            "                   all       0.93          1\n",
            "\n",
            "      Epoch    GPU_mem       loss  Instances       Size\n"
          ]
        },
        {
          "output_type": "stream",
          "name": "stderr",
          "text": [
            "   172/1000     0.505G     0.0335          4        224: 100%|██████████| 150/150 [00:05<00:00, 28.01it/s]\n",
            "               classes   top1_acc   top5_acc: 100%|██████████| 8/8 [00:00<00:00, 58.18it/s]"
          ]
        },
        {
          "output_type": "stream",
          "name": "stdout",
          "text": [
            "                   all      0.925          1\n"
          ]
        },
        {
          "output_type": "stream",
          "name": "stderr",
          "text": [
            "\n"
          ]
        },
        {
          "output_type": "stream",
          "name": "stdout",
          "text": [
            "\n",
            "      Epoch    GPU_mem       loss  Instances       Size\n"
          ]
        },
        {
          "output_type": "stream",
          "name": "stderr",
          "text": [
            "   173/1000     0.505G    0.03409          4        224: 100%|██████████| 150/150 [00:05<00:00, 27.71it/s]\n",
            "               classes   top1_acc   top5_acc: 100%|██████████| 8/8 [00:00<00:00, 43.66it/s]"
          ]
        },
        {
          "output_type": "stream",
          "name": "stdout",
          "text": [
            "                   all       0.93          1\n"
          ]
        },
        {
          "output_type": "stream",
          "name": "stderr",
          "text": [
            "\n"
          ]
        },
        {
          "output_type": "stream",
          "name": "stdout",
          "text": [
            "\n",
            "      Epoch    GPU_mem       loss  Instances       Size\n"
          ]
        },
        {
          "output_type": "stream",
          "name": "stderr",
          "text": [
            "   174/1000     0.505G    0.02208          4        224: 100%|██████████| 150/150 [00:05<00:00, 27.47it/s]\n",
            "               classes   top1_acc   top5_acc: 100%|██████████| 8/8 [00:00<00:00, 78.28it/s]"
          ]
        },
        {
          "output_type": "stream",
          "name": "stdout",
          "text": [
            "                   all      0.943          1\n"
          ]
        },
        {
          "output_type": "stream",
          "name": "stderr",
          "text": [
            "\n"
          ]
        },
        {
          "output_type": "stream",
          "name": "stdout",
          "text": [
            "\n",
            "      Epoch    GPU_mem       loss  Instances       Size\n"
          ]
        },
        {
          "output_type": "stream",
          "name": "stderr",
          "text": [
            "   175/1000     0.505G    0.02289          4        224: 100%|██████████| 150/150 [00:05<00:00, 27.59it/s]\n",
            "               classes   top1_acc   top5_acc: 100%|██████████| 8/8 [00:00<00:00, 43.59it/s]"
          ]
        },
        {
          "output_type": "stream",
          "name": "stdout",
          "text": [
            "                   all      0.943          1\n"
          ]
        },
        {
          "output_type": "stream",
          "name": "stderr",
          "text": [
            "\n"
          ]
        },
        {
          "output_type": "stream",
          "name": "stdout",
          "text": [
            "\n",
            "      Epoch    GPU_mem       loss  Instances       Size\n"
          ]
        },
        {
          "output_type": "stream",
          "name": "stderr",
          "text": [
            "   176/1000     0.505G    0.02269          4        224: 100%|██████████| 150/150 [00:05<00:00, 27.44it/s]\n",
            "               classes   top1_acc   top5_acc: 100%|██████████| 8/8 [00:00<00:00, 64.17it/s]"
          ]
        },
        {
          "output_type": "stream",
          "name": "stdout",
          "text": [
            "                   all      0.943          1\n"
          ]
        },
        {
          "output_type": "stream",
          "name": "stderr",
          "text": [
            "\n"
          ]
        },
        {
          "output_type": "stream",
          "name": "stdout",
          "text": [
            "\n",
            "      Epoch    GPU_mem       loss  Instances       Size\n"
          ]
        },
        {
          "output_type": "stream",
          "name": "stderr",
          "text": [
            "   177/1000     0.505G    0.02001          4        224: 100%|██████████| 150/150 [00:05<00:00, 27.70it/s]\n",
            "               classes   top1_acc   top5_acc: 100%|██████████| 8/8 [00:00<00:00, 62.89it/s]\n"
          ]
        },
        {
          "output_type": "stream",
          "name": "stdout",
          "text": [
            "                   all      0.939          1\n",
            "\n",
            "      Epoch    GPU_mem       loss  Instances       Size\n"
          ]
        },
        {
          "output_type": "stream",
          "name": "stderr",
          "text": [
            "   178/1000     0.505G    0.03377          4        224: 100%|██████████| 150/150 [00:05<00:00, 27.69it/s]\n",
            "               classes   top1_acc   top5_acc: 100%|██████████| 8/8 [00:00<00:00, 56.77it/s]"
          ]
        },
        {
          "output_type": "stream",
          "name": "stdout",
          "text": [
            "                   all       0.93          1\n"
          ]
        },
        {
          "output_type": "stream",
          "name": "stderr",
          "text": [
            "\n"
          ]
        },
        {
          "output_type": "stream",
          "name": "stdout",
          "text": [
            "\n",
            "      Epoch    GPU_mem       loss  Instances       Size\n"
          ]
        },
        {
          "output_type": "stream",
          "name": "stderr",
          "text": [
            "   179/1000     0.505G    0.04068          4        224: 100%|██████████| 150/150 [00:05<00:00, 27.11it/s]\n",
            "               classes   top1_acc   top5_acc: 100%|██████████| 8/8 [00:00<00:00, 52.20it/s]"
          ]
        },
        {
          "output_type": "stream",
          "name": "stdout",
          "text": [
            "                   all      0.925          1\n"
          ]
        },
        {
          "output_type": "stream",
          "name": "stderr",
          "text": [
            "\n"
          ]
        },
        {
          "output_type": "stream",
          "name": "stdout",
          "text": [
            "\u001b[34m\u001b[1mEarlyStopping: \u001b[0mTraining stopped early as no improvement observed in last 100 epochs. Best results observed at epoch 79, best model saved as best.pt.\n",
            "To update EarlyStopping(patience=100) pass a new patience value, i.e. `patience=300` or use `patience=0` to disable EarlyStopping.\n",
            "\n",
            "179 epochs completed in 0.303 hours.\n",
            "Optimizer stripped from runs/classify/train/weights/last.pt, 3.0MB\n",
            "Optimizer stripped from runs/classify/train/weights/best.pt, 3.0MB\n",
            "\n",
            "Validating runs/classify/train/weights/best.pt...\n",
            "Ultralytics YOLOv8.2.27 🚀 Python-3.10.12 torch-2.3.0+cu121 CUDA:0 (NVIDIA A100-SXM4-40GB, 40514MiB)\n",
            "YOLOv8n-cls summary (fused): 73 layers, 1437442 parameters, 0 gradients, 3.3 GFLOPs\n",
            "\u001b[34m\u001b[1mtrain:\u001b[0m /content/violation_classification-1/train... found 2388 images in 2 classes ✅ \n",
            "\u001b[34m\u001b[1mval:\u001b[0m /content/violation_classification-1/val... found 228 images in 2 classes ✅ \n",
            "\u001b[34m\u001b[1mtest:\u001b[0m /content/violation_classification-1/test... found 114 images in 2 classes ✅ \n"
          ]
        },
        {
          "output_type": "stream",
          "name": "stderr",
          "text": [
            "               classes   top1_acc   top5_acc: 100%|██████████| 8/8 [00:00<00:00,  9.96it/s]\n"
          ]
        },
        {
          "output_type": "stream",
          "name": "stdout",
          "text": [
            "                   all      0.952          1\n",
            "Speed: 0.2ms preprocess, 3.1ms inference, 0.0ms loss, 0.0ms postprocess per image\n",
            "Results saved to \u001b[1mruns/classify/train\u001b[0m\n",
            "Results saved to \u001b[1mruns/classify/train\u001b[0m\n"
          ]
        }
      ]
    },
    {
      "cell_type": "code",
      "source": [
        "!cp -r runs /content/drive/MyDrive/runs/nano"
      ],
      "metadata": {
        "id": "qfbISTWWDNGF"
      },
      "execution_count": null,
      "outputs": []
    },
    {
      "cell_type": "code",
      "source": [
        "model('/content/photo_2024-06-02_06-39-04.jpg')[0].probs.top1"
      ],
      "metadata": {
        "colab": {
          "base_uri": "https://localhost:8080/"
        },
        "id": "2Gw2WFAjDn4f",
        "outputId": "bad0362f-7771-4590-ca87-8a05bc3a205d"
      },
      "execution_count": null,
      "outputs": [
        {
          "output_type": "stream",
          "name": "stdout",
          "text": [
            "\n",
            "image 1/1 /content/photo_2024-06-02_06-39-04.jpg: 224x224 Violation 0.54, No-violation 0.46, 4.0ms\n",
            "Speed: 7.5ms preprocess, 4.0ms inference, 0.1ms postprocess per image at shape (1, 3, 224, 224)\n"
          ]
        },
        {
          "output_type": "execute_result",
          "data": {
            "text/plain": [
              "1"
            ]
          },
          "metadata": {},
          "execution_count": 14
        }
      ]
    },
    {
      "cell_type": "code",
      "source": [
        "from os import pread\n",
        "import cv2\n",
        "import numpy as np\n",
        "from typing import List, Tuple\n",
        "\n",
        "def get_frames(video_path: str, frame_rate: int) -> List[Tuple[np.ndarray, float]]:\n",
        "    cap = cv2.VideoCapture(video_path)\n",
        "    fps = cap.get(cv2.CAP_PROP_FPS)\n",
        "    interval = int(fps / frame_rate)\n",
        "\n",
        "    saved_frames = []\n",
        "    cnt = 0\n",
        "\n",
        "    while cap.isOpened():\n",
        "        ret, frame = cap.read()\n",
        "\n",
        "        # if frame is read correctly ret is True\n",
        "        if not ret:\n",
        "            print(\"Can't receive frame (stream end?). Exiting ...\")\n",
        "            break\n",
        "\n",
        "        if cnt % interval == 0:\n",
        "            timecode = cnt / fps\n",
        "            saved_frames.append((frame, timecode))\n",
        "\n",
        "        cnt += 1\n",
        "\n",
        "    cap.release()\n",
        "\n",
        "    return saved_frames\n",
        "\n",
        "def inference(video_path: str, model: YOLO, callback=None):\n",
        "    timecodes_and_preds = []\n",
        "    frames_and_timecodes = get_frames(video_path, 0.5)\n",
        "\n",
        "    n = len(frames_and_timecodes)\n",
        "    for i, (frame, timecode) in enumerate(frames_and_timecodes):\n",
        "        pred = model(frame)[0].probs.top1\n",
        "        timecodes_and_preds.append((timecode, pred))\n",
        "        if callback:\n",
        "            callback(i, n)\n",
        "\n",
        "    return timecodes_and_preds"
      ],
      "metadata": {
        "id": "zcjjQXjqFSv9"
      },
      "execution_count": null,
      "outputs": []
    },
    {
      "cell_type": "code",
      "source": [
        "inference('/content/VID_20240305_130307.mp4', model)"
      ],
      "metadata": {
        "colab": {
          "base_uri": "https://localhost:8080/"
        },
        "id": "85TddVmRMM-2",
        "outputId": "4f592c5b-a0c8-4a76-aa25-9f6a0e683725"
      },
      "execution_count": null,
      "outputs": [
        {
          "output_type": "stream",
          "name": "stdout",
          "text": [
            "Can't receive frame (stream end?). Exiting ...\n",
            "\n",
            "0: 224x224 Violation 0.54, No-violation 0.46, 6.5ms\n",
            "Speed: 20.1ms preprocess, 6.5ms inference, 0.1ms postprocess per image at shape (1, 3, 224, 224)\n",
            "\n",
            "0: 224x224 Violation 0.73, No-violation 0.27, 5.5ms\n",
            "Speed: 17.0ms preprocess, 5.5ms inference, 0.1ms postprocess per image at shape (1, 3, 224, 224)\n",
            "\n",
            "0: 224x224 No-violation 0.81, Violation 0.19, 5.1ms\n",
            "Speed: 18.5ms preprocess, 5.1ms inference, 0.1ms postprocess per image at shape (1, 3, 224, 224)\n",
            "\n",
            "0: 224x224 Violation 1.00, No-violation 0.00, 5.1ms\n",
            "Speed: 16.6ms preprocess, 5.1ms inference, 0.1ms postprocess per image at shape (1, 3, 224, 224)\n",
            "\n",
            "0: 224x224 Violation 0.98, No-violation 0.02, 7.7ms\n",
            "Speed: 17.3ms preprocess, 7.7ms inference, 0.1ms postprocess per image at shape (1, 3, 224, 224)\n",
            "\n",
            "0: 224x224 No-violation 0.85, Violation 0.15, 5.1ms\n",
            "Speed: 16.9ms preprocess, 5.1ms inference, 0.1ms postprocess per image at shape (1, 3, 224, 224)\n",
            "\n",
            "0: 224x224 Violation 0.90, No-violation 0.10, 5.0ms\n",
            "Speed: 17.8ms preprocess, 5.0ms inference, 0.1ms postprocess per image at shape (1, 3, 224, 224)\n",
            "\n",
            "0: 224x224 Violation 0.95, No-violation 0.05, 4.9ms\n",
            "Speed: 17.1ms preprocess, 4.9ms inference, 0.1ms postprocess per image at shape (1, 3, 224, 224)\n",
            "\n",
            "0: 224x224 Violation 0.79, No-violation 0.21, 4.7ms\n",
            "Speed: 16.9ms preprocess, 4.7ms inference, 0.1ms postprocess per image at shape (1, 3, 224, 224)\n",
            "\n",
            "0: 224x224 Violation 0.82, No-violation 0.18, 4.8ms\n",
            "Speed: 16.0ms preprocess, 4.8ms inference, 0.1ms postprocess per image at shape (1, 3, 224, 224)\n",
            "\n",
            "0: 224x224 No-violation 0.79, Violation 0.21, 5.0ms\n",
            "Speed: 17.0ms preprocess, 5.0ms inference, 0.1ms postprocess per image at shape (1, 3, 224, 224)\n",
            "\n",
            "0: 224x224 No-violation 0.74, Violation 0.26, 5.0ms\n",
            "Speed: 16.4ms preprocess, 5.0ms inference, 0.1ms postprocess per image at shape (1, 3, 224, 224)\n"
          ]
        },
        {
          "output_type": "execute_result",
          "data": {
            "text/plain": [
              "[(0.0, 1),\n",
              " (2.0, 1),\n",
              " (4.0, 0),\n",
              " (6.0, 1),\n",
              " (8.0, 1),\n",
              " (10.0, 0),\n",
              " (12.0, 1),\n",
              " (14.0, 1),\n",
              " (16.0, 1),\n",
              " (18.0, 1),\n",
              " (20.0, 0),\n",
              " (22.0, 0)]"
            ]
          },
          "metadata": {},
          "execution_count": 28
        }
      ]
    }
  ]
}