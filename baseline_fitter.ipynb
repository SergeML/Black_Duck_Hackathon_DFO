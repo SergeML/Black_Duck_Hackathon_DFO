{
 "cells": [
  {
   "cell_type": "markdown",
   "id": "d4c9e918-590e-46fa-8ab9-e1b9e8996ca3",
   "metadata": {},
   "source": [
    "## экспорт из ЯД"
   ]
  },
  {
   "cell_type": "code",
   "execution_count": null,
   "id": "1e7587ca-a9cf-4ded-ada7-75e70b565339",
   "metadata": {
    "tags": []
   },
   "outputs": [],
   "source": [
    "import requests\n",
    "from urllib.parse import urlencode\n",
    "from io import BytesIO\n",
    "from zipfile import ZipFile\n",
    "\n",
    "base_url = 'https://cloud-api.yandex.net/v1/disk/public/resources/download?'\n",
    "public_key = 'https://disk.yandex.ru/d/Xt2qqNtDXXE3xQ'\n",
    "\n",
    "final_url = base_url + urlencode(dict(public_key=public_key))\n",
    "response = requests.get(final_url)\n",
    "download_url = response.json()['href']\n",
    "response = requests.get(download_url)\n",
    "\n",
    "dist_path = os.path.join(os.getcwd(), 'data')\n",
    "zipfile = ZipFile(BytesIO(response.content))\n",
    "zipfile.extractall(path=dist_path)"
   ]
  },
  {
   "cell_type": "markdown",
   "id": "9ac003ec-5d02-44f7-b0e2-3ae88fbc2ebe",
   "metadata": {},
   "source": [
    "## обучение модели"
   ]
  },
  {
   "cell_type": "code",
   "execution_count": 1,
   "id": "51adbb3f-6f08-470d-8674-4ebad27a8786",
   "metadata": {
    "execution": {
     "iopub.execute_input": "2024-06-01T18:02:00.637653Z",
     "iopub.status.busy": "2024-06-01T18:02:00.636318Z",
     "iopub.status.idle": "2024-06-01T18:02:00.740425Z",
     "shell.execute_reply": "2024-06-01T18:02:00.739199Z",
     "shell.execute_reply.started": "2024-06-01T18:02:00.637599Z"
    },
    "tags": []
   },
   "outputs": [],
   "source": [
    "import pickle"
   ]
  },
  {
   "cell_type": "code",
   "execution_count": 2,
   "id": "318465db-1181-47db-90a7-fcaaa3fadb61",
   "metadata": {
    "execution": {
     "iopub.execute_input": "2024-06-01T18:02:00.744568Z",
     "iopub.status.busy": "2024-06-01T18:02:00.742693Z",
     "iopub.status.idle": "2024-06-01T18:02:00.786799Z",
     "shell.execute_reply": "2024-06-01T18:02:00.785463Z",
     "shell.execute_reply.started": "2024-06-01T18:02:00.744503Z"
    },
    "tags": []
   },
   "outputs": [],
   "source": [
    "import pandas as pd\n",
    "import matplotlib.pyplot as plt"
   ]
  },
  {
   "cell_type": "code",
   "execution_count": 3,
   "id": "da76b7ab-f885-4b9a-89ff-1a7402e79037",
   "metadata": {
    "execution": {
     "iopub.execute_input": "2024-06-01T18:02:00.789608Z",
     "iopub.status.busy": "2024-06-01T18:02:00.788186Z",
     "iopub.status.idle": "2024-06-01T18:02:18.119488Z",
     "shell.execute_reply": "2024-06-01T18:02:18.118221Z",
     "shell.execute_reply.started": "2024-06-01T18:02:00.789533Z"
    },
    "tags": []
   },
   "outputs": [
    {
     "name": "stderr",
     "output_type": "stream",
     "text": [
      "2024-06-01 18:02:04.734051: I tensorflow/core/platform/cpu_feature_guard.cc:182] This TensorFlow binary is optimized to use available CPU instructions in performance-critical operations.\n",
      "To enable the following instructions: AVX2 FMA, in other operations, rebuild TensorFlow with the appropriate compiler flags.\n",
      "2024-06-01 18:02:09.112313: W tensorflow/compiler/tf2tensorrt/utils/py_utils.cc:38] TF-TRT Warning: Could not find TensorRT\n"
     ]
    }
   ],
   "source": [
    "from tensorflow.keras.callbacks import EarlyStopping\n",
    "from tensorflow.keras.callbacks import ModelCheckpoint\n",
    "from tensorflow.keras.preprocessing.image import ImageDataGenerator\n",
    "from tensorflow.keras.losses import BinaryCrossentropy\n",
    "from tensorflow.keras import Sequential\n",
    "from tensorflow.keras.layers import Conv2D, Flatten, Dense, AvgPool2D, GlobalAveragePooling2D\n",
    "from tensorflow.keras.preprocessing.image import ImageDataGenerator\n",
    "from tensorflow.keras.applications.resnet import ResNet50\n",
    "from tensorflow.keras.optimizers import Adam\n",
    "from tensorflow.keras.metrics import Accuracy"
   ]
  },
  {
   "cell_type": "code",
   "execution_count": 4,
   "id": "80fea22c-e5cd-464e-9d66-07160cdb6567",
   "metadata": {
    "execution": {
     "iopub.execute_input": "2024-06-01T18:02:18.123557Z",
     "iopub.status.busy": "2024-06-01T18:02:18.121548Z",
     "iopub.status.idle": "2024-06-01T18:02:18.138078Z",
     "shell.execute_reply": "2024-06-01T18:02:18.136761Z",
     "shell.execute_reply.started": "2024-06-01T18:02:18.123498Z"
    },
    "tags": []
   },
   "outputs": [],
   "source": [
    "import os"
   ]
  },
  {
   "cell_type": "markdown",
   "id": "8ecd19ce",
   "metadata": {},
   "source": [
    "## НАСТРОЙКА"
   ]
  },
  {
   "cell_type": "code",
   "execution_count": 6,
   "id": "3b46727f-8e22-42ff-9bef-8467d8785955",
   "metadata": {
    "execution": {
     "iopub.execute_input": "2024-06-01T18:18:30.481876Z",
     "iopub.status.busy": "2024-06-01T18:18:30.480861Z",
     "iopub.status.idle": "2024-06-01T18:18:30.732622Z",
     "shell.execute_reply": "2024-06-01T18:18:30.731228Z",
     "shell.execute_reply.started": "2024-06-01T18:18:30.481819Z"
    },
    "tags": []
   },
   "outputs": [
    {
     "data": {
      "text/html": [
       "<div>\n",
       "<style scoped>\n",
       "    .dataframe tbody tr th:only-of-type {\n",
       "        vertical-align: middle;\n",
       "    }\n",
       "\n",
       "    .dataframe tbody tr th {\n",
       "        vertical-align: top;\n",
       "    }\n",
       "\n",
       "    .dataframe thead th {\n",
       "        text-align: right;\n",
       "    }\n",
       "</style>\n",
       "<table border=\"1\" class=\"dataframe\">\n",
       "  <thead>\n",
       "    <tr style=\"text-align: right;\">\n",
       "      <th></th>\n",
       "      <th>video_name</th>\n",
       "      <th>video_num</th>\n",
       "      <th>image_name</th>\n",
       "      <th>frame_duration</th>\n",
       "      <th>target</th>\n",
       "      <th>description</th>\n",
       "    </tr>\n",
       "  </thead>\n",
       "  <tbody>\n",
       "    <tr>\n",
       "      <th>0</th>\n",
       "      <td>0000000_00000020240221082923_0001_IMP (1).mp4</td>\n",
       "      <td>0</td>\n",
       "      <td>video_0_frame_0-01-33.03_flag_0_violation_0.jpg</td>\n",
       "      <td>0-01-33.03</td>\n",
       "      <td>0</td>\n",
       "      <td>NaN</td>\n",
       "    </tr>\n",
       "    <tr>\n",
       "      <th>1</th>\n",
       "      <td>0000000_00000020240221082923_0001_IMP (1).mp4</td>\n",
       "      <td>0</td>\n",
       "      <td>video_0_frame_0-01-33.09_flag_0_violation_0.jpg</td>\n",
       "      <td>0-01-33.09</td>\n",
       "      <td>0</td>\n",
       "      <td>NaN</td>\n",
       "    </tr>\n",
       "    <tr>\n",
       "      <th>2</th>\n",
       "      <td>0000000_00000020240221082923_0001_IMP (1).mp4</td>\n",
       "      <td>0</td>\n",
       "      <td>video_0_frame_0-01-33.19_flag_0_violation_0.jpg</td>\n",
       "      <td>0-01-33.19</td>\n",
       "      <td>0</td>\n",
       "      <td>NaN</td>\n",
       "    </tr>\n",
       "    <tr>\n",
       "      <th>3</th>\n",
       "      <td>0000000_00000020240221082923_0001_IMP (1).mp4</td>\n",
       "      <td>0</td>\n",
       "      <td>video_0_frame_0-01-33.26_flag_0_violation_0.jpg</td>\n",
       "      <td>0-01-33.26</td>\n",
       "      <td>0</td>\n",
       "      <td>NaN</td>\n",
       "    </tr>\n",
       "    <tr>\n",
       "      <th>4</th>\n",
       "      <td>0000000_00000020240221082923_0001_IMP (1).mp4</td>\n",
       "      <td>0</td>\n",
       "      <td>video_0_frame_0-01-33.36_flag_0_violation_0.jpg</td>\n",
       "      <td>0-01-33.36</td>\n",
       "      <td>0</td>\n",
       "      <td>NaN</td>\n",
       "    </tr>\n",
       "    <tr>\n",
       "      <th>...</th>\n",
       "      <td>...</td>\n",
       "      <td>...</td>\n",
       "      <td>...</td>\n",
       "      <td>...</td>\n",
       "      <td>...</td>\n",
       "      <td>...</td>\n",
       "    </tr>\n",
       "    <tr>\n",
       "      <th>11131</th>\n",
       "      <td>VID-20240301-WA0023.mp4</td>\n",
       "      <td>15</td>\n",
       "      <td>video_15_frame_0-02-22.61_flag_1_violation_33.jpg</td>\n",
       "      <td>0-02-22.61</td>\n",
       "      <td>1</td>\n",
       "      <td>залезает под поезд</td>\n",
       "    </tr>\n",
       "    <tr>\n",
       "      <th>11132</th>\n",
       "      <td>VID-20240301-WA0023.mp4</td>\n",
       "      <td>15</td>\n",
       "      <td>video_15_frame_0-02-22.68_flag_1_violation_33.jpg</td>\n",
       "      <td>0-02-22.68</td>\n",
       "      <td>1</td>\n",
       "      <td>залезает под поезд</td>\n",
       "    </tr>\n",
       "    <tr>\n",
       "      <th>11133</th>\n",
       "      <td>VID-20240301-WA0023.mp4</td>\n",
       "      <td>15</td>\n",
       "      <td>video_15_frame_0-02-22.78_flag_1_violation_33.jpg</td>\n",
       "      <td>0-02-22.78</td>\n",
       "      <td>1</td>\n",
       "      <td>залезает под поезд</td>\n",
       "    </tr>\n",
       "    <tr>\n",
       "      <th>11134</th>\n",
       "      <td>VID-20240301-WA0023.mp4</td>\n",
       "      <td>15</td>\n",
       "      <td>video_15_frame_0-02-22.84_flag_1_violation_33.jpg</td>\n",
       "      <td>0-02-22.84</td>\n",
       "      <td>1</td>\n",
       "      <td>залезает под поезд</td>\n",
       "    </tr>\n",
       "    <tr>\n",
       "      <th>11135</th>\n",
       "      <td>VID-20240301-WA0023.mp4</td>\n",
       "      <td>15</td>\n",
       "      <td>video_15_frame_0-02-22.94_flag_1_violation_33.jpg</td>\n",
       "      <td>0-02-22.94</td>\n",
       "      <td>1</td>\n",
       "      <td>залезает под поезд</td>\n",
       "    </tr>\n",
       "  </tbody>\n",
       "</table>\n",
       "<p>11136 rows × 6 columns</p>\n",
       "</div>"
      ],
      "text/plain": [
       "                                          video_name  ...         description\n",
       "0      0000000_00000020240221082923_0001_IMP (1).mp4  ...                 NaN\n",
       "1      0000000_00000020240221082923_0001_IMP (1).mp4  ...                 NaN\n",
       "2      0000000_00000020240221082923_0001_IMP (1).mp4  ...                 NaN\n",
       "3      0000000_00000020240221082923_0001_IMP (1).mp4  ...                 NaN\n",
       "4      0000000_00000020240221082923_0001_IMP (1).mp4  ...                 NaN\n",
       "...                                              ...  ...                 ...\n",
       "11131                        VID-20240301-WA0023.mp4  ...  залезает под поезд\n",
       "11132                        VID-20240301-WA0023.mp4  ...  залезает под поезд\n",
       "11133                        VID-20240301-WA0023.mp4  ...  залезает под поезд\n",
       "11134                        VID-20240301-WA0023.mp4  ...  залезает под поезд\n",
       "11135                        VID-20240301-WA0023.mp4  ...  залезает под поезд\n",
       "\n",
       "[11136 rows x 6 columns]"
      ]
     },
     "execution_count": 6,
     "metadata": {},
     "output_type": "execute_result"
    }
   ],
   "source": [
    "pd.read_csv(os.path.join(os.getcwd(), 'image_result_info.csv'), index_col=[0])"
   ]
  },
  {
   "cell_type": "code",
   "execution_count": 10,
   "id": "7b316ad3",
   "metadata": {
    "execution": {
     "iopub.execute_input": "2024-06-01T18:37:40.910918Z",
     "iopub.status.busy": "2024-06-01T18:37:40.909387Z",
     "iopub.status.idle": "2024-06-01T18:37:40.929508Z",
     "shell.execute_reply": "2024-06-01T18:37:40.928163Z",
     "shell.execute_reply.started": "2024-06-01T18:37:40.910876Z"
    },
    "tags": []
   },
   "outputs": [],
   "source": [
    "TARGET_NAME = 'target' #колонка с таргетом в датасете\n",
    "IMAGES_DIR = os.path.join(os.getcwd(), 'data', 'train', 'images') #папка с картинками\n",
    "DATASET_PATH = os.path.join(os.getcwd(), 'image_result_info.csv') #путь к датасету полный\n",
    "FILENAME_COL = 'image_name' #колонка с именем файла в датасете\n",
    "TARGET_SIZE = (224, 224) #tuple, размер ресайзинга\n",
    "BATCH_SIZE = 32 #размер батча\n",
    "EPOCHS = 100 #кол-во эпох\n",
    "#STEPS_PER_EPOCH = #шаги за эпоху\n",
    "#VALIDATION_STEPS = #шаги валидации\n",
    "INUT_SHAPE = (TARGET_SIZE[0], TARGET_SIZE[1] ,3)#размер входа для резнет\n",
    "LEARNING_RATE=0.0001"
   ]
  },
  {
   "cell_type": "code",
   "execution_count": 11,
   "id": "b4b9d344",
   "metadata": {
    "execution": {
     "iopub.execute_input": "2024-06-01T18:37:41.014742Z",
     "iopub.status.busy": "2024-06-01T18:37:41.013934Z",
     "iopub.status.idle": "2024-06-01T18:37:41.042871Z",
     "shell.execute_reply": "2024-06-01T18:37:41.041577Z",
     "shell.execute_reply.started": "2024-06-01T18:37:41.014687Z"
    },
    "tags": []
   },
   "outputs": [],
   "source": [
    "optimizer = Adam(learning_rate=LEARNING_RATE)\n",
    "\n",
    "\n",
    "def load_train():\n",
    "    train_datagen = ImageDataGenerator(rescale=1. / 255,\n",
    "                                       validation_split=0.25,\n",
    "                                       horizontal_flip=True,\n",
    "                                       rotation_range=30,)\n",
    "    train_gen_flow = train_datagen.flow_from_dataframe(\n",
    "        dataframe=pd.read_csv(DATASET_PATH),\n",
    "        directory=IMAGES_DIR,\n",
    "        x_col=FILENAME_COL,\n",
    "        y_col=TARGET_NAME,\n",
    "        target_size=TARGET_SIZE,\n",
    "        batch_size=BATCH_SIZE,\n",
    "        class_mode='raw',\n",
    "        subset='training',\n",
    "        seed=12345)\n",
    "\n",
    "    return train_gen_flow\n",
    "\n",
    "def load_test():\n",
    "    test_datagen = ImageDataGenerator(rescale=1. / 255,\n",
    "                                       validation_split=0.25,\n",
    "                                       horizontal_flip=True,\n",
    "                                       rotation_range=30,)\n",
    "    test_gen_flow = test_datagen.flow_from_dataframe(\n",
    "        dataframe=pd.read_csv(DATASET_PATH),\n",
    "        directory=IMAGES_DIR,\n",
    "        x_col=FILENAME_COL,\n",
    "        y_col=TARGET_NAME,\n",
    "        target_size=TARGET_SIZE,\n",
    "        batch_size=BATCH_SIZE,\n",
    "        class_mode='raw',\n",
    "        subset='validation',\n",
    "        seed=12345)\n",
    "\n",
    "    return test_gen_flow\n",
    "\n",
    "def create_model(input_shape):\n",
    "    backbone = ResNet50(input_shape=input_shape,\n",
    "                        weights='imagenet',\n",
    "                        include_top=False)\n",
    "    \n",
    "    backbone.trainable = False\n",
    "\n",
    "    model = Sequential()\n",
    "    model.add(backbone)\n",
    "    #новая голова\n",
    "    model.add(GlobalAveragePooling2D())\n",
    "    model.add(Dense(units=1000, activation='relu'))\n",
    "    model.add(Dense(units=1000, activation='relu'))\n",
    "    model.add(Dense(units=1, activation='sigmoid'))\n",
    "    model.compile(loss=BinaryCrossentropy(), optimizer=optimizer,\n",
    "                  metrics=['accuracy'])\n",
    "\n",
    "    return model\n",
    "\n",
    "def train_model(model, train_data, test_data, batch_size=None, epochs=10,\n",
    "                steps_per_epoch=None, validation_steps=None):\n",
    "    \n",
    "    early_stopping = EarlyStopping(monitor='val_loss', patience=10)\n",
    "    checkpoint_filepath = os.path.join(os.getcwd(), 'ckpt', 'checkpoint.model.keras')\n",
    "    model_checkpoint_callback = ModelCheckpoint(\n",
    "        filepath=checkpoint_filepath,\n",
    "        monitor='val_loss',\n",
    "        mode='max',\n",
    "        save_best_only=True\n",
    "    )\n",
    "\n",
    "    if steps_per_epoch is None:\n",
    "        steps_per_epoch = len(train_data)\n",
    "    if validation_steps is None:\n",
    "        validation_steps = len(test_data)\n",
    "    history = model.fit(train_data,\n",
    "              validation_data=test_data,\n",
    "              batch_size=batch_size,\n",
    "              steps_per_epoch=steps_per_epoch,\n",
    "              validation_steps=validation_steps,\n",
    "              verbose=2, epochs=epochs, shuffle=True,\n",
    "              callbacks = [early_stopping, model_checkpoint_callback])\n",
    "\n",
    "    return model, history\n"
   ]
  },
  {
   "cell_type": "code",
   "execution_count": 12,
   "id": "41318eaf",
   "metadata": {
    "execution": {
     "iopub.execute_input": "2024-06-01T18:37:41.068395Z",
     "iopub.status.busy": "2024-06-01T18:37:41.067177Z",
     "iopub.status.idle": "2024-06-01T20:50:16.596141Z",
     "shell.execute_reply": "2024-06-01T20:50:16.594811Z",
     "shell.execute_reply.started": "2024-06-01T18:37:41.068351Z"
    },
    "tags": []
   },
   "outputs": [
    {
     "name": "stdout",
     "output_type": "stream",
     "text": [
      "Found 8352 validated image filenames.\n",
      "Found 2784 validated image filenames.\n"
     ]
    },
    {
     "name": "stderr",
     "output_type": "stream",
     "text": [
      "2024-06-01 18:37:46.740567: I tensorflow/core/common_runtime/executor.cc:1197] [/device:CPU:0] (DEBUG INFO) Executor start aborting (this does not indicate an error and you can ignore this message): INVALID_ARGUMENT: You must feed a value for placeholder tensor 'Placeholder/_0' with dtype int32\n",
      "\t [[{{node Placeholder/_0}}]]\n"
     ]
    },
    {
     "name": "stdout",
     "output_type": "stream",
     "text": [
      "Epoch 1/100\n"
     ]
    },
    {
     "name": "stderr",
     "output_type": "stream",
     "text": [
      "2024-06-01 18:40:38.926337: I tensorflow/core/common_runtime/executor.cc:1197] [/device:CPU:0] (DEBUG INFO) Executor start aborting (this does not indicate an error and you can ignore this message): INVALID_ARGUMENT: You must feed a value for placeholder tensor 'Placeholder/_0' with dtype int32\n",
      "\t [[{{node Placeholder/_0}}]]\n"
     ]
    },
    {
     "name": "stdout",
     "output_type": "stream",
     "text": [
      "261/261 - 242s - loss: 0.5795 - accuracy: 0.7261 - val_loss: 0.5930 - val_accuracy: 0.7399 - 242s/epoch - 926ms/step\n",
      "Epoch 2/100\n",
      "261/261 - 231s - loss: 0.5391 - accuracy: 0.7354 - val_loss: 0.5593 - val_accuracy: 0.7399 - 231s/epoch - 885ms/step\n",
      "Epoch 3/100\n",
      "261/261 - 236s - loss: 0.5123 - accuracy: 0.7499 - val_loss: 0.5385 - val_accuracy: 0.7399 - 236s/epoch - 903ms/step\n",
      "Epoch 4/100\n",
      "261/261 - 237s - loss: 0.4890 - accuracy: 0.7639 - val_loss: 0.5494 - val_accuracy: 0.7399 - 237s/epoch - 907ms/step\n",
      "Epoch 5/100\n",
      "261/261 - 232s - loss: 0.4757 - accuracy: 0.7681 - val_loss: 0.5258 - val_accuracy: 0.7554 - 232s/epoch - 888ms/step\n",
      "Epoch 6/100\n",
      "261/261 - 232s - loss: 0.4603 - accuracy: 0.7774 - val_loss: 0.5098 - val_accuracy: 0.7496 - 232s/epoch - 887ms/step\n",
      "Epoch 7/100\n",
      "261/261 - 234s - loss: 0.4394 - accuracy: 0.7893 - val_loss: 0.5466 - val_accuracy: 0.7453 - 234s/epoch - 896ms/step\n",
      "Epoch 8/100\n",
      "261/261 - 233s - loss: 0.4347 - accuracy: 0.7888 - val_loss: 0.5138 - val_accuracy: 0.7626 - 233s/epoch - 894ms/step\n",
      "Epoch 9/100\n",
      "261/261 - 236s - loss: 0.4208 - accuracy: 0.7954 - val_loss: 0.5120 - val_accuracy: 0.7665 - 236s/epoch - 905ms/step\n",
      "Epoch 10/100\n",
      "261/261 - 234s - loss: 0.4281 - accuracy: 0.7919 - val_loss: 0.5487 - val_accuracy: 0.7529 - 234s/epoch - 896ms/step\n",
      "Epoch 11/100\n",
      "261/261 - 234s - loss: 0.4104 - accuracy: 0.8022 - val_loss: 0.5553 - val_accuracy: 0.7453 - 234s/epoch - 897ms/step\n",
      "Epoch 12/100\n",
      "261/261 - 235s - loss: 0.3923 - accuracy: 0.8071 - val_loss: 0.4940 - val_accuracy: 0.7644 - 235s/epoch - 902ms/step\n",
      "Epoch 13/100\n",
      "261/261 - 235s - loss: 0.3954 - accuracy: 0.8107 - val_loss: 0.5427 - val_accuracy: 0.7547 - 235s/epoch - 900ms/step\n",
      "Epoch 14/100\n",
      "261/261 - 234s - loss: 0.3877 - accuracy: 0.8087 - val_loss: 0.5229 - val_accuracy: 0.7486 - 234s/epoch - 897ms/step\n",
      "Epoch 15/100\n",
      "261/261 - 233s - loss: 0.3796 - accuracy: 0.8163 - val_loss: 0.5507 - val_accuracy: 0.7317 - 233s/epoch - 893ms/step\n",
      "Epoch 16/100\n",
      "261/261 - 230s - loss: 0.3793 - accuracy: 0.8166 - val_loss: 0.5806 - val_accuracy: 0.6810 - 230s/epoch - 882ms/step\n",
      "Epoch 17/100\n",
      "261/261 - 233s - loss: 0.3687 - accuracy: 0.8230 - val_loss: 0.5795 - val_accuracy: 0.6771 - 233s/epoch - 892ms/step\n",
      "Epoch 18/100\n",
      "261/261 - 234s - loss: 0.3646 - accuracy: 0.8217 - val_loss: 0.4982 - val_accuracy: 0.7647 - 234s/epoch - 898ms/step\n",
      "Epoch 19/100\n",
      "261/261 - 234s - loss: 0.3608 - accuracy: 0.8265 - val_loss: 0.4828 - val_accuracy: 0.7766 - 234s/epoch - 897ms/step\n",
      "Epoch 20/100\n",
      "261/261 - 236s - loss: 0.3616 - accuracy: 0.8256 - val_loss: 0.5153 - val_accuracy: 0.7478 - 236s/epoch - 905ms/step\n",
      "Epoch 21/100\n",
      "261/261 - 237s - loss: 0.3594 - accuracy: 0.8236 - val_loss: 0.6210 - val_accuracy: 0.6290 - 237s/epoch - 906ms/step\n",
      "Epoch 22/100\n",
      "261/261 - 234s - loss: 0.3468 - accuracy: 0.8355 - val_loss: 0.5461 - val_accuracy: 0.7346 - 234s/epoch - 898ms/step\n",
      "Epoch 23/100\n",
      "261/261 - 232s - loss: 0.3566 - accuracy: 0.8312 - val_loss: 0.5038 - val_accuracy: 0.7680 - 232s/epoch - 888ms/step\n",
      "Epoch 24/100\n",
      "261/261 - 232s - loss: 0.3369 - accuracy: 0.8384 - val_loss: 0.4799 - val_accuracy: 0.7651 - 232s/epoch - 887ms/step\n",
      "Epoch 25/100\n",
      "261/261 - 231s - loss: 0.3388 - accuracy: 0.8385 - val_loss: 0.4893 - val_accuracy: 0.7672 - 231s/epoch - 884ms/step\n",
      "Epoch 26/100\n",
      "261/261 - 234s - loss: 0.3388 - accuracy: 0.8397 - val_loss: 0.5897 - val_accuracy: 0.6893 - 234s/epoch - 898ms/step\n",
      "Epoch 27/100\n",
      "261/261 - 234s - loss: 0.3220 - accuracy: 0.8526 - val_loss: 0.5175 - val_accuracy: 0.7443 - 234s/epoch - 897ms/step\n",
      "Epoch 28/100\n",
      "261/261 - 235s - loss: 0.3279 - accuracy: 0.8466 - val_loss: 0.5354 - val_accuracy: 0.7410 - 235s/epoch - 899ms/step\n",
      "Epoch 29/100\n",
      "261/261 - 235s - loss: 0.3305 - accuracy: 0.8451 - val_loss: 0.6444 - val_accuracy: 0.6135 - 235s/epoch - 902ms/step\n",
      "Epoch 30/100\n",
      "261/261 - 232s - loss: 0.3281 - accuracy: 0.8459 - val_loss: 0.5063 - val_accuracy: 0.7590 - 232s/epoch - 887ms/step\n",
      "Epoch 31/100\n",
      "261/261 - 230s - loss: 0.3204 - accuracy: 0.8518 - val_loss: 0.5411 - val_accuracy: 0.7299 - 230s/epoch - 881ms/step\n",
      "Epoch 32/100\n",
      "261/261 - 235s - loss: 0.3155 - accuracy: 0.8512 - val_loss: 0.6524 - val_accuracy: 0.6096 - 235s/epoch - 900ms/step\n",
      "Epoch 33/100\n",
      "261/261 - 234s - loss: 0.3173 - accuracy: 0.8508 - val_loss: 0.5521 - val_accuracy: 0.7098 - 234s/epoch - 895ms/step\n",
      "Epoch 34/100\n",
      "261/261 - 231s - loss: 0.3199 - accuracy: 0.8502 - val_loss: 0.4878 - val_accuracy: 0.7662 - 231s/epoch - 885ms/step\n"
     ]
    }
   ],
   "source": [
    "model, history = train_model(\n",
    "    create_model(INUT_SHAPE),\n",
    "    load_train(),\n",
    "    load_test(),\n",
    "    batch_size=BATCH_SIZE,\n",
    "    epochs=EPOCHS,\n",
    "    #steps_per_epoch=STEPS_PER_EPOCH,\n",
    "    #validation_steps=VALIDATION_STEPS\n",
    "    )"
   ]
  },
  {
   "cell_type": "code",
   "execution_count": 13,
   "id": "c852a7f5",
   "metadata": {
    "execution": {
     "iopub.execute_input": "2024-06-01T20:50:16.600111Z",
     "iopub.status.busy": "2024-06-01T20:50:16.598782Z",
     "iopub.status.idle": "2024-06-01T20:50:19.052106Z",
     "shell.execute_reply": "2024-06-01T20:50:19.050429Z",
     "shell.execute_reply.started": "2024-06-01T20:50:16.600041Z"
    },
    "tags": []
   },
   "outputs": [],
   "source": [
    "pickle.dump(model, open('baseline.pkl', 'wb'))"
   ]
  },
  {
   "cell_type": "code",
   "execution_count": 14,
   "id": "baf0e143",
   "metadata": {
    "execution": {
     "iopub.execute_input": "2024-06-01T20:50:19.054211Z",
     "iopub.status.busy": "2024-06-01T20:50:19.053457Z",
     "iopub.status.idle": "2024-06-01T20:50:19.346754Z",
     "shell.execute_reply": "2024-06-01T20:50:19.345557Z",
     "shell.execute_reply.started": "2024-06-01T20:50:19.054151Z"
    },
    "tags": []
   },
   "outputs": [
    {
     "data": {
      "image/png": "[encoded data removed]",
      "text/plain": [
       "<Figure size 640x480 with 1 Axes>"
      ]
     },
     "metadata": {},
     "output_type": "display_data"
    }
   ],
   "source": [
    "loss_train_curve = history.history[\"loss\"]\n",
    "loss_val_curve = history.history[\"val_loss\"]\n",
    "plt.plot(loss_train_curve, label = \"Train\")\n",
    "plt.plot(loss_val_curve, label = \"Validation\")\n",
    "plt.legend(loc = 'upper right')\n",
    "plt.title(\"Loss\")\n",
    "plt.show()"
   ]
  },
  {
   "cell_type": "code",
   "execution_count": 15,
   "id": "ef9883ec",
   "metadata": {
    "execution": {
     "iopub.execute_input": "2024-06-01T20:50:19.349656Z",
     "iopub.status.busy": "2024-06-01T20:50:19.349025Z",
     "iopub.status.idle": "2024-06-01T20:50:19.608125Z",
     "shell.execute_reply": "2024-06-01T20:50:19.606817Z",
     "shell.execute_reply.started": "2024-06-01T20:50:19.349596Z"
    },
    "tags": []
   },
   "outputs": [
    {
     "data": {
      "image/png": "[encoded data removed]",
      "text/plain": [
       "<Figure size 640x480 with 1 Axes>"
      ]
     },
     "metadata": {},
     "output_type": "display_data"
    }
   ],
   "source": [
    "acc_train_curve = history.history[\"accuracy\"]\n",
    "acc_val_curve = history.history[\"val_accuracy\"]\n",
    "plt.plot(acc_train_curve, label = \"Train\")\n",
    "plt.plot(acc_val_curve, label = \"Validation\")\n",
    "plt.legend(loc = 'lower right')\n",
    "plt.title(\"Accuracy\")\n",
    "plt.show()"
   ]
  },
  {
   "cell_type": "code",
   "execution_count": null,
   "id": "5f5a6098-98fb-4878-8746-aed94379a079",
   "metadata": {},
   "outputs": [],
   "source": []
  }
 ],
 "metadata": {
  "kernelspec": {
   "display_name": "DataSphere Kernel",
   "language": "python",
   "name": "python3"
  },
  "language_info": {
   "codemirror_mode": {
    "name": "ipython",
    "version": 3
   },
   "file_extension": ".py",
   "mimetype": "text/x-python",
   "name": "python",
   "nbconvert_exporter": "python",
   "pygments_lexer": "ipython3",
   "version": "3.10.12"
  }
 },
 "nbformat": 4,
 "nbformat_minor": 5
}
